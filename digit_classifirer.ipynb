{
 "cells": [
  {
   "cell_type": "code",
   "execution_count": 1,
   "id": "1fee8436",
   "metadata": {},
   "outputs": [],
   "source": [
    "%matplotlib inline\n",
    "import matplotlib.pyplot as plt\n",
    "from sklearn.datasets import load_digits"
   ]
  },
  {
   "cell_type": "code",
   "execution_count": 2,
   "id": "96ff93bd",
   "metadata": {},
   "outputs": [],
   "source": [
    "digits=load_digits()"
   ]
  },
  {
   "cell_type": "code",
   "execution_count": 3,
   "id": "a6aa79b1",
   "metadata": {},
   "outputs": [
    {
     "data": {
      "text/plain": [
       "['DESCR', 'data', 'feature_names', 'frame', 'images', 'target', 'target_names']"
      ]
     },
     "execution_count": 3,
     "metadata": {},
     "output_type": "execute_result"
    }
   ],
   "source": [
    "dir(digits)"
   ]
  },
  {
   "cell_type": "code",
   "execution_count": 4,
   "id": "f30ed173",
   "metadata": {},
   "outputs": [
    {
     "data": {
      "text/plain": [
       "array([[ 0.,  0.,  5., ...,  0.,  0.,  0.],\n",
       "       [ 0.,  0.,  0., ..., 10.,  0.,  0.],\n",
       "       [ 0.,  0.,  0., ..., 16.,  9.,  0.],\n",
       "       ...,\n",
       "       [ 0.,  0.,  1., ...,  6.,  0.,  0.],\n",
       "       [ 0.,  0.,  2., ..., 12.,  0.,  0.],\n",
       "       [ 0.,  0., 10., ..., 12.,  1.,  0.]])"
      ]
     },
     "execution_count": 4,
     "metadata": {},
     "output_type": "execute_result"
    }
   ],
   "source": [
    "digits.data"
   ]
  },
  {
   "cell_type": "code",
   "execution_count": 6,
   "id": "40924c59",
   "metadata": {},
   "outputs": [
    {
     "data": {
      "text/plain": [
       "array([ 0.,  0.,  5., 13.,  9.,  1.,  0.,  0.,  0.,  0., 13., 15., 10.,\n",
       "       15.,  5.,  0.,  0.,  3., 15.,  2.,  0., 11.,  8.,  0.,  0.,  4.,\n",
       "       12.,  0.,  0.,  8.,  8.,  0.,  0.,  5.,  8.,  0.,  0.,  9.,  8.,\n",
       "        0.,  0.,  4., 11.,  0.,  1., 12.,  7.,  0.,  0.,  2., 14.,  5.,\n",
       "       10., 12.,  0.,  0.,  0.,  0.,  6., 13., 10.,  0.,  0.,  0.])"
      ]
     },
     "execution_count": 6,
     "metadata": {},
     "output_type": "execute_result"
    }
   ],
   "source": [
    "digits.data[0]"
   ]
  },
  {
   "cell_type": "code",
   "execution_count": 7,
   "id": "a399cf23",
   "metadata": {},
   "outputs": [
    {
     "data": {
      "text/plain": [
       "array([[[ 0.,  0.,  5., ...,  1.,  0.,  0.],\n",
       "        [ 0.,  0., 13., ..., 15.,  5.,  0.],\n",
       "        [ 0.,  3., 15., ..., 11.,  8.,  0.],\n",
       "        ...,\n",
       "        [ 0.,  4., 11., ..., 12.,  7.,  0.],\n",
       "        [ 0.,  2., 14., ..., 12.,  0.,  0.],\n",
       "        [ 0.,  0.,  6., ...,  0.,  0.,  0.]],\n",
       "\n",
       "       [[ 0.,  0.,  0., ...,  5.,  0.,  0.],\n",
       "        [ 0.,  0.,  0., ...,  9.,  0.,  0.],\n",
       "        [ 0.,  0.,  3., ...,  6.,  0.,  0.],\n",
       "        ...,\n",
       "        [ 0.,  0.,  1., ...,  6.,  0.,  0.],\n",
       "        [ 0.,  0.,  1., ...,  6.,  0.,  0.],\n",
       "        [ 0.,  0.,  0., ..., 10.,  0.,  0.]],\n",
       "\n",
       "       [[ 0.,  0.,  0., ..., 12.,  0.,  0.],\n",
       "        [ 0.,  0.,  3., ..., 14.,  0.,  0.],\n",
       "        [ 0.,  0.,  8., ..., 16.,  0.,  0.],\n",
       "        ...,\n",
       "        [ 0.,  9., 16., ...,  0.,  0.,  0.],\n",
       "        [ 0.,  3., 13., ..., 11.,  5.,  0.],\n",
       "        [ 0.,  0.,  0., ..., 16.,  9.,  0.]],\n",
       "\n",
       "       ...,\n",
       "\n",
       "       [[ 0.,  0.,  1., ...,  1.,  0.,  0.],\n",
       "        [ 0.,  0., 13., ...,  2.,  1.,  0.],\n",
       "        [ 0.,  0., 16., ..., 16.,  5.,  0.],\n",
       "        ...,\n",
       "        [ 0.,  0., 16., ..., 15.,  0.,  0.],\n",
       "        [ 0.,  0., 15., ..., 16.,  0.,  0.],\n",
       "        [ 0.,  0.,  2., ...,  6.,  0.,  0.]],\n",
       "\n",
       "       [[ 0.,  0.,  2., ...,  0.,  0.,  0.],\n",
       "        [ 0.,  0., 14., ..., 15.,  1.,  0.],\n",
       "        [ 0.,  4., 16., ..., 16.,  7.,  0.],\n",
       "        ...,\n",
       "        [ 0.,  0.,  0., ..., 16.,  2.,  0.],\n",
       "        [ 0.,  0.,  4., ..., 16.,  2.,  0.],\n",
       "        [ 0.,  0.,  5., ..., 12.,  0.,  0.]],\n",
       "\n",
       "       [[ 0.,  0., 10., ...,  1.,  0.,  0.],\n",
       "        [ 0.,  2., 16., ...,  1.,  0.,  0.],\n",
       "        [ 0.,  0., 15., ..., 15.,  0.,  0.],\n",
       "        ...,\n",
       "        [ 0.,  4., 16., ..., 16.,  6.,  0.],\n",
       "        [ 0.,  8., 16., ..., 16.,  8.,  0.],\n",
       "        [ 0.,  1.,  8., ..., 12.,  1.,  0.]]])"
      ]
     },
     "execution_count": 7,
     "metadata": {},
     "output_type": "execute_result"
    }
   ],
   "source": [
    "digits.images"
   ]
  },
  {
   "cell_type": "code",
   "execution_count": 8,
   "id": "59b8127c",
   "metadata": {},
   "outputs": [
    {
     "data": {
      "text/plain": [
       "<matplotlib.image.AxesImage at 0x1037cfd22e0>"
      ]
     },
     "execution_count": 8,
     "metadata": {},
     "output_type": "execute_result"
    },
    {
     "data": {
      "image/png": "[encoded data removed]",
      "text/plain": [
       "<Figure size 288x288 with 1 Axes>"
      ]
     },
     "metadata": {
      "needs_background": "light"
     },
     "output_type": "display_data"
    }
   ],
   "source": [
    "plt.gray\n",
    "plt.matshow(digits.images[0])"
   ]
  },
  {
   "cell_type": "code",
   "execution_count": 12,
   "id": "3369454c",
   "metadata": {},
   "outputs": [
    {
     "data": {
      "image/png": "[encoded data removed]",
      "text/plain": [
       "<Figure size 288x288 with 1 Axes>"
      ]
     },
     "metadata": {
      "needs_background": "light"
     },
     "output_type": "display_data"
    },
    {
     "data": {
      "image/png": "[encoded data removed]",
      "text/plain": [
       "<Figure size 288x288 with 1 Axes>"
      ]
     },
     "metadata": {
      "needs_background": "light"
     },
     "output_type": "display_data"
    },
    {
     "data": {
      "image/png": "[encoded data removed]",
      "text/plain": [
       "<Figure size 288x288 with 1 Axes>"
      ]
     },
     "metadata": {
      "needs_background": "light"
     },
     "output_type": "display_data"
    },
    {
     "data": {
      "image/png": "[encoded data removed]",
      "text/plain": [
       "<Figure size 288x288 with 1 Axes>"
      ]
     },
     "metadata": {
      "needs_background": "light"
     },
     "output_type": "display_data"
    },
    {
     "data": {
      "image/png": "[encoded data removed]",
      "text/plain": [
       "<Figure size 288x288 with 1 Axes>"
      ]
     },
     "metadata": {
      "needs_background": "light"
     },
     "output_type": "display_data"
    }
   ],
   "source": [
    "\n",
    "for i in range(5):\n",
    "    plt.matshow(digits.images[i])"
   ]
  },
  {
   "cell_type": "code",
   "execution_count": 13,
   "id": "98915a7a",
   "metadata": {},
   "outputs": [
    {
     "data": {
      "text/plain": [
       "array([0, 1, 2, 3, 4])"
      ]
     },
     "execution_count": 13,
     "metadata": {},
     "output_type": "execute_result"
    }
   ],
   "source": [
    "digits.target[0:5]"
   ]
  },
  {
   "cell_type": "code",
   "execution_count": 14,
   "id": "0474b666",
   "metadata": {},
   "outputs": [],
   "source": [
    "from sklearn.model_selection import train_test_split"
   ]
  },
  {
   "cell_type": "code",
   "execution_count": 40,
   "id": "a8279bcd",
   "metadata": {},
   "outputs": [],
   "source": [
    "X_train,X_test,Y_train,Y_test=train_test_split(digits.data,digits.target,test_size=0.1)"
   ]
  },
  {
   "cell_type": "code",
   "execution_count": 41,
   "id": "cb365d93",
   "metadata": {},
   "outputs": [],
   "source": [
    "from sklearn.linear_model import LogisticRegression\n",
    "model=LogisticRegression()"
   ]
  },
  {
   "cell_type": "code",
   "execution_count": 42,
   "id": "7a60ac26",
   "metadata": {},
   "outputs": [
    {
     "name": "stderr",
     "output_type": "stream",
     "text": [
      "c:\\users\\asus\\appdata\\local\\programs\\python\\python39\\lib\\site-packages\\sklearn\\linear_model\\_logistic.py:763: ConvergenceWarning: lbfgs failed to converge (status=1):\n",
      "STOP: TOTAL NO. of ITERATIONS REACHED LIMIT.\n",
      "\n",
      "Increase the number of iterations (max_iter) or scale the data as shown in:\n",
      "    https://scikit-learn.org/stable/modules/preprocessing.html\n",
      "Please also refer to the documentation for alternative solver options:\n",
      "    https://scikit-learn.org/stable/modules/linear_model.html#logistic-regression\n",
      "  n_iter_i = _check_optimize_result(\n"
     ]
    },
    {
     "data": {
      "text/plain": [
       "LogisticRegression()"
      ]
     },
     "execution_count": 42,
     "metadata": {},
     "output_type": "execute_result"
    }
   ],
   "source": [
    "model.fit(X_train,Y_train)"
   ]
  },
  {
   "cell_type": "code",
   "execution_count": 43,
   "id": "e9bbaeae",
   "metadata": {},
   "outputs": [
    {
     "data": {
      "text/plain": [
       "0.9444444444444444"
      ]
     },
     "execution_count": 43,
     "metadata": {},
     "output_type": "execute_result"
    }
   ],
   "source": [
    "model.score(X_test,Y_test)"
   ]
  },
  {
   "cell_type": "code",
   "execution_count": 44,
   "id": "a2a478ed",
   "metadata": {},
   "outputs": [
    {
     "data": {
      "text/plain": [
       "array([9, 0, 4, 8, 3, 1, 0, 9, 2, 2, 6, 4, 3, 4, 8, 3, 1, 1, 2, 0, 6, 7,\n",
       "       2, 4, 1, 1, 3, 3, 0, 8, 4, 9, 3, 6, 1, 7, 9, 4, 2, 9, 0, 5, 5, 4,\n",
       "       7, 5, 6, 3, 9, 6, 3, 3, 1, 8, 1, 3, 5, 4, 7, 2, 1, 0, 6, 3, 8, 7,\n",
       "       1, 1, 7, 5, 2, 6, 8, 3, 5, 8, 2, 7, 8, 6, 0, 8, 0, 3, 3, 8, 2, 4,\n",
       "       0, 8, 8, 7, 9, 7, 8, 3, 1, 1, 4, 5, 0, 1, 9, 6, 6, 4, 1, 5, 4, 6,\n",
       "       0, 3, 4, 5, 3, 8, 0, 5, 8, 1, 1, 2, 2, 4, 0, 6, 2, 5, 2, 9, 7, 6,\n",
       "       7, 6, 9, 0, 0, 1, 8, 8, 8, 1, 2, 2, 0, 2, 1, 4, 0, 1, 3, 2, 4, 0,\n",
       "       3, 7, 7, 5, 2, 1, 2, 7, 0, 0, 5, 0, 5, 4, 4, 6, 2, 2, 9, 7, 8, 2,\n",
       "       6, 6, 0, 9])"
      ]
     },
     "execution_count": 44,
     "metadata": {},
     "output_type": "execute_result"
    }
   ],
   "source": [
    "model.predict(X_test)"
   ]
  },
  {
   "cell_type": "code",
   "execution_count": 46,
   "id": "1c6d8516",
   "metadata": {},
   "outputs": [
    {
     "data": {
      "text/plain": [
       "<matplotlib.image.AxesImage at 0x1037f591940>"
      ]
     },
     "execution_count": 46,
     "metadata": {},
     "output_type": "execute_result"
    },
    {
     "data": {
      "image/png": "[encoded data removed]",
      "text/plain": [
       "<Figure size 288x288 with 1 Axes>"
      ]
     },
     "metadata": {
      "needs_background": "light"
     },
     "output_type": "display_data"
    }
   ],
   "source": [
    "plt.matshow(digits.images[80])"
   ]
  },
  {
   "cell_type": "code",
   "execution_count": 47,
   "id": "718cdad7",
   "metadata": {},
   "outputs": [
    {
     "data": {
      "text/plain": [
       "1"
      ]
     },
     "execution_count": 47,
     "metadata": {},
     "output_type": "execute_result"
    }
   ],
   "source": [
    "digits.target[80]"
   ]
  },
  {
   "cell_type": "code",
   "execution_count": 49,
   "id": "28cd13d4",
   "metadata": {},
   "outputs": [
    {
     "data": {
      "text/plain": [
       "array([1])"
      ]
     },
     "execution_count": 49,
     "metadata": {},
     "output_type": "execute_result"
    }
   ],
   "source": [
    "model.predict([digits.data[80]])"
   ]
  },
  {
   "cell_type": "code",
   "execution_count": 51,
   "id": "14ecb7c8",
   "metadata": {},
   "outputs": [
    {
     "data": {
      "text/plain": [
       "array([0, 1, 2, 3, 4])"
      ]
     },
     "execution_count": 51,
     "metadata": {},
     "output_type": "execute_result"
    }
   ],
   "source": [
    "model.predict(digits.data[0:5])"
   ]
  },
  {
   "cell_type": "code",
   "execution_count": 52,
   "id": "3be12305",
   "metadata": {},
   "outputs": [
    {
     "data": {
      "text/plain": [
       "0.9444444444444444"
      ]
     },
     "execution_count": 52,
     "metadata": {},
     "output_type": "execute_result"
    }
   ],
   "source": [
    "model.score(X_test,Y_test)"
   ]
  },
  {
   "cell_type": "code",
   "execution_count": 53,
   "id": "d0176a43",
   "metadata": {},
   "outputs": [
    {
     "data": {
      "text/plain": [
       "array([6])"
      ]
     },
     "execution_count": 53,
     "metadata": {},
     "output_type": "execute_result"
    }
   ],
   "source": [
    "model.predict([digits.data[156]])"
   ]
  },
  {
   "cell_type": "code",
   "execution_count": 55,
   "id": "0df5fd5d",
   "metadata": {},
   "outputs": [
    {
     "data": {
      "text/plain": [
       "<matplotlib.image.AxesImage at 0x1037f632ac0>"
      ]
     },
     "execution_count": 55,
     "metadata": {},
     "output_type": "execute_result"
    },
    {
     "data": {
      "image/png": "[encoded data removed]",
      "text/plain": [
       "<Figure size 288x288 with 1 Axes>"
      ]
     },
     "metadata": {
      "needs_background": "light"
     },
     "output_type": "display_data"
    }
   ],
   "source": [
    "plt.matshow(digits.images[156])"
   ]
  },
  {
   "cell_type": "code",
   "execution_count": 56,
   "id": "a21220a8",
   "metadata": {},
   "outputs": [
    {
     "data": {
      "text/plain": [
       "6"
      ]
     },
     "execution_count": 56,
     "metadata": {},
     "output_type": "execute_result"
    }
   ],
   "source": [
    "digits.target[156]"
   ]
  },
  {
   "cell_type": "code",
   "execution_count": 57,
   "id": "bb8bd067",
   "metadata": {},
   "outputs": [],
   "source": [
    "y_predicted=model.predict(X_test)\n",
    "from sklearn.metrics import confusion_matrix\n",
    "cm=confusion_matrix(Y_test,y_predicted)"
   ]
  },
  {
   "cell_type": "code",
   "execution_count": 58,
   "id": "1dd0cd82",
   "metadata": {},
   "outputs": [
    {
     "data": {
      "text/plain": [
       "array([[21,  0,  0,  0,  0,  0,  0,  0,  0,  0],\n",
       "       [ 0, 20,  0,  0,  0,  0,  0,  0,  0,  0],\n",
       "       [ 0,  1, 21,  0,  0,  0,  0,  0,  0,  0],\n",
       "       [ 0,  0,  0, 18,  0,  0,  0,  0,  0,  0],\n",
       "       [ 1,  0,  0,  0, 18,  0,  0,  0,  0,  0],\n",
       "       [ 0,  0,  0,  0,  0, 13,  0,  1,  0,  0],\n",
       "       [ 0,  0,  0,  0,  0,  0, 17,  0,  1,  0],\n",
       "       [ 0,  0,  0,  0,  0,  0,  0, 14,  0,  1],\n",
       "       [ 0,  1,  1,  0,  0,  0,  0,  0, 17,  0],\n",
       "       [ 0,  0,  0,  1,  0,  1,  0,  0,  1, 11]], dtype=int64)"
      ]
     },
     "execution_count": 58,
     "metadata": {},
     "output_type": "execute_result"
    }
   ],
   "source": [
    "cm"
   ]
  },
  {
   "cell_type": "code",
   "execution_count": 59,
   "id": "f026f1a6",
   "metadata": {},
   "outputs": [
    {
     "data": {
      "text/plain": [
       "array([9, 0, 4, 8, 3, 1, 0, 9, 2, 2, 6, 4, 3, 4, 8, 3, 1, 1, 2, 0, 6, 7,\n",
       "       2, 4, 1, 1, 3, 3, 0, 8, 4, 9, 3, 6, 1, 7, 9, 4, 2, 9, 0, 5, 5, 4,\n",
       "       7, 5, 6, 3, 9, 6, 3, 3, 1, 8, 1, 3, 5, 4, 7, 2, 1, 0, 6, 3, 8, 7,\n",
       "       1, 1, 7, 5, 2, 6, 8, 3, 5, 8, 2, 7, 8, 6, 0, 8, 0, 3, 3, 8, 2, 4,\n",
       "       0, 8, 8, 7, 9, 7, 8, 3, 1, 1, 4, 5, 0, 1, 9, 6, 6, 4, 1, 5, 4, 6,\n",
       "       0, 3, 4, 5, 3, 8, 0, 5, 8, 1, 1, 2, 2, 4, 0, 6, 2, 5, 2, 9, 7, 6,\n",
       "       7, 6, 9, 0, 0, 1, 8, 8, 8, 1, 2, 2, 0, 2, 1, 4, 0, 1, 3, 2, 4, 0,\n",
       "       3, 7, 7, 5, 2, 1, 2, 7, 0, 0, 5, 0, 5, 4, 4, 6, 2, 2, 9, 7, 8, 2,\n",
       "       6, 6, 0, 9])"
      ]
     },
     "execution_count": 59,
     "metadata": {},
     "output_type": "execute_result"
    }
   ],
   "source": [
    "y_predicted"
   ]
  },
  {
   "cell_type": "code",
   "execution_count": 61,
   "id": "1dc0d9ef",
   "metadata": {},
   "outputs": [
    {
     "data": {
      "text/plain": [
       "array([9, 0, 4, 8, 3, 1, 0, 9, 2, 2, 6, 4, 3, 4, 6, 3, 1, 1, 2, 0, 6, 7,\n",
       "       2, 4, 1, 1, 3, 3, 0, 8, 4, 9, 3, 6, 1, 7, 9, 4, 2, 9, 0, 5, 5, 4,\n",
       "       7, 9, 6, 3, 9, 6, 3, 9, 1, 8, 1, 3, 5, 4, 7, 2, 1, 0, 6, 3, 8, 7,\n",
       "       1, 1, 7, 5, 2, 6, 8, 3, 5, 8, 2, 7, 8, 6, 0, 8, 0, 3, 3, 8, 2, 4,\n",
       "       0, 8, 8, 7, 9, 7, 8, 3, 1, 1, 4, 5, 4, 1, 9, 6, 6, 4, 1, 5, 4, 6,\n",
       "       0, 3, 4, 5, 3, 8, 0, 5, 8, 8, 1, 2, 8, 4, 0, 6, 2, 5, 2, 7, 7, 6,\n",
       "       5, 6, 9, 0, 0, 1, 8, 8, 9, 2, 2, 2, 0, 2, 1, 4, 0, 1, 3, 2, 4, 0,\n",
       "       3, 7, 7, 5, 2, 1, 2, 7, 0, 0, 5, 0, 5, 4, 4, 6, 2, 2, 9, 7, 8, 2,\n",
       "       6, 6, 0, 9])"
      ]
     },
     "execution_count": 61,
     "metadata": {},
     "output_type": "execute_result"
    }
   ],
   "source": [
    "Y_test"
   ]
  },
  {
   "cell_type": "code",
   "execution_count": 69,
   "id": "f065d5d8",
   "metadata": {},
   "outputs": [
    {
     "data": {
      "text/plain": [
       "array([4])"
      ]
     },
     "execution_count": 69,
     "metadata": {},
     "output_type": "execute_result"
    }
   ],
   "source": [
    "model.predict([digits.data[14]])"
   ]
  },
  {
   "cell_type": "code",
   "execution_count": 71,
   "id": "3d4ed421",
   "metadata": {},
   "outputs": [
    {
     "data": {
      "text/plain": [
       "<matplotlib.image.AxesImage at 0x1037f6b3100>"
      ]
     },
     "execution_count": 71,
     "metadata": {},
     "output_type": "execute_result"
    },
    {
     "data": {
      "image/png": "[encoded data removed]",
      "text/plain": [
       "<Figure size 288x288 with 1 Axes>"
      ]
     },
     "metadata": {
      "needs_background": "light"
     },
     "output_type": "display_data"
    }
   ],
   "source": [
    "plt.matshow(digits.images[14])"
   ]
  },
  {
   "cell_type": "code",
   "execution_count": 72,
   "id": "95332ea8",
   "metadata": {},
   "outputs": [
    {
     "data": {
      "text/plain": [
       "4"
      ]
     },
     "execution_count": 72,
     "metadata": {},
     "output_type": "execute_result"
    }
   ],
   "source": [
    "digits.target[14]"
   ]
  },
  {
   "cell_type": "code",
   "execution_count": 73,
   "id": "a7387ea6",
   "metadata": {},
   "outputs": [
    {
     "data": {
      "text/plain": [
       "array([9, 0, 4, 8, 3, 1, 0, 9, 2, 2, 6, 4, 3, 4, 8, 3, 1, 1, 2, 0, 6, 7,\n",
       "       2, 4, 1, 1, 3, 3, 0, 8, 4, 9, 3, 6, 1, 7, 9, 4, 2, 9, 0, 5, 5, 4,\n",
       "       7, 5, 6, 3, 9, 6, 3, 3, 1, 8, 1, 3, 5, 4, 7, 2, 1, 0, 6, 3, 8, 7,\n",
       "       1, 1, 7, 5, 2, 6, 8, 3, 5, 8, 2, 7, 8, 6, 0, 8, 0, 3, 3, 8, 2, 4,\n",
       "       0, 8, 8, 7, 9, 7, 8, 3, 1, 1, 4, 5, 0, 1, 9, 6, 6, 4, 1, 5, 4, 6,\n",
       "       0, 3, 4, 5, 3, 8, 0, 5, 8, 1, 1, 2, 2, 4, 0, 6, 2, 5, 2, 9, 7, 6,\n",
       "       7, 6, 9, 0, 0, 1, 8, 8, 8, 1, 2, 2, 0, 2, 1, 4, 0, 1, 3, 2, 4, 0,\n",
       "       3, 7, 7, 5, 2, 1, 2, 7, 0, 0, 5, 0, 5, 4, 4, 6, 2, 2, 9, 7, 8, 2,\n",
       "       6, 6, 0, 9])"
      ]
     },
     "execution_count": 73,
     "metadata": {},
     "output_type": "execute_result"
    }
   ],
   "source": [
    "y_predicted"
   ]
  },
  {
   "cell_type": "code",
   "execution_count": 74,
   "id": "6ffb1291",
   "metadata": {},
   "outputs": [
    {
     "data": {
      "text/plain": [
       "array([9, 0, 4, 8, 3, 1, 0, 9, 2, 2, 6, 4, 3, 4, 6, 3, 1, 1, 2, 0, 6, 7,\n",
       "       2, 4, 1, 1, 3, 3, 0, 8, 4, 9, 3, 6, 1, 7, 9, 4, 2, 9, 0, 5, 5, 4,\n",
       "       7, 9, 6, 3, 9, 6, 3, 9, 1, 8, 1, 3, 5, 4, 7, 2, 1, 0, 6, 3, 8, 7,\n",
       "       1, 1, 7, 5, 2, 6, 8, 3, 5, 8, 2, 7, 8, 6, 0, 8, 0, 3, 3, 8, 2, 4,\n",
       "       0, 8, 8, 7, 9, 7, 8, 3, 1, 1, 4, 5, 4, 1, 9, 6, 6, 4, 1, 5, 4, 6,\n",
       "       0, 3, 4, 5, 3, 8, 0, 5, 8, 8, 1, 2, 8, 4, 0, 6, 2, 5, 2, 7, 7, 6,\n",
       "       5, 6, 9, 0, 0, 1, 8, 8, 9, 2, 2, 2, 0, 2, 1, 4, 0, 1, 3, 2, 4, 0,\n",
       "       3, 7, 7, 5, 2, 1, 2, 7, 0, 0, 5, 0, 5, 4, 4, 6, 2, 2, 9, 7, 8, 2,\n",
       "       6, 6, 0, 9])"
      ]
     },
     "execution_count": 74,
     "metadata": {},
     "output_type": "execute_result"
    }
   ],
   "source": [
    "Y_test"
   ]
  },
  {
   "cell_type": "code",
   "execution_count": null,
   "id": "65fbd6d8",
   "metadata": {},
   "outputs": [],
   "source": []
  }
 ],
 "metadata": {
  "kernelspec": {
   "display_name": "Python 3",
   "language": "python",
   "name": "python3"
  },
  "language_info": {
   "codemirror_mode": {
    "name": "ipython",
    "version": 3
   },
   "file_extension": ".py",
   "mimetype": "text/x-python",
   "name": "python",
   "nbconvert_exporter": "python",
   "pygments_lexer": "ipython3",
   "version": "3.9.4"
  }
 },
 "nbformat": 4,
 "nbformat_minor": 5
}
