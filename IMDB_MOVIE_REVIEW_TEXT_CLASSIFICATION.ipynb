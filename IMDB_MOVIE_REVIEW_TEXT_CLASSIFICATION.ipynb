{
  "nbformat": 4,
  "nbformat_minor": 0,
  "metadata": {
    "colab": {
      "name": "IMDB MOVIE REVIEW TEXT CLASSIFICATION.ipynb",
      "provenance": [],
      "authorship_tag": "ABX9TyMwsgsnLs5N3wBE+fw8D0Vu",
      "include_colab_link": true
    },
    "kernelspec": {
      "name": "python3",
      "display_name": "Python 3"
    },
    "language_info": {
      "name": "python"
    }
  },
  "cells": [
    {
      "cell_type": "markdown",
      "metadata": {
        "id": "view-in-github",
        "colab_type": "text"
      },
      "source": [
        "<a href=\"https://colab.research.google.com/github/Suryansh1089/SUMMERPROJECT2021/blob/main/IMDB_MOVIE_REVIEW_TEXT_CLASSIFICATION.ipynb\" target=\"_parent\"><img src=\"https://colab.research.google.com/assets/colab-badge.svg\" alt=\"Open In Colab\"/></a>"
      ]
    },
    {
      "cell_type": "code",
      "metadata": {
        "colab": {
          "base_uri": "https://localhost:8080/"
        },
        "id": "riHaYN1IMsPc",
        "outputId": "3259ec4c-172a-49a8-e0c2-31e8afa13082"
      },
      "source": [
        "import tensorflow as tf\n",
        "from tensorflow import keras\n",
        "import numpy as np\n",
        "print(tf.__version__)"
      ],
      "execution_count": 3,
      "outputs": [
        {
          "output_type": "stream",
          "text": [
            "2.5.0\n"
          ],
          "name": "stdout"
        }
      ]
    },
    {
      "cell_type": "code",
      "metadata": {
        "colab": {
          "base_uri": "https://localhost:8080/"
        },
        "id": "28h6AlsCNFEt",
        "outputId": "adcc41a7-10a7-4906-8870-959709932094"
      },
      "source": [
        "imdb=keras.datasets.imdb\n",
        "(train_data,train_labels),(test_data,test_labels)=imdb.load_data(num_words=10000)"
      ],
      "execution_count": 4,
      "outputs": [
        {
          "output_type": "stream",
          "text": [
            "Downloading data from https://storage.googleapis.com/tensorflow/tf-keras-datasets/imdb.npz\n",
            "17465344/17464789 [==============================] - 0s 0us/step\n"
          ],
          "name": "stdout"
        },
        {
          "output_type": "stream",
          "text": [
            "<string>:6: VisibleDeprecationWarning: Creating an ndarray from ragged nested sequences (which is a list-or-tuple of lists-or-tuples-or ndarrays with different lengths or shapes) is deprecated. If you meant to do this, you must specify 'dtype=object' when creating the ndarray\n",
            "/usr/local/lib/python3.7/dist-packages/tensorflow/python/keras/datasets/imdb.py:155: VisibleDeprecationWarning: Creating an ndarray from ragged nested sequences (which is a list-or-tuple of lists-or-tuples-or ndarrays with different lengths or shapes) is deprecated. If you meant to do this, you must specify 'dtype=object' when creating the ndarray\n",
            "  x_train, y_train = np.array(xs[:idx]), np.array(labels[:idx])\n",
            "/usr/local/lib/python3.7/dist-packages/tensorflow/python/keras/datasets/imdb.py:156: VisibleDeprecationWarning: Creating an ndarray from ragged nested sequences (which is a list-or-tuple of lists-or-tuples-or ndarrays with different lengths or shapes) is deprecated. If you meant to do this, you must specify 'dtype=object' when creating the ndarray\n",
            "  x_test, y_test = np.array(xs[idx:]), np.array(labels[idx:])\n"
          ],
          "name": "stderr"
        }
      ]
    },
    {
      "cell_type": "code",
      "metadata": {
        "colab": {
          "base_uri": "https://localhost:8080/"
        },
        "id": "qpeeQWM9Nkmh",
        "outputId": "435789a9-0fce-4034-eb9e-8b88d923dbed"
      },
      "source": [
        "print(\"Training data:{},labels:{}\".format(len(train_data),len(train_labels)))"
      ],
      "execution_count": 5,
      "outputs": [
        {
          "output_type": "stream",
          "text": [
            "Training data:25000,labels:25000\n"
          ],
          "name": "stdout"
        }
      ]
    },
    {
      "cell_type": "code",
      "metadata": {
        "colab": {
          "base_uri": "https://localhost:8080/"
        },
        "id": "5SINiiFCOIgx",
        "outputId": "c7807955-4df8-4dfc-881b-b5fa29a9a6ff"
      },
      "source": [
        "print(train_data[0])"
      ],
      "execution_count": 6,
      "outputs": [
        {
          "output_type": "stream",
          "text": [
            "[1, 14, 22, 16, 43, 530, 973, 1622, 1385, 65, 458, 4468, 66, 3941, 4, 173, 36, 256, 5, 25, 100, 43, 838, 112, 50, 670, 2, 9, 35, 480, 284, 5, 150, 4, 172, 112, 167, 2, 336, 385, 39, 4, 172, 4536, 1111, 17, 546, 38, 13, 447, 4, 192, 50, 16, 6, 147, 2025, 19, 14, 22, 4, 1920, 4613, 469, 4, 22, 71, 87, 12, 16, 43, 530, 38, 76, 15, 13, 1247, 4, 22, 17, 515, 17, 12, 16, 626, 18, 2, 5, 62, 386, 12, 8, 316, 8, 106, 5, 4, 2223, 5244, 16, 480, 66, 3785, 33, 4, 130, 12, 16, 38, 619, 5, 25, 124, 51, 36, 135, 48, 25, 1415, 33, 6, 22, 12, 215, 28, 77, 52, 5, 14, 407, 16, 82, 2, 8, 4, 107, 117, 5952, 15, 256, 4, 2, 7, 3766, 5, 723, 36, 71, 43, 530, 476, 26, 400, 317, 46, 7, 4, 2, 1029, 13, 104, 88, 4, 381, 15, 297, 98, 32, 2071, 56, 26, 141, 6, 194, 7486, 18, 4, 226, 22, 21, 134, 476, 26, 480, 5, 144, 30, 5535, 18, 51, 36, 28, 224, 92, 25, 104, 4, 226, 65, 16, 38, 1334, 88, 12, 16, 283, 5, 16, 4472, 113, 103, 32, 15, 16, 5345, 19, 178, 32]\n"
          ],
          "name": "stdout"
        }
      ]
    },
    {
      "cell_type": "code",
      "metadata": {
        "colab": {
          "base_uri": "https://localhost:8080/"
        },
        "id": "7U10n7IHOMBj",
        "outputId": "64de307d-f9f9-48d6-dfa5-e8dbacfd5fda"
      },
      "source": [
        "print(train_labels[0])"
      ],
      "execution_count": 7,
      "outputs": [
        {
          "output_type": "stream",
          "text": [
            "1\n"
          ],
          "name": "stdout"
        }
      ]
    },
    {
      "cell_type": "code",
      "metadata": {
        "colab": {
          "base_uri": "https://localhost:8080/"
        },
        "id": "-Gen0ZhXOOaR",
        "outputId": "0ee4b954-770b-47b9-d331-922c6bcacdae"
      },
      "source": [
        "print(test_data[0])"
      ],
      "execution_count": 8,
      "outputs": [
        {
          "output_type": "stream",
          "text": [
            "[1, 591, 202, 14, 31, 6, 717, 10, 10, 2, 2, 5, 4, 360, 7, 4, 177, 5760, 394, 354, 4, 123, 9, 1035, 1035, 1035, 10, 10, 13, 92, 124, 89, 488, 7944, 100, 28, 1668, 14, 31, 23, 27, 7479, 29, 220, 468, 8, 124, 14, 286, 170, 8, 157, 46, 5, 27, 239, 16, 179, 2, 38, 32, 25, 7944, 451, 202, 14, 6, 717]\n"
          ],
          "name": "stdout"
        }
      ]
    },
    {
      "cell_type": "code",
      "metadata": {
        "colab": {
          "base_uri": "https://localhost:8080/"
        },
        "id": "G6OuEzqnOQ7l",
        "outputId": "e12d9b58-c50b-4088-ad65-3147e2ab0a24"
      },
      "source": [
        "print(test_labels[0])"
      ],
      "execution_count": 9,
      "outputs": [
        {
          "output_type": "stream",
          "text": [
            "0\n"
          ],
          "name": "stdout"
        }
      ]
    },
    {
      "cell_type": "code",
      "metadata": {
        "colab": {
          "base_uri": "https://localhost:8080/"
        },
        "id": "khPqg4LeOTta",
        "outputId": "8e83d360-f793-4531-9764-4e69450a6d81"
      },
      "source": [
        "len(train_data[0])"
      ],
      "execution_count": 10,
      "outputs": [
        {
          "output_type": "execute_result",
          "data": {
            "text/plain": [
              "218"
            ]
          },
          "metadata": {
            "tags": []
          },
          "execution_count": 10
        }
      ]
    },
    {
      "cell_type": "code",
      "metadata": {
        "colab": {
          "base_uri": "https://localhost:8080/"
        },
        "id": "t-s6dmOROxG0",
        "outputId": "b467fabf-dec0-4f90-c5ca-e9c43f6a9f34"
      },
      "source": [
        "len(train_data[1])"
      ],
      "execution_count": 11,
      "outputs": [
        {
          "output_type": "execute_result",
          "data": {
            "text/plain": [
              "189"
            ]
          },
          "metadata": {
            "tags": []
          },
          "execution_count": 11
        }
      ]
    },
    {
      "cell_type": "markdown",
      "metadata": {
        "id": "76fXkEXiO2Ky"
      },
      "source": [
        "PADDING NEEDS TO BE DONE HERE BECAUSE INPUT VALUES ARE OF DIFFFERENT SIZES\n"
      ]
    },
    {
      "cell_type": "markdown",
      "metadata": {
        "id": "bPe_0mKUOXOV"
      },
      "source": [
        "CONVERT INTEGERS BACK TO WORDS"
      ]
    },
    {
      "cell_type": "code",
      "metadata": {
        "colab": {
          "base_uri": "https://localhost:8080/"
        },
        "id": "GvkYqxDPOagX",
        "outputId": "d26b6f60-1c36-4426-9521-66654fa39d7d"
      },
      "source": [
        "word_index=imdb.get_word_index()# a dictionary mapping words to integer index\n",
        "word_index={k:(v+3) for k,v in word_index.items()}\n",
        "word_index[\"PAD\"]=0\n",
        "word_index[\"START\"]=1\n",
        "word_index[\"UNK\"]=2 #unknown\n",
        "word_index[\"<UNUSED>\"]=3\n",
        "\n",
        "\n",
        "reverse_word_index=dict([(value,key) for (key,value) in word_index.items()])\n",
        "def decode_review(text):\n",
        "  return ' '.join([reverse_word_index.get(i,'?') for i in text])"
      ],
      "execution_count": 12,
      "outputs": [
        {
          "output_type": "stream",
          "text": [
            "Downloading data from https://storage.googleapis.com/tensorflow/tf-keras-datasets/imdb_word_index.json\n",
            "1646592/1641221 [==============================] - 0s 0us/step\n"
          ],
          "name": "stdout"
        }
      ]
    },
    {
      "cell_type": "code",
      "metadata": {
        "colab": {
          "base_uri": "https://localhost:8080/",
          "height": 120
        },
        "id": "_hywlKD5zR3O",
        "outputId": "5dcf09ae-0f4f-499e-e34a-3606f4a0b35c"
      },
      "source": [
        "decode_review(train_data[0])"
      ],
      "execution_count": 13,
      "outputs": [
        {
          "output_type": "execute_result",
          "data": {
            "application/vnd.google.colaboratory.intrinsic+json": {
              "type": "string"
            },
            "text/plain": [
              "\"START this film was just brilliant casting location scenery story direction everyone's really suited the part they played and you could just imagine being there robert UNK is an amazing actor and now the same being director UNK father came from the same scottish island as myself so i loved the fact there was a real connection with this film the witty remarks throughout the film were great it was just brilliant so much that i bought the film as soon as it was released for UNK and would recommend it to everyone to watch and the fly fishing was amazing really cried at the end it was so sad and you know what they say if you cry at a film it must have been good and this definitely was also UNK to the two little boy's that played the UNK of norman and paul they were just brilliant children are often left out of the UNK list i think because the stars that play them all grown up are such a big profile for the whole film but these children are amazing and should be praised for what they have done don't you think the whole story was so lovely because it was true and was someone's life after all that was shared with us all\""
            ]
          },
          "metadata": {
            "tags": []
          },
          "execution_count": 13
        }
      ]
    },
    {
      "cell_type": "code",
      "metadata": {
        "id": "6dkitvdSzywS"
      },
      "source": [
        "train_data=keras.preprocessing.sequence.pad_sequences(train_data,value=word_index[\"PAD\"],padding='post',maxlen=256)"
      ],
      "execution_count": 16,
      "outputs": []
    },
    {
      "cell_type": "code",
      "metadata": {
        "id": "hTAUvgNr0bwi"
      },
      "source": [
        "test_data=keras.preprocessing.sequence.pad_sequences(test_data,value=word_index[\"PAD\"],padding='post',maxlen=256)"
      ],
      "execution_count": 18,
      "outputs": []
    },
    {
      "cell_type": "code",
      "metadata": {
        "colab": {
          "base_uri": "https://localhost:8080/"
        },
        "id": "2V4q5S5S0xfb",
        "outputId": "d045cae9-4311-4030-fcb0-ec2040219efb"
      },
      "source": [
        "len(train_data[0])"
      ],
      "execution_count": 19,
      "outputs": [
        {
          "output_type": "execute_result",
          "data": {
            "text/plain": [
              "256"
            ]
          },
          "metadata": {
            "tags": []
          },
          "execution_count": 19
        }
      ]
    },
    {
      "cell_type": "code",
      "metadata": {
        "colab": {
          "base_uri": "https://localhost:8080/"
        },
        "id": "zGV_3YkA087r",
        "outputId": "4b948469-d18b-444c-81b9-e7b844df0118"
      },
      "source": [
        "len(train_data[1])"
      ],
      "execution_count": 20,
      "outputs": [
        {
          "output_type": "execute_result",
          "data": {
            "text/plain": [
              "256"
            ]
          },
          "metadata": {
            "tags": []
          },
          "execution_count": 20
        }
      ]
    },
    {
      "cell_type": "markdown",
      "metadata": {
        "id": "2lkO-fEd1AGq"
      },
      "source": [
        "PADDING SUCCESSFULLY DONE"
      ]
    },
    {
      "cell_type": "code",
      "metadata": {
        "colab": {
          "base_uri": "https://localhost:8080/"
        },
        "id": "_Lw2LQKS1CiH",
        "outputId": "2a8dc35e-b771-43b4-f2de-31f1bd879bdf"
      },
      "source": [
        "print(train_data[0])"
      ],
      "execution_count": 21,
      "outputs": [
        {
          "output_type": "stream",
          "text": [
            "[   1   14   22   16   43  530  973 1622 1385   65  458 4468   66 3941\n",
            "    4  173   36  256    5   25  100   43  838  112   50  670    2    9\n",
            "   35  480  284    5  150    4  172  112  167    2  336  385   39    4\n",
            "  172 4536 1111   17  546   38   13  447    4  192   50   16    6  147\n",
            " 2025   19   14   22    4 1920 4613  469    4   22   71   87   12   16\n",
            "   43  530   38   76   15   13 1247    4   22   17  515   17   12   16\n",
            "  626   18    2    5   62  386   12    8  316    8  106    5    4 2223\n",
            " 5244   16  480   66 3785   33    4  130   12   16   38  619    5   25\n",
            "  124   51   36  135   48   25 1415   33    6   22   12  215   28   77\n",
            "   52    5   14  407   16   82    2    8    4  107  117 5952   15  256\n",
            "    4    2    7 3766    5  723   36   71   43  530  476   26  400  317\n",
            "   46    7    4    2 1029   13  104   88    4  381   15  297   98   32\n",
            " 2071   56   26  141    6  194 7486   18    4  226   22   21  134  476\n",
            "   26  480    5  144   30 5535   18   51   36   28  224   92   25  104\n",
            "    4  226   65   16   38 1334   88   12   16  283    5   16 4472  113\n",
            "  103   32   15   16 5345   19  178   32    0    0    0    0    0    0\n",
            "    0    0    0    0    0    0    0    0    0    0    0    0    0    0\n",
            "    0    0    0    0    0    0    0    0    0    0    0    0    0    0\n",
            "    0    0    0    0]\n"
          ],
          "name": "stdout"
        }
      ]
    },
    {
      "cell_type": "code",
      "metadata": {
        "id": "tWRxY2Rc1KG8"
      },
      "source": [
        "#INPUT SHAPE IS VOCABULARY COUNT USED FOR MOVIE REVIEWS\n",
        "vocab_size=10000\n",
        "model=keras.Sequential()\n",
        "model.add(keras.layers.Embedding(vocab_size,16)) #takes 10000 words from reviews and convert each word to a 16 dimensional vector\n",
        "model.add(keras.layers.AveragePooling1D()) # flattens them into 1 dimension vectors\n",
        "model.add(keras.layers.Dense(16,activation=tf.nn.relu)) # dense layer of 16 nodes as there were 16 dimensions\n",
        "model.add(keras.layers.Dense(1,activation=tf.nn.sigmoid)) #output layer"
      ],
      "execution_count": 23,
      "outputs": []
    },
    {
      "cell_type": "code",
      "metadata": {
        "colab": {
          "base_uri": "https://localhost:8080/"
        },
        "id": "flpDRxZo2sDy",
        "outputId": "0c426ff4-5b57-413d-ce7a-d9c95f3cc66b"
      },
      "source": [
        "model.summary()"
      ],
      "execution_count": 25,
      "outputs": [
        {
          "output_type": "stream",
          "text": [
            "Model: \"sequential\"\n",
            "_________________________________________________________________\n",
            "Layer (type)                 Output Shape              Param #   \n",
            "=================================================================\n",
            "embedding (Embedding)        (None, None, 16)          160000    \n",
            "_________________________________________________________________\n",
            "average_pooling1d (AveragePo (None, None, 16)          0         \n",
            "_________________________________________________________________\n",
            "dense (Dense)                (None, None, 16)          272       \n",
            "_________________________________________________________________\n",
            "dense_1 (Dense)              (None, None, 1)           17        \n",
            "=================================================================\n",
            "Total params: 160,289\n",
            "Trainable params: 160,289\n",
            "Non-trainable params: 0\n",
            "_________________________________________________________________\n"
          ],
          "name": "stdout"
        }
      ]
    },
    {
      "cell_type": "code",
      "metadata": {
        "id": "KoLNJWmr2u9L"
      },
      "source": [
        "model.compile(optimizer=tf.keras.optimizers.Adam(),loss='binary_crossentropy',metrics=['accuracy'])"
      ],
      "execution_count": 27,
      "outputs": []
    },
    {
      "cell_type": "code",
      "metadata": {
        "id": "QsLvW0T23uFA"
      },
      "source": [
        "x_val=train_data[:10000]\n",
        "partial_x_train=train_data[10000:]\n",
        "\n",
        "y_val=train_labels[:10000]\n",
        "partial_y_train=train_labels[10000:]"
      ],
      "execution_count": 35,
      "outputs": []
    },
    {
      "cell_type": "code",
      "metadata": {
        "id": "WTTgWynT4d-T"
      },
      "source": [
        ""
      ],
      "execution_count": 35,
      "outputs": []
    },
    {
      "cell_type": "markdown",
      "metadata": {
        "id": "2uibXz1m4kYa"
      },
      "source": [
        "TRAINING THE MODEL"
      ]
    },
    {
      "cell_type": "code",
      "metadata": {
        "colab": {
          "base_uri": "https://localhost:8080/"
        },
        "id": "XksvTSAS4m16",
        "outputId": "1b43121c-4276-41e4-e4b8-4872070ce3ae"
      },
      "source": [
        "history=model.fit(partial_x_train,partial_y_train,epochs=40,batch_size=512,validation_data=(x_val,y_val),verbose=1)"
      ],
      "execution_count": 36,
      "outputs": [
        {
          "output_type": "stream",
          "text": [
            "Epoch 1/40\n",
            "30/30 [==============================] - 3s 49ms/step - loss: 0.6921 - accuracy: 0.5237 - val_loss: 0.6906 - val_accuracy: 0.5421\n",
            "Epoch 2/40\n",
            "30/30 [==============================] - 1s 41ms/step - loss: 0.6881 - accuracy: 0.5487 - val_loss: 0.6862 - val_accuracy: 0.5515\n",
            "Epoch 3/40\n",
            "30/30 [==============================] - 1s 40ms/step - loss: 0.6827 - accuracy: 0.5583 - val_loss: 0.6820 - val_accuracy: 0.5497\n",
            "Epoch 4/40\n",
            "30/30 [==============================] - 1s 42ms/step - loss: 0.6779 - accuracy: 0.5622 - val_loss: 0.6787 - val_accuracy: 0.5577\n",
            "Epoch 5/40\n",
            "30/30 [==============================] - 1s 41ms/step - loss: 0.6749 - accuracy: 0.5597 - val_loss: 0.6772 - val_accuracy: 0.5584\n",
            "Epoch 6/40\n",
            "30/30 [==============================] - 1s 40ms/step - loss: 0.6731 - accuracy: 0.5599 - val_loss: 0.6767 - val_accuracy: 0.5527\n",
            "Epoch 7/40\n",
            "30/30 [==============================] - 1s 41ms/step - loss: 0.6720 - accuracy: 0.5633 - val_loss: 0.6767 - val_accuracy: 0.5568\n",
            "Epoch 8/40\n",
            "30/30 [==============================] - 1s 40ms/step - loss: 0.6717 - accuracy: 0.5603 - val_loss: 0.6768 - val_accuracy: 0.5508\n",
            "Epoch 9/40\n",
            "30/30 [==============================] - 1s 41ms/step - loss: 0.6709 - accuracy: 0.5615 - val_loss: 0.6763 - val_accuracy: 0.5579\n",
            "Epoch 10/40\n",
            "30/30 [==============================] - 1s 40ms/step - loss: 0.6706 - accuracy: 0.5628 - val_loss: 0.6761 - val_accuracy: 0.5583\n",
            "Epoch 11/40\n",
            "30/30 [==============================] - 1s 40ms/step - loss: 0.6707 - accuracy: 0.5637 - val_loss: 0.6760 - val_accuracy: 0.5586\n",
            "Epoch 12/40\n",
            "30/30 [==============================] - 1s 40ms/step - loss: 0.6710 - accuracy: 0.5620 - val_loss: 0.6761 - val_accuracy: 0.5585\n",
            "Epoch 13/40\n",
            "30/30 [==============================] - 1s 42ms/step - loss: 0.6701 - accuracy: 0.5639 - val_loss: 0.6760 - val_accuracy: 0.5586\n",
            "Epoch 14/40\n",
            "30/30 [==============================] - 1s 41ms/step - loss: 0.6701 - accuracy: 0.5646 - val_loss: 0.6764 - val_accuracy: 0.5527\n",
            "Epoch 15/40\n",
            "30/30 [==============================] - 1s 40ms/step - loss: 0.6699 - accuracy: 0.5642 - val_loss: 0.6764 - val_accuracy: 0.5519\n",
            "Epoch 16/40\n",
            "30/30 [==============================] - 1s 41ms/step - loss: 0.6699 - accuracy: 0.5634 - val_loss: 0.6762 - val_accuracy: 0.5583\n",
            "Epoch 17/40\n",
            "30/30 [==============================] - 1s 40ms/step - loss: 0.6697 - accuracy: 0.5643 - val_loss: 0.6761 - val_accuracy: 0.5585\n",
            "Epoch 18/40\n",
            "30/30 [==============================] - 1s 41ms/step - loss: 0.6700 - accuracy: 0.5630 - val_loss: 0.6762 - val_accuracy: 0.5582\n",
            "Epoch 19/40\n",
            "30/30 [==============================] - 1s 41ms/step - loss: 0.6694 - accuracy: 0.5626 - val_loss: 0.6765 - val_accuracy: 0.5520\n",
            "Epoch 20/40\n",
            "30/30 [==============================] - 1s 41ms/step - loss: 0.6696 - accuracy: 0.5603 - val_loss: 0.6767 - val_accuracy: 0.5519\n",
            "Epoch 21/40\n",
            "30/30 [==============================] - 1s 40ms/step - loss: 0.6693 - accuracy: 0.5609 - val_loss: 0.6762 - val_accuracy: 0.5583\n",
            "Epoch 22/40\n",
            "30/30 [==============================] - 1s 41ms/step - loss: 0.6693 - accuracy: 0.5644 - val_loss: 0.6764 - val_accuracy: 0.5587\n",
            "Epoch 23/40\n",
            "30/30 [==============================] - 1s 41ms/step - loss: 0.6693 - accuracy: 0.5653 - val_loss: 0.6764 - val_accuracy: 0.5523\n",
            "Epoch 24/40\n",
            "30/30 [==============================] - 1s 41ms/step - loss: 0.6692 - accuracy: 0.5628 - val_loss: 0.6767 - val_accuracy: 0.5516\n",
            "Epoch 25/40\n",
            "30/30 [==============================] - 1s 41ms/step - loss: 0.6693 - accuracy: 0.5617 - val_loss: 0.6762 - val_accuracy: 0.5524\n",
            "Epoch 26/40\n",
            "30/30 [==============================] - 1s 41ms/step - loss: 0.6691 - accuracy: 0.5632 - val_loss: 0.6762 - val_accuracy: 0.5584\n",
            "Epoch 27/40\n",
            "30/30 [==============================] - 1s 41ms/step - loss: 0.6688 - accuracy: 0.5654 - val_loss: 0.6763 - val_accuracy: 0.5582\n",
            "Epoch 28/40\n",
            "30/30 [==============================] - 1s 41ms/step - loss: 0.6688 - accuracy: 0.5669 - val_loss: 0.6767 - val_accuracy: 0.5523\n",
            "Epoch 29/40\n",
            "30/30 [==============================] - 1s 41ms/step - loss: 0.6688 - accuracy: 0.5640 - val_loss: 0.6765 - val_accuracy: 0.5522\n",
            "Epoch 30/40\n",
            "30/30 [==============================] - 1s 42ms/step - loss: 0.6687 - accuracy: 0.5630 - val_loss: 0.6771 - val_accuracy: 0.5501\n",
            "Epoch 31/40\n",
            "30/30 [==============================] - 1s 41ms/step - loss: 0.6686 - accuracy: 0.5652 - val_loss: 0.6762 - val_accuracy: 0.5586\n",
            "Epoch 32/40\n",
            "30/30 [==============================] - 1s 41ms/step - loss: 0.6685 - accuracy: 0.5644 - val_loss: 0.6762 - val_accuracy: 0.5586\n",
            "Epoch 33/40\n",
            "30/30 [==============================] - 1s 42ms/step - loss: 0.6683 - accuracy: 0.5672 - val_loss: 0.6773 - val_accuracy: 0.5501\n",
            "Epoch 34/40\n",
            "30/30 [==============================] - 1s 43ms/step - loss: 0.6684 - accuracy: 0.5636 - val_loss: 0.6763 - val_accuracy: 0.5585\n",
            "Epoch 35/40\n",
            "30/30 [==============================] - 1s 42ms/step - loss: 0.6683 - accuracy: 0.5635 - val_loss: 0.6762 - val_accuracy: 0.5586\n",
            "Epoch 36/40\n",
            "30/30 [==============================] - 1s 41ms/step - loss: 0.6682 - accuracy: 0.5643 - val_loss: 0.6762 - val_accuracy: 0.5584\n",
            "Epoch 37/40\n",
            "30/30 [==============================] - 1s 42ms/step - loss: 0.6682 - accuracy: 0.5646 - val_loss: 0.6763 - val_accuracy: 0.5585\n",
            "Epoch 38/40\n",
            "30/30 [==============================] - 1s 41ms/step - loss: 0.6682 - accuracy: 0.5648 - val_loss: 0.6766 - val_accuracy: 0.5585\n",
            "Epoch 39/40\n",
            "30/30 [==============================] - 1s 41ms/step - loss: 0.6681 - accuracy: 0.5652 - val_loss: 0.6764 - val_accuracy: 0.5524\n",
            "Epoch 40/40\n",
            "30/30 [==============================] - 1s 40ms/step - loss: 0.6678 - accuracy: 0.5649 - val_loss: 0.6763 - val_accuracy: 0.5584\n"
          ],
          "name": "stdout"
        }
      ]
    },
    {
      "cell_type": "code",
      "metadata": {
        "colab": {
          "base_uri": "https://localhost:8080/"
        },
        "id": "GQyaEyP55AvB",
        "outputId": "061327ce-54b3-4fbf-c075-25dadcb99065"
      },
      "source": [
        "results=model.evaluate(test_data,test_labels)"
      ],
      "execution_count": 37,
      "outputs": [
        {
          "output_type": "stream",
          "text": [
            "782/782 [==============================] - 2s 2ms/step - loss: 0.6792 - accuracy: 0.5556\n"
          ],
          "name": "stdout"
        }
      ]
    },
    {
      "cell_type": "code",
      "metadata": {
        "colab": {
          "base_uri": "https://localhost:8080/"
        },
        "id": "ZzDg_H1x6QO8",
        "outputId": "2ccad501-781b-479b-8268-9fc7a91b7555"
      },
      "source": [
        "print(results)"
      ],
      "execution_count": 38,
      "outputs": [
        {
          "output_type": "stream",
          "text": [
            "[0.6791951060295105, 0.5556231141090393]\n"
          ],
          "name": "stdout"
        }
      ]
    },
    {
      "cell_type": "code",
      "metadata": {
        "id": "IA4P3wSg6Vye"
      },
      "source": [
        ""
      ],
      "execution_count": null,
      "outputs": []
    },
    {
      "cell_type": "markdown",
      "metadata": {
        "id": "uRFvZcqH6iwr"
      },
      "source": [
        "VISUALTION USING MATPLOTLIB TO CHECK FOR OVER/UNDER FITTING"
      ]
    },
    {
      "cell_type": "code",
      "metadata": {
        "id": "rLjUN4bH6qYG"
      },
      "source": [
        ""
      ],
      "execution_count": null,
      "outputs": []
    }
  ]
}