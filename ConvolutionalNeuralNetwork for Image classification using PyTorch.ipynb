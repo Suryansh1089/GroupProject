{
  "nbformat": 4,
  "nbformat_minor": 0,
  "metadata": {
    "colab": {
      "name": "PytorchTensor.ipynb",
      "provenance": [],
      "collapsed_sections": [],
      "authorship_tag": "ABX9TyODimmlGJeLNId81vK7pKdq",
      "include_colab_link": true
    },
    "kernelspec": {
      "name": "python3",
      "display_name": "Python 3"
    },
    "language_info": {
      "name": "python"
    }
  },
  "cells": [
    {
      "cell_type": "markdown",
      "metadata": {
        "id": "view-in-github",
        "colab_type": "text"
      },
      "source": [
        "<a href=\"https://colab.research.google.com/github/Suryansh1089/SUMMERPROJECT2021/blob/main/ConvolutionalNeuralNetwork%20for%20Image%20classification%20using%20PyTorch.ipynb\" target=\"_parent\"><img src=\"https://colab.research.google.com/assets/colab-badge.svg\" alt=\"Open In Colab\"/></a>"
      ]
    },
    {
      "cell_type": "code",
      "metadata": {
        "colab": {
          "base_uri": "https://localhost:8080/"
        },
        "id": "go6CkRSg463I",
        "outputId": "21048540-a777-47ea-d037-4e877d097ec5"
      },
      "source": [
        "!pip3 install torch\n",
        "import torch"
      ],
      "execution_count": 122,
      "outputs": [
        {
          "output_type": "stream",
          "text": [
            "Requirement already satisfied: torch in /usr/local/lib/python3.7/dist-packages (1.9.0+cu102)\n",
            "Requirement already satisfied: typing-extensions in /usr/local/lib/python3.7/dist-packages (from torch) (3.7.4.3)\n"
          ],
          "name": "stdout"
        }
      ]
    },
    {
      "cell_type": "code",
      "metadata": {
        "colab": {
          "base_uri": "https://localhost:8080/"
        },
        "id": "EtNH9PeH6YuA",
        "outputId": "ec69f058-6c52-4264-aa04-9a6b6054d6ea"
      },
      "source": [
        "print(torch.__version__)"
      ],
      "execution_count": 123,
      "outputs": [
        {
          "output_type": "stream",
          "text": [
            "1.9.0+cu102\n"
          ],
          "name": "stdout"
        }
      ]
    },
    {
      "cell_type": "code",
      "metadata": {
        "colab": {
          "base_uri": "https://localhost:8080/"
        },
        "id": "jFOuRtFH6weh",
        "outputId": "fbcd67f6-483e-42a0-c876-0bd0df7c933a"
      },
      "source": [
        "torch.cuda.is_available()"
      ],
      "execution_count": 124,
      "outputs": [
        {
          "output_type": "execute_result",
          "data": {
            "text/plain": [
              "False"
            ]
          },
          "metadata": {
            "tags": []
          },
          "execution_count": 124
        }
      ]
    },
    {
      "cell_type": "code",
      "metadata": {
        "colab": {
          "base_uri": "https://localhost:8080/",
          "height": 35
        },
        "id": "C0B3npkx67Fh",
        "outputId": "f345065a-74c0-4cac-ee95-349792bd52b6"
      },
      "source": [
        "torch.version.cuda"
      ],
      "execution_count": 125,
      "outputs": [
        {
          "output_type": "execute_result",
          "data": {
            "application/vnd.google.colaboratory.intrinsic+json": {
              "type": "string"
            },
            "text/plain": [
              "'10.2'"
            ]
          },
          "metadata": {
            "tags": []
          },
          "execution_count": 125
        }
      ]
    },
    {
      "cell_type": "code",
      "metadata": {
        "id": "ykkW_ENL7gVG"
      },
      "source": [
        "t=torch.tensor([1,2,3])"
      ],
      "execution_count": 126,
      "outputs": []
    },
    {
      "cell_type": "code",
      "metadata": {
        "colab": {
          "base_uri": "https://localhost:8080/"
        },
        "id": "_xTVznsT826K",
        "outputId": "5d87b2cc-5989-49e8-d17f-1fa229498c64"
      },
      "source": [
        "t"
      ],
      "execution_count": 127,
      "outputs": [
        {
          "output_type": "execute_result",
          "data": {
            "text/plain": [
              "tensor([1, 2, 3])"
            ]
          },
          "metadata": {
            "tags": []
          },
          "execution_count": 127
        }
      ]
    },
    {
      "cell_type": "code",
      "metadata": {
        "id": "zcVQaUAT86xs"
      },
      "source": [
        "dd=[[1,3,2,3],[3,4,3,5],[3,4,3,4],[1,2,3,4]]"
      ],
      "execution_count": 128,
      "outputs": []
    },
    {
      "cell_type": "code",
      "metadata": {
        "colab": {
          "base_uri": "https://localhost:8080/"
        },
        "id": "TtoMdJZd_wlC",
        "outputId": "d410440b-dd08-4260-edaa-7f4af3d8d63e"
      },
      "source": [
        "dd"
      ],
      "execution_count": 129,
      "outputs": [
        {
          "output_type": "execute_result",
          "data": {
            "text/plain": [
              "[[1, 3, 2, 3], [3, 4, 3, 5], [3, 4, 3, 4], [1, 2, 3, 4]]"
            ]
          },
          "metadata": {
            "tags": []
          },
          "execution_count": 129
        }
      ]
    },
    {
      "cell_type": "code",
      "metadata": {
        "id": "E3DIyJS__xSA"
      },
      "source": [
        "t=torch.tensor(dd)"
      ],
      "execution_count": 130,
      "outputs": []
    },
    {
      "cell_type": "code",
      "metadata": {
        "colab": {
          "base_uri": "https://localhost:8080/"
        },
        "id": "FDBcsh_D_z6T",
        "outputId": "04942719-f966-4859-b720-9ebb9fa72626"
      },
      "source": [
        "t"
      ],
      "execution_count": 131,
      "outputs": [
        {
          "output_type": "execute_result",
          "data": {
            "text/plain": [
              "tensor([[1, 3, 2, 3],\n",
              "        [3, 4, 3, 5],\n",
              "        [3, 4, 3, 4],\n",
              "        [1, 2, 3, 4]])"
            ]
          },
          "metadata": {
            "tags": []
          },
          "execution_count": 131
        }
      ]
    },
    {
      "cell_type": "code",
      "metadata": {
        "colab": {
          "base_uri": "https://localhost:8080/"
        },
        "id": "Tf1GWvoY_7b2",
        "outputId": "075a4b2b-056a-4e87-a39b-e123af3ca2b0"
      },
      "source": [
        "type(t)"
      ],
      "execution_count": 132,
      "outputs": [
        {
          "output_type": "execute_result",
          "data": {
            "text/plain": [
              "torch.Tensor"
            ]
          },
          "metadata": {
            "tags": []
          },
          "execution_count": 132
        }
      ]
    },
    {
      "cell_type": "code",
      "metadata": {
        "colab": {
          "base_uri": "https://localhost:8080/"
        },
        "id": "KU5mjv8E_-2Z",
        "outputId": "88d3f518-7775-460c-fb7e-c5e835e32fe8"
      },
      "source": [
        "t.shape"
      ],
      "execution_count": 133,
      "outputs": [
        {
          "output_type": "execute_result",
          "data": {
            "text/plain": [
              "torch.Size([4, 4])"
            ]
          },
          "metadata": {
            "tags": []
          },
          "execution_count": 133
        }
      ]
    },
    {
      "cell_type": "code",
      "metadata": {
        "colab": {
          "base_uri": "https://localhost:8080/"
        },
        "id": "P-ge8pYbABMP",
        "outputId": "d025e411-73e1-42bb-d36d-af18028b70d1"
      },
      "source": [
        "len(t.shape)"
      ],
      "execution_count": 134,
      "outputs": [
        {
          "output_type": "execute_result",
          "data": {
            "text/plain": [
              "2"
            ]
          },
          "metadata": {
            "tags": []
          },
          "execution_count": 134
        }
      ]
    },
    {
      "cell_type": "code",
      "metadata": {
        "colab": {
          "base_uri": "https://localhost:8080/"
        },
        "id": "JpqhEoQ0Ah92",
        "outputId": "50d5a739-0c9f-460d-a2d4-6ae87bcd90ac"
      },
      "source": [
        "t.shape"
      ],
      "execution_count": 135,
      "outputs": [
        {
          "output_type": "execute_result",
          "data": {
            "text/plain": [
              "torch.Size([4, 4])"
            ]
          },
          "metadata": {
            "tags": []
          },
          "execution_count": 135
        }
      ]
    },
    {
      "cell_type": "code",
      "metadata": {
        "colab": {
          "base_uri": "https://localhost:8080/"
        },
        "id": "MlJp1p7qA4kJ",
        "outputId": "7984ab7c-6011-431a-b759-a01fc0c19f7c"
      },
      "source": [
        "t.reshape(16,1)"
      ],
      "execution_count": 136,
      "outputs": [
        {
          "output_type": "execute_result",
          "data": {
            "text/plain": [
              "tensor([[1],\n",
              "        [3],\n",
              "        [2],\n",
              "        [3],\n",
              "        [3],\n",
              "        [4],\n",
              "        [3],\n",
              "        [5],\n",
              "        [3],\n",
              "        [4],\n",
              "        [3],\n",
              "        [4],\n",
              "        [1],\n",
              "        [2],\n",
              "        [3],\n",
              "        [4]])"
            ]
          },
          "metadata": {
            "tags": []
          },
          "execution_count": 136
        }
      ]
    },
    {
      "cell_type": "code",
      "metadata": {
        "colab": {
          "base_uri": "https://localhost:8080/"
        },
        "id": "8ETJlJQNA9nZ",
        "outputId": "1e8e1a69-4bbc-4660-d41e-8d71d3e47c97"
      },
      "source": [
        "t.reshape(1,16)"
      ],
      "execution_count": 137,
      "outputs": [
        {
          "output_type": "execute_result",
          "data": {
            "text/plain": [
              "tensor([[1, 3, 2, 3, 3, 4, 3, 5, 3, 4, 3, 4, 1, 2, 3, 4]])"
            ]
          },
          "metadata": {
            "tags": []
          },
          "execution_count": 137
        }
      ]
    },
    {
      "cell_type": "code",
      "metadata": {
        "id": "oRPxRKMZBBBS"
      },
      "source": [
        "t1=torch.Tensor()"
      ],
      "execution_count": 138,
      "outputs": []
    },
    {
      "cell_type": "code",
      "metadata": {
        "colab": {
          "base_uri": "https://localhost:8080/"
        },
        "id": "4VwluydehPDY",
        "outputId": "92786ecf-e797-4fe8-a8e9-cbdf3064734e"
      },
      "source": [
        "type(t1)"
      ],
      "execution_count": 139,
      "outputs": [
        {
          "output_type": "execute_result",
          "data": {
            "text/plain": [
              "torch.Tensor"
            ]
          },
          "metadata": {
            "tags": []
          },
          "execution_count": 139
        }
      ]
    },
    {
      "cell_type": "code",
      "metadata": {
        "id": "hfZUeru8hVBI"
      },
      "source": [
        "t1=torch.Tensor([4,5,6])"
      ],
      "execution_count": 140,
      "outputs": []
    },
    {
      "cell_type": "code",
      "metadata": {
        "colab": {
          "base_uri": "https://localhost:8080/"
        },
        "id": "m7BKTCm8hYfN",
        "outputId": "9173d8b2-1f44-4bf2-92ec-4f36abc7f246"
      },
      "source": [
        "t1"
      ],
      "execution_count": 141,
      "outputs": [
        {
          "output_type": "execute_result",
          "data": {
            "text/plain": [
              "tensor([4., 5., 6.])"
            ]
          },
          "metadata": {
            "tags": []
          },
          "execution_count": 141
        }
      ]
    },
    {
      "cell_type": "code",
      "metadata": {
        "id": "OgiSF-HdhZZt"
      },
      "source": [
        "t=torch.Tensor()"
      ],
      "execution_count": 142,
      "outputs": []
    },
    {
      "cell_type": "markdown",
      "metadata": {
        "id": "d46sJlP4hug7"
      },
      "source": [
        "attributes of tensor object"
      ]
    },
    {
      "cell_type": "code",
      "metadata": {
        "colab": {
          "base_uri": "https://localhost:8080/"
        },
        "id": "rujLO10ehljw",
        "outputId": "738f2c44-1da3-4774-a390-2c0c37f179b3"
      },
      "source": [
        "print(t.dtype)\n",
        "print(t.device)\n",
        "print(t.layout)"
      ],
      "execution_count": 143,
      "outputs": [
        {
          "output_type": "stream",
          "text": [
            "torch.float32\n",
            "cpu\n",
            "torch.strided\n"
          ],
          "name": "stdout"
        }
      ]
    },
    {
      "cell_type": "code",
      "metadata": {
        "id": "_ffjQbsFhw6U"
      },
      "source": [
        ""
      ],
      "execution_count": 143,
      "outputs": []
    },
    {
      "cell_type": "markdown",
      "metadata": {
        "id": "scZFecEeigm9"
      },
      "source": [
        "ways of creating tensor instances"
      ]
    },
    {
      "cell_type": "code",
      "metadata": {
        "id": "4S_tl7SIijHg"
      },
      "source": [
        "import numpy as np\n",
        "data=np.array([1,2,3])"
      ],
      "execution_count": 144,
      "outputs": []
    },
    {
      "cell_type": "code",
      "metadata": {
        "id": "0ZUKH5YNir8d"
      },
      "source": [
        "t1=torch.Tensor(data)"
      ],
      "execution_count": 145,
      "outputs": []
    },
    {
      "cell_type": "code",
      "metadata": {
        "id": "AT8tU55yivvd"
      },
      "source": [
        "t2=torch.tensor(data) #factory function"
      ],
      "execution_count": 146,
      "outputs": []
    },
    {
      "cell_type": "code",
      "metadata": {
        "id": "ZqENDoqeiyFs"
      },
      "source": [
        "t3=torch.as_tensor(data)  #factory function"
      ],
      "execution_count": 147,
      "outputs": []
    },
    {
      "cell_type": "code",
      "metadata": {
        "id": "dpN8JfyEi2ki"
      },
      "source": [
        "t4=torch.from_numpy(data) #factory function"
      ],
      "execution_count": 148,
      "outputs": []
    },
    {
      "cell_type": "code",
      "metadata": {
        "colab": {
          "base_uri": "https://localhost:8080/"
        },
        "id": "NrECzx2elfBk",
        "outputId": "f816ab3a-6167-421d-8581-2701481b88ae"
      },
      "source": [
        "torch.get_default_dtype()"
      ],
      "execution_count": 149,
      "outputs": [
        {
          "output_type": "execute_result",
          "data": {
            "text/plain": [
              "torch.float32"
            ]
          },
          "metadata": {
            "tags": []
          },
          "execution_count": 149
        }
      ]
    },
    {
      "cell_type": "code",
      "metadata": {
        "colab": {
          "base_uri": "https://localhost:8080/"
        },
        "id": "bLEUDgLHlsL1",
        "outputId": "0800b7f5-8c22-4c83-def7-dc7e63465082"
      },
      "source": [
        "torch.tensor(data,dtype=torch.float64)"
      ],
      "execution_count": 150,
      "outputs": [
        {
          "output_type": "execute_result",
          "data": {
            "text/plain": [
              "tensor([1., 2., 3.], dtype=torch.float64)"
            ]
          },
          "metadata": {
            "tags": []
          },
          "execution_count": 150
        }
      ]
    },
    {
      "cell_type": "code",
      "metadata": {
        "colab": {
          "base_uri": "https://localhost:8080/"
        },
        "id": "rImHUOiZi69C",
        "outputId": "c0e907c0-6bbe-40ea-eb89-711fdb810996"
      },
      "source": [
        "print(t1)"
      ],
      "execution_count": 151,
      "outputs": [
        {
          "output_type": "stream",
          "text": [
            "tensor([1., 2., 3.])\n"
          ],
          "name": "stdout"
        }
      ]
    },
    {
      "cell_type": "code",
      "metadata": {
        "colab": {
          "base_uri": "https://localhost:8080/"
        },
        "id": "mk10XvAWlWNV",
        "outputId": "43563ed4-a5ff-4181-d546-820b03605e3e"
      },
      "source": [
        "print(t2.dtype)"
      ],
      "execution_count": 152,
      "outputs": [
        {
          "output_type": "stream",
          "text": [
            "torch.int64\n"
          ],
          "name": "stdout"
        }
      ]
    },
    {
      "cell_type": "code",
      "metadata": {
        "id": "QciCWBRIlWlM"
      },
      "source": [
        ""
      ],
      "execution_count": 152,
      "outputs": []
    },
    {
      "cell_type": "code",
      "metadata": {
        "id": "uyMNziQ1lWxf"
      },
      "source": [
        ""
      ],
      "execution_count": 152,
      "outputs": []
    },
    {
      "cell_type": "markdown",
      "metadata": {
        "id": "pPyCky79jF4T"
      },
      "source": [
        "SOME TENSORS TO GET EASILY THAT ARE COMMON"
      ]
    },
    {
      "cell_type": "code",
      "metadata": {
        "colab": {
          "base_uri": "https://localhost:8080/"
        },
        "id": "BRq4Y_QhjJC4",
        "outputId": "31301b4a-d28f-4479-8791-6c80baf22d66"
      },
      "source": [
        "torch.eye(2)"
      ],
      "execution_count": 153,
      "outputs": [
        {
          "output_type": "execute_result",
          "data": {
            "text/plain": [
              "tensor([[1., 0.],\n",
              "        [0., 1.]])"
            ]
          },
          "metadata": {
            "tags": []
          },
          "execution_count": 153
        }
      ]
    },
    {
      "cell_type": "code",
      "metadata": {
        "colab": {
          "base_uri": "https://localhost:8080/"
        },
        "id": "Y0xPgjaWjL1v",
        "outputId": "6d952656-90c2-4da2-9bd1-c59355e87af6"
      },
      "source": [
        "torch.zeros(2,3)"
      ],
      "execution_count": 154,
      "outputs": [
        {
          "output_type": "execute_result",
          "data": {
            "text/plain": [
              "tensor([[0., 0., 0.],\n",
              "        [0., 0., 0.]])"
            ]
          },
          "metadata": {
            "tags": []
          },
          "execution_count": 154
        }
      ]
    },
    {
      "cell_type": "code",
      "metadata": {
        "colab": {
          "base_uri": "https://localhost:8080/"
        },
        "id": "sVBW4PnZjQwO",
        "outputId": "0912fdda-4d7b-4b27-a8fd-6575fa935891"
      },
      "source": [
        "torch.ones(5,5)"
      ],
      "execution_count": 155,
      "outputs": [
        {
          "output_type": "execute_result",
          "data": {
            "text/plain": [
              "tensor([[1., 1., 1., 1., 1.],\n",
              "        [1., 1., 1., 1., 1.],\n",
              "        [1., 1., 1., 1., 1.],\n",
              "        [1., 1., 1., 1., 1.],\n",
              "        [1., 1., 1., 1., 1.]])"
            ]
          },
          "metadata": {
            "tags": []
          },
          "execution_count": 155
        }
      ]
    },
    {
      "cell_type": "code",
      "metadata": {
        "colab": {
          "base_uri": "https://localhost:8080/"
        },
        "id": "iVhnmTG5jUPb",
        "outputId": "9ffb1952-00ba-47ed-fcd1-831e639277b6"
      },
      "source": [
        "torch.rand(3,2)"
      ],
      "execution_count": 156,
      "outputs": [
        {
          "output_type": "execute_result",
          "data": {
            "text/plain": [
              "tensor([[0.0463, 0.4163],\n",
              "        [0.8971, 0.6947],\n",
              "        [0.9370, 0.6954]])"
            ]
          },
          "metadata": {
            "tags": []
          },
          "execution_count": 156
        }
      ]
    },
    {
      "cell_type": "code",
      "metadata": {
        "id": "6fYucf-HjV5k"
      },
      "source": [
        ""
      ],
      "execution_count": 156,
      "outputs": []
    },
    {
      "cell_type": "markdown",
      "metadata": {
        "id": "Pl6AFSoSoGCQ"
      },
      "source": [
        "IMPLEMENTING FLATTEN FUNCTION"
      ]
    },
    {
      "cell_type": "code",
      "metadata": {
        "id": "LG2xzAXpoIFe"
      },
      "source": [
        "def flatten(t):\n",
        "  t=t.reshape(1,-1) # to figure out what value should be based on input we have given -1\n",
        "  t=t.squeeze\n",
        "  return t"
      ],
      "execution_count": 157,
      "outputs": []
    },
    {
      "cell_type": "code",
      "metadata": {
        "id": "ULUCIjBBoSZc"
      },
      "source": [
        ""
      ],
      "execution_count": 157,
      "outputs": []
    },
    {
      "cell_type": "code",
      "metadata": {
        "colab": {
          "base_uri": "https://localhost:8080/"
        },
        "id": "dvYcmlr0ogkf",
        "outputId": "df5fec08-2426-446c-ff80-fbd2b49bdcdd"
      },
      "source": [
        "t2"
      ],
      "execution_count": 158,
      "outputs": [
        {
          "output_type": "execute_result",
          "data": {
            "text/plain": [
              "tensor([1, 2, 3])"
            ]
          },
          "metadata": {
            "tags": []
          },
          "execution_count": 158
        }
      ]
    },
    {
      "cell_type": "code",
      "metadata": {
        "id": "K4fuQYUeomQl"
      },
      "source": [
        "t1=torch.tensor([[1,2],[3,4]],dtype=torch.float32)"
      ],
      "execution_count": 159,
      "outputs": []
    },
    {
      "cell_type": "code",
      "metadata": {
        "id": "e19mk5g1uKX4"
      },
      "source": [
        "t2=torch.tensor([[5,6],[7,8]],dtype=torch.float32)"
      ],
      "execution_count": 160,
      "outputs": []
    },
    {
      "cell_type": "code",
      "metadata": {
        "colab": {
          "base_uri": "https://localhost:8080/"
        },
        "id": "qh4RTPWbuQpv",
        "outputId": "9cdba08f-cf58-4e06-d2c1-368339d93bab"
      },
      "source": [
        "t1+t2"
      ],
      "execution_count": 161,
      "outputs": [
        {
          "output_type": "execute_result",
          "data": {
            "text/plain": [
              "tensor([[ 6.,  8.],\n",
              "        [10., 12.]])"
            ]
          },
          "metadata": {
            "tags": []
          },
          "execution_count": 161
        }
      ]
    },
    {
      "cell_type": "code",
      "metadata": {
        "colab": {
          "base_uri": "https://localhost:8080/"
        },
        "id": "LUK0BABzukmu",
        "outputId": "3bd003a2-f73f-498c-8882-431ea74e3768"
      },
      "source": [
        "t1*t2"
      ],
      "execution_count": 162,
      "outputs": [
        {
          "output_type": "execute_result",
          "data": {
            "text/plain": [
              "tensor([[ 5., 12.],\n",
              "        [21., 32.]])"
            ]
          },
          "metadata": {
            "tags": []
          },
          "execution_count": 162
        }
      ]
    },
    {
      "cell_type": "code",
      "metadata": {
        "colab": {
          "base_uri": "https://localhost:8080/"
        },
        "id": "Phiq6eXeumYH",
        "outputId": "934476ae-1d0a-4977-d287-7a441b2311ab"
      },
      "source": [
        "t1.add(2)"
      ],
      "execution_count": 163,
      "outputs": [
        {
          "output_type": "execute_result",
          "data": {
            "text/plain": [
              "tensor([[3., 4.],\n",
              "        [5., 6.]])"
            ]
          },
          "metadata": {
            "tags": []
          },
          "execution_count": 163
        }
      ]
    },
    {
      "cell_type": "code",
      "metadata": {
        "colab": {
          "base_uri": "https://localhost:8080/"
        },
        "id": "qqONKsFcup5h",
        "outputId": "3195971a-0159-44c1-c900-ac708410b50b"
      },
      "source": [
        "t2.div(2)"
      ],
      "execution_count": 164,
      "outputs": [
        {
          "output_type": "execute_result",
          "data": {
            "text/plain": [
              "tensor([[2.5000, 3.0000],\n",
              "        [3.5000, 4.0000]])"
            ]
          },
          "metadata": {
            "tags": []
          },
          "execution_count": 164
        }
      ]
    },
    {
      "cell_type": "code",
      "metadata": {
        "id": "6YbMrUXcuue3"
      },
      "source": [
        "t=torch.tensor([[0,1,0],[0,0,2],[3,0,3]],dtype=torch.float32)"
      ],
      "execution_count": 165,
      "outputs": []
    },
    {
      "cell_type": "code",
      "metadata": {
        "colab": {
          "base_uri": "https://localhost:8080/"
        },
        "id": "3dsiVHcVwFJd",
        "outputId": "9d720d49-2a72-46a4-afc4-64d92b908d77"
      },
      "source": [
        "t.sum()"
      ],
      "execution_count": 166,
      "outputs": [
        {
          "output_type": "execute_result",
          "data": {
            "text/plain": [
              "tensor(9.)"
            ]
          },
          "metadata": {
            "tags": []
          },
          "execution_count": 166
        }
      ]
    },
    {
      "cell_type": "code",
      "metadata": {
        "colab": {
          "base_uri": "https://localhost:8080/"
        },
        "id": "KCCyquW3wT8V",
        "outputId": "8aa85704-0134-4694-a58e-cd252fccd2ba"
      },
      "source": [
        "t.numel()"
      ],
      "execution_count": 167,
      "outputs": [
        {
          "output_type": "execute_result",
          "data": {
            "text/plain": [
              "9"
            ]
          },
          "metadata": {
            "tags": []
          },
          "execution_count": 167
        }
      ]
    },
    {
      "cell_type": "code",
      "metadata": {
        "colab": {
          "base_uri": "https://localhost:8080/"
        },
        "id": "sSLWTJyGwVXF",
        "outputId": "b180ed19-7afb-46f8-9872-647f2f2a403b"
      },
      "source": [
        "t.sum().numel()"
      ],
      "execution_count": 168,
      "outputs": [
        {
          "output_type": "execute_result",
          "data": {
            "text/plain": [
              "1"
            ]
          },
          "metadata": {
            "tags": []
          },
          "execution_count": 168
        }
      ]
    },
    {
      "cell_type": "code",
      "metadata": {
        "colab": {
          "base_uri": "https://localhost:8080/"
        },
        "id": "M0u7EfRzwaRw",
        "outputId": "e0f63671-9bd7-4214-ebfd-0568879fc116"
      },
      "source": [
        "t.sum().numel()<t.numel()"
      ],
      "execution_count": 169,
      "outputs": [
        {
          "output_type": "execute_result",
          "data": {
            "text/plain": [
              "True"
            ]
          },
          "metadata": {
            "tags": []
          },
          "execution_count": 169
        }
      ]
    },
    {
      "cell_type": "code",
      "metadata": {
        "colab": {
          "base_uri": "https://localhost:8080/"
        },
        "id": "fm1yoAtYwhu-",
        "outputId": "98d194ab-50c9-4945-86f6-0cab3b2a8037"
      },
      "source": [
        "t.prod()"
      ],
      "execution_count": 170,
      "outputs": [
        {
          "output_type": "execute_result",
          "data": {
            "text/plain": [
              "tensor(0.)"
            ]
          },
          "metadata": {
            "tags": []
          },
          "execution_count": 170
        }
      ]
    },
    {
      "cell_type": "code",
      "metadata": {
        "colab": {
          "base_uri": "https://localhost:8080/"
        },
        "id": "aBh7-cMmwjGD",
        "outputId": "995a2c2f-fd29-45d5-d5da-d9f29b582831"
      },
      "source": [
        "t.mean()"
      ],
      "execution_count": 171,
      "outputs": [
        {
          "output_type": "execute_result",
          "data": {
            "text/plain": [
              "tensor(1.)"
            ]
          },
          "metadata": {
            "tags": []
          },
          "execution_count": 171
        }
      ]
    },
    {
      "cell_type": "code",
      "metadata": {
        "colab": {
          "base_uri": "https://localhost:8080/"
        },
        "id": "S9Pi1h3-wkIb",
        "outputId": "25582b7c-fe19-474e-d8d2-0acff3c56396"
      },
      "source": [
        "t.std()"
      ],
      "execution_count": 172,
      "outputs": [
        {
          "output_type": "execute_result",
          "data": {
            "text/plain": [
              "tensor(1.3229)"
            ]
          },
          "metadata": {
            "tags": []
          },
          "execution_count": 172
        }
      ]
    },
    {
      "cell_type": "code",
      "metadata": {
        "colab": {
          "base_uri": "https://localhost:8080/"
        },
        "id": "FmqB5EOXwlBw",
        "outputId": "7af3c676-8c2a-4eb1-a0e8-08cfde3262da"
      },
      "source": [
        "t.sum(dim=0)"
      ],
      "execution_count": 173,
      "outputs": [
        {
          "output_type": "execute_result",
          "data": {
            "text/plain": [
              "tensor([3., 1., 5.])"
            ]
          },
          "metadata": {
            "tags": []
          },
          "execution_count": 173
        }
      ]
    },
    {
      "cell_type": "code",
      "metadata": {
        "colab": {
          "base_uri": "https://localhost:8080/"
        },
        "id": "ofVeRUxVw99h",
        "outputId": "c47cdab3-84d9-4777-cc65-b9f285a09a06"
      },
      "source": [
        "t.sum(1)"
      ],
      "execution_count": 174,
      "outputs": [
        {
          "output_type": "execute_result",
          "data": {
            "text/plain": [
              "tensor([1., 2., 6.])"
            ]
          },
          "metadata": {
            "tags": []
          },
          "execution_count": 174
        }
      ]
    },
    {
      "cell_type": "code",
      "metadata": {
        "id": "uscV_KJWxDCB"
      },
      "source": [
        "import torchvision\n",
        "import torchvision.transforms as transforms\n",
        "import torch.utils"
      ],
      "execution_count": 175,
      "outputs": []
    },
    {
      "cell_type": "code",
      "metadata": {
        "id": "z_FBeyh61GaF",
        "colab": {
          "base_uri": "https://localhost:8080/",
          "height": 229
        },
        "cellView": "code",
        "outputId": "39f10d3b-f99b-44b1-e2eb-94f75065c2b4"
      },
      "source": [
        "#@title Default title text\n",
        "#dont run this\n",
        "import pandas as pd\n",
        "#fasion mnist doing all this behind the scenes\n",
        "class OHLC(Dataset):\n",
        "  def __init__(self,csv_file):\n",
        "    self.data=pd.read_csv(csv_file)\n",
        "  def __getitem__(self,index):\n",
        "    r=self.data.iloc[index]\n",
        "    label=torch.tensor(r.is_up_day,torch.long)\n",
        "    sample=self.normalize(torch.tensor([r.open,r.high,r.low,r.close]))\n",
        "    return sample,label\n",
        "  def __len__(self):\n",
        "    return len(self.data) "
      ],
      "execution_count": 176,
      "outputs": [
        {
          "output_type": "error",
          "ename": "NameError",
          "evalue": "ignored",
          "traceback": [
            "\u001b[0;31m---------------------------------------------------------------------------\u001b[0m",
            "\u001b[0;31mNameError\u001b[0m                                 Traceback (most recent call last)",
            "\u001b[0;32m<ipython-input-176-4e8bc9ed7eb7>\u001b[0m in \u001b[0;36m<module>\u001b[0;34m()\u001b[0m\n\u001b[1;32m      3\u001b[0m \u001b[0;32mimport\u001b[0m \u001b[0mpandas\u001b[0m \u001b[0;32mas\u001b[0m \u001b[0mpd\u001b[0m\u001b[0;34m\u001b[0m\u001b[0;34m\u001b[0m\u001b[0m\n\u001b[1;32m      4\u001b[0m \u001b[0;31m#fasion mnist doing all this behind the scenes\u001b[0m\u001b[0;34m\u001b[0m\u001b[0;34m\u001b[0m\u001b[0;34m\u001b[0m\u001b[0m\n\u001b[0;32m----> 5\u001b[0;31m \u001b[0;32mclass\u001b[0m \u001b[0mOHLC\u001b[0m\u001b[0;34m(\u001b[0m\u001b[0mDataset\u001b[0m\u001b[0;34m)\u001b[0m\u001b[0;34m:\u001b[0m\u001b[0;34m\u001b[0m\u001b[0;34m\u001b[0m\u001b[0m\n\u001b[0m\u001b[1;32m      6\u001b[0m   \u001b[0;32mdef\u001b[0m \u001b[0m__init__\u001b[0m\u001b[0;34m(\u001b[0m\u001b[0mself\u001b[0m\u001b[0;34m,\u001b[0m\u001b[0mcsv_file\u001b[0m\u001b[0;34m)\u001b[0m\u001b[0;34m:\u001b[0m\u001b[0;34m\u001b[0m\u001b[0;34m\u001b[0m\u001b[0m\n\u001b[1;32m      7\u001b[0m     \u001b[0mself\u001b[0m\u001b[0;34m.\u001b[0m\u001b[0mdata\u001b[0m\u001b[0;34m=\u001b[0m\u001b[0mpd\u001b[0m\u001b[0;34m.\u001b[0m\u001b[0mread_csv\u001b[0m\u001b[0;34m(\u001b[0m\u001b[0mcsv_file\u001b[0m\u001b[0;34m)\u001b[0m\u001b[0;34m\u001b[0m\u001b[0;34m\u001b[0m\u001b[0m\n",
            "\u001b[0;31mNameError\u001b[0m: name 'Dataset' is not defined"
          ]
        }
      ]
    },
    {
      "cell_type": "code",
      "metadata": {
        "id": "Gaav_UdO3cqw"
      },
      "source": [
        "train_set=torchvision.datasets.FashionMNIST(\n",
        "    root='./data/FashionMNIST',train=True,download=True,\n",
        "      transform=transforms.Compose([transforms.ToTensor()])\n",
        ")"
      ],
      "execution_count": 177,
      "outputs": []
    },
    {
      "cell_type": "code",
      "metadata": {
        "id": "PvMKBwQf6eDK"
      },
      "source": [
        "train_loader=torch.utils.data.DataLoader(train_set) #passed train_set ,wraps the data by creating  instance of dataloader and stores reference in train_loader"
      ],
      "execution_count": 178,
      "outputs": []
    },
    {
      "cell_type": "code",
      "metadata": {
        "id": "h2ftACsW7fdp"
      },
      "source": [
        "train_loader=torch.utils.data.DataLoader(train_set,batch_size=100)"
      ],
      "execution_count": 304,
      "outputs": []
    },
    {
      "cell_type": "code",
      "metadata": {
        "id": "LtW66s1L8iRs"
      },
      "source": [
        "import numpy as np\n",
        "import matplotlib.pyplot as plt\n",
        "\n",
        "torch.set_printoptions(linewidth=120)"
      ],
      "execution_count": 180,
      "outputs": []
    },
    {
      "cell_type": "code",
      "metadata": {
        "colab": {
          "base_uri": "https://localhost:8080/"
        },
        "id": "YI9UPOU59B5A",
        "outputId": "80803e8f-7ce8-41e3-e572-c0384b63e32c"
      },
      "source": [
        "len(train_set)"
      ],
      "execution_count": 181,
      "outputs": [
        {
          "output_type": "execute_result",
          "data": {
            "text/plain": [
              "60000"
            ]
          },
          "metadata": {
            "tags": []
          },
          "execution_count": 181
        }
      ]
    },
    {
      "cell_type": "code",
      "metadata": {
        "colab": {
          "base_uri": "https://localhost:8080/"
        },
        "id": "IWxfDquV9EWs",
        "outputId": "fbaa8912-6d91-4492-e898-beb287ea5bd7"
      },
      "source": [
        "train_set.train_labels"
      ],
      "execution_count": 182,
      "outputs": [
        {
          "output_type": "stream",
          "text": [
            "/usr/local/lib/python3.7/dist-packages/torchvision/datasets/mnist.py:52: UserWarning: train_labels has been renamed targets\n",
            "  warnings.warn(\"train_labels has been renamed targets\")\n"
          ],
          "name": "stderr"
        },
        {
          "output_type": "execute_result",
          "data": {
            "text/plain": [
              "tensor([9, 0, 0,  ..., 3, 0, 5])"
            ]
          },
          "metadata": {
            "tags": []
          },
          "execution_count": 182
        }
      ]
    },
    {
      "cell_type": "code",
      "metadata": {
        "colab": {
          "base_uri": "https://localhost:8080/"
        },
        "id": "qTjmYH9i9NrJ",
        "outputId": "a3223497-2276-4ebc-d649-69956e85dfdd"
      },
      "source": [
        "train_set.train_labels.bincount()"
      ],
      "execution_count": 183,
      "outputs": [
        {
          "output_type": "stream",
          "text": [
            "/usr/local/lib/python3.7/dist-packages/torchvision/datasets/mnist.py:52: UserWarning: train_labels has been renamed targets\n",
            "  warnings.warn(\"train_labels has been renamed targets\")\n"
          ],
          "name": "stderr"
        },
        {
          "output_type": "execute_result",
          "data": {
            "text/plain": [
              "tensor([6000, 6000, 6000, 6000, 6000, 6000, 6000, 6000, 6000, 6000])"
            ]
          },
          "metadata": {
            "tags": []
          },
          "execution_count": 183
        }
      ]
    },
    {
      "cell_type": "code",
      "metadata": {
        "id": "Lc_SLYdl9jXi"
      },
      "source": [
        "sample=next(iter(train_set))"
      ],
      "execution_count": 184,
      "outputs": []
    },
    {
      "cell_type": "code",
      "metadata": {
        "colab": {
          "base_uri": "https://localhost:8080/"
        },
        "id": "5buxuikt-Uhi",
        "outputId": "8ddb9fcc-31cd-4504-8c1c-1d5a49190c5c"
      },
      "source": [
        "len(sample)"
      ],
      "execution_count": 185,
      "outputs": [
        {
          "output_type": "execute_result",
          "data": {
            "text/plain": [
              "2"
            ]
          },
          "metadata": {
            "tags": []
          },
          "execution_count": 185
        }
      ]
    },
    {
      "cell_type": "code",
      "metadata": {
        "colab": {
          "base_uri": "https://localhost:8080/"
        },
        "id": "ZAeMyZUL-Ymh",
        "outputId": "efdbb820-1e0b-40bb-93a5-c6b81dd7d062"
      },
      "source": [
        "type(sample)"
      ],
      "execution_count": 186,
      "outputs": [
        {
          "output_type": "execute_result",
          "data": {
            "text/plain": [
              "tuple"
            ]
          },
          "metadata": {
            "tags": []
          },
          "execution_count": 186
        }
      ]
    },
    {
      "cell_type": "code",
      "metadata": {
        "id": "iur4AQ-k-bJg"
      },
      "source": [
        "image,label=sample"
      ],
      "execution_count": 187,
      "outputs": []
    },
    {
      "cell_type": "code",
      "metadata": {
        "colab": {
          "base_uri": "https://localhost:8080/",
          "height": 282
        },
        "id": "rh8yiXf9-fLc",
        "outputId": "3dfa7e17-85c7-46ae-e79e-26d0d7cb2810"
      },
      "source": [
        "plt.imshow(image.squeeze(),cmap='Blues')\n",
        "print(':label',label)"
      ],
      "execution_count": 188,
      "outputs": [
        {
          "output_type": "stream",
          "text": [
            ":label 9\n"
          ],
          "name": "stdout"
        },
        {
          "output_type": "display_data",
          "data": {
            "image/png": "[encoded data removed]",
            "text/plain": [
              "<Figure size 432x288 with 1 Axes>"
            ]
          },
          "metadata": {
            "tags": [],
            "needs_background": "light"
          }
        }
      ]
    },
    {
      "cell_type": "code",
      "metadata": {
        "id": "0f2MjkRD-0C5"
      },
      "source": [
        "batch=next(iter(train_loader))"
      ],
      "execution_count": 189,
      "outputs": []
    },
    {
      "cell_type": "code",
      "metadata": {
        "colab": {
          "base_uri": "https://localhost:8080/"
        },
        "id": "RP10sd9G_gFk",
        "outputId": "040d74a2-46f1-4659-fd11-42aeaf91546c"
      },
      "source": [
        "len(batch)"
      ],
      "execution_count": 190,
      "outputs": [
        {
          "output_type": "execute_result",
          "data": {
            "text/plain": [
              "2"
            ]
          },
          "metadata": {
            "tags": []
          },
          "execution_count": 190
        }
      ]
    },
    {
      "cell_type": "code",
      "metadata": {
        "id": "E3izArVV_hpI"
      },
      "source": [
        "images,labels=batch"
      ],
      "execution_count": 191,
      "outputs": []
    },
    {
      "cell_type": "code",
      "metadata": {
        "colab": {
          "base_uri": "https://localhost:8080/"
        },
        "id": "lMR91n2L_jrK",
        "outputId": "f680f236-6731-4113-933c-6898634a3f48"
      },
      "source": [
        "type(batch)"
      ],
      "execution_count": 192,
      "outputs": [
        {
          "output_type": "execute_result",
          "data": {
            "text/plain": [
              "list"
            ]
          },
          "metadata": {
            "tags": []
          },
          "execution_count": 192
        }
      ]
    },
    {
      "cell_type": "code",
      "metadata": {
        "colab": {
          "base_uri": "https://localhost:8080/"
        },
        "id": "qvnEcuPn_mwR",
        "outputId": "f0e29cf3-cee0-44b1-ec89-e330841076a2"
      },
      "source": [
        "images.shape"
      ],
      "execution_count": 193,
      "outputs": [
        {
          "output_type": "execute_result",
          "data": {
            "text/plain": [
              "torch.Size([10, 1, 28, 28])"
            ]
          },
          "metadata": {
            "tags": []
          },
          "execution_count": 193
        }
      ]
    },
    {
      "cell_type": "code",
      "metadata": {
        "colab": {
          "base_uri": "https://localhost:8080/"
        },
        "id": "e94TCBtA_r4k",
        "outputId": "4da30f8b-d661-46e9-8163-4583efec1071"
      },
      "source": [
        "image.shape #notice the differnce"
      ],
      "execution_count": 194,
      "outputs": [
        {
          "output_type": "execute_result",
          "data": {
            "text/plain": [
              "torch.Size([1, 28, 28])"
            ]
          },
          "metadata": {
            "tags": []
          },
          "execution_count": 194
        }
      ]
    },
    {
      "cell_type": "code",
      "metadata": {
        "colab": {
          "base_uri": "https://localhost:8080/",
          "height": 282
        },
        "id": "YOwoksDB_vGR",
        "outputId": "281ccd48-601c-4d53-9f9a-89979148ae23"
      },
      "source": [
        "grid=torchvision.utils.make_grid(images,nrow=8)\n",
        "plt.figure(figsize=(15,15))\n",
        "plt.imshow(np.transpose(grid,(1,2,0)))\n",
        "print(labels)"
      ],
      "execution_count": 195,
      "outputs": [
        {
          "output_type": "stream",
          "text": [
            "tensor([9, 0, 0, 3, 0, 2, 7, 2, 5, 5])\n"
          ],
          "name": "stdout"
        },
        {
          "output_type": "display_data",
          "data": {
            "image/png": "[encoded data removed]",
            "text/plain": [
              "<Figure size 1080x1080 with 1 Axes>"
            ]
          },
          "metadata": {
            "tags": [],
            "needs_background": "light"
          }
        }
      ]
    },
    {
      "cell_type": "code",
      "metadata": {
        "id": "TtJi9nuGAXiD"
      },
      "source": [
        "import torch.nn as nn"
      ],
      "execution_count": 196,
      "outputs": []
    },
    {
      "cell_type": "code",
      "metadata": {
        "id": "56EgRKbKCfGR"
      },
      "source": [
        "#simple neural network\n",
        "class Network:\n",
        "  def __init__(self):\n",
        "    self.layer=None\n",
        "  def forward(self,t):\n",
        "    t=self.layer(t) \n",
        "    return t"
      ],
      "execution_count": 197,
      "outputs": []
    },
    {
      "cell_type": "code",
      "metadata": {
        "id": "A4CuWBfHIchL"
      },
      "source": [
        "#pytorch neural network\n",
        "class Network(nn.Module):\n",
        "  def __init__(self):\n",
        "    super(Network,self).__init__()\n",
        "    self.layer=None\n",
        "  def forward(self,t):\n",
        "    t=self.layer(t)\n",
        "    return t"
      ],
      "execution_count": 198,
      "outputs": []
    },
    {
      "cell_type": "code",
      "metadata": {
        "id": "0lTfY3GOI2qq"
      },
      "source": [
        "#now we have the Network class that has all the functionality of nn.Module class\n"
      ],
      "execution_count": 199,
      "outputs": []
    },
    {
      "cell_type": "code",
      "metadata": {
        "id": "7lb9_rvQJQ37"
      },
      "source": [
        "class Network(nn.Module):\n",
        "  def __init__(self):\n",
        "    super(Network,self).__init__()\n",
        "     # 1 input image channel, 6 output channels, 5x5 square convolution\n",
        "        # kernel\n",
        "    self.conv1 = nn.Conv2d(in_channels=1,out_channels= 6,kernel_size= 5)\n",
        "    self.conv2 = nn.Conv2d(in_channels=6,out_channels= 12,kernel_size= 5)\n",
        "    # an affine operation: y = Wx + b\n",
        "    self.fc1 = nn.Linear(in_features=16 * 5 * 5,out_features= 120)  # 5*5 from image dimension\n",
        "    self.fc2 = nn.Linear(in_features=120,out_features= 60)\n",
        "    self.out = nn.Linear(in_features= 60,out_features= 10)\n",
        "#two convolution layers and 3 linear layers\n",
        "  def forward(self,t):\n",
        "    t=self.layer(t)\n",
        "    return t"
      ],
      "execution_count": 200,
      "outputs": []
    },
    {
      "cell_type": "code",
      "metadata": {
        "id": "v-NY0lWBLmQ6"
      },
      "source": [
        "network=Network()"
      ],
      "execution_count": 201,
      "outputs": []
    },
    {
      "cell_type": "code",
      "metadata": {
        "colab": {
          "base_uri": "https://localhost:8080/"
        },
        "id": "Q8GG0jYpLosM",
        "outputId": "86b38d15-dc81-4184-b811-58387c6ee752"
      },
      "source": [
        "network"
      ],
      "execution_count": 202,
      "outputs": [
        {
          "output_type": "execute_result",
          "data": {
            "text/plain": [
              "Network(\n",
              "  (conv1): Conv2d(1, 6, kernel_size=(5, 5), stride=(1, 1))\n",
              "  (conv2): Conv2d(6, 12, kernel_size=(5, 5), stride=(1, 1))\n",
              "  (fc1): Linear(in_features=400, out_features=120, bias=True)\n",
              "  (fc2): Linear(in_features=120, out_features=60, bias=True)\n",
              "  (out): Linear(in_features=60, out_features=10, bias=True)\n",
              ")"
            ]
          },
          "metadata": {
            "tags": []
          },
          "execution_count": 202
        }
      ]
    },
    {
      "cell_type": "code",
      "metadata": {
        "id": "UaIqGzYjLp6W",
        "colab": {
          "base_uri": "https://localhost:8080/"
        },
        "outputId": "adb3e39c-4389-400c-d241-3de6ca7bb6e7"
      },
      "source": [
        "print(network)"
      ],
      "execution_count": 203,
      "outputs": [
        {
          "output_type": "stream",
          "text": [
            "Network(\n",
            "  (conv1): Conv2d(1, 6, kernel_size=(5, 5), stride=(1, 1))\n",
            "  (conv2): Conv2d(6, 12, kernel_size=(5, 5), stride=(1, 1))\n",
            "  (fc1): Linear(in_features=400, out_features=120, bias=True)\n",
            "  (fc2): Linear(in_features=120, out_features=60, bias=True)\n",
            "  (out): Linear(in_features=60, out_features=10, bias=True)\n",
            ")\n"
          ],
          "name": "stdout"
        }
      ]
    },
    {
      "cell_type": "code",
      "metadata": {
        "colab": {
          "base_uri": "https://localhost:8080/"
        },
        "id": "wLxjZWesE5_f",
        "outputId": "7c72d175-e85a-4f63-8662-12f1ee9efcb7"
      },
      "source": [
        "network.conv1"
      ],
      "execution_count": 204,
      "outputs": [
        {
          "output_type": "execute_result",
          "data": {
            "text/plain": [
              "Conv2d(1, 6, kernel_size=(5, 5), stride=(1, 1))"
            ]
          },
          "metadata": {
            "tags": []
          },
          "execution_count": 204
        }
      ]
    },
    {
      "cell_type": "code",
      "metadata": {
        "colab": {
          "base_uri": "https://localhost:8080/"
        },
        "id": "_dkUHynwFCwU",
        "outputId": "3b2858af-cf8b-48f5-925c-287e29d7df3e"
      },
      "source": [
        "network.conv2"
      ],
      "execution_count": 205,
      "outputs": [
        {
          "output_type": "execute_result",
          "data": {
            "text/plain": [
              "Conv2d(6, 12, kernel_size=(5, 5), stride=(1, 1))"
            ]
          },
          "metadata": {
            "tags": []
          },
          "execution_count": 205
        }
      ]
    },
    {
      "cell_type": "code",
      "metadata": {
        "colab": {
          "base_uri": "https://localhost:8080/"
        },
        "id": "4-rPmMEsFEe5",
        "outputId": "3e5799ee-6d75-4fed-f407-da591b05c3ff"
      },
      "source": [
        "network.fc1"
      ],
      "execution_count": 206,
      "outputs": [
        {
          "output_type": "execute_result",
          "data": {
            "text/plain": [
              "Linear(in_features=400, out_features=120, bias=True)"
            ]
          },
          "metadata": {
            "tags": []
          },
          "execution_count": 206
        }
      ]
    },
    {
      "cell_type": "code",
      "metadata": {
        "colab": {
          "base_uri": "https://localhost:8080/"
        },
        "id": "Q52K7q7GFGJj",
        "outputId": "663887bc-48b5-4b26-9b9b-bbab2ef83f7c"
      },
      "source": [
        "network.fc2"
      ],
      "execution_count": 207,
      "outputs": [
        {
          "output_type": "execute_result",
          "data": {
            "text/plain": [
              "Linear(in_features=120, out_features=60, bias=True)"
            ]
          },
          "metadata": {
            "tags": []
          },
          "execution_count": 207
        }
      ]
    },
    {
      "cell_type": "code",
      "metadata": {
        "colab": {
          "base_uri": "https://localhost:8080/"
        },
        "id": "VcPn3dezFHTs",
        "outputId": "9ec86600-6dbd-40b1-babb-48185d15c38e"
      },
      "source": [
        "network.conv1.weight  #Network object inherits from Module class ,conv and Linear  layer objects inside Network class and weights inside Layer class"
      ],
      "execution_count": 208,
      "outputs": [
        {
          "output_type": "execute_result",
          "data": {
            "text/plain": [
              "Parameter containing:\n",
              "tensor([[[[ 0.0933,  0.1577, -0.0189,  0.0515,  0.1165],\n",
              "          [ 0.1471, -0.1713, -0.0452, -0.1919, -0.0498],\n",
              "          [ 0.0113, -0.0358,  0.1744,  0.1077,  0.1446],\n",
              "          [-0.1337, -0.0700, -0.0231,  0.0499,  0.1439],\n",
              "          [-0.0452,  0.0574, -0.1340, -0.0323, -0.0512]]],\n",
              "\n",
              "\n",
              "        [[[-0.1014, -0.1077,  0.0419, -0.1379,  0.1577],\n",
              "          [ 0.1865, -0.0361,  0.0370,  0.0602,  0.1598],\n",
              "          [ 0.0407, -0.1275,  0.0268,  0.1190, -0.1157],\n",
              "          [ 0.1056, -0.1323, -0.1983,  0.1208, -0.1486],\n",
              "          [ 0.1008, -0.1867,  0.0152,  0.0844, -0.1863]]],\n",
              "\n",
              "\n",
              "        [[[ 0.0587, -0.0273,  0.1771, -0.1348,  0.0758],\n",
              "          [-0.1369, -0.1483, -0.0041,  0.1607,  0.0392],\n",
              "          [-0.1772, -0.0759, -0.1392, -0.1349, -0.1421],\n",
              "          [-0.0750, -0.0825,  0.0537, -0.1207,  0.0664],\n",
              "          [ 0.1002,  0.1370, -0.0436, -0.0547, -0.1436]]],\n",
              "\n",
              "\n",
              "        [[[-0.0686,  0.0019,  0.1125, -0.1280, -0.0476],\n",
              "          [-0.1576,  0.0049,  0.0802,  0.1773,  0.1483],\n",
              "          [ 0.1171, -0.1818, -0.0020, -0.0839,  0.1970],\n",
              "          [ 0.0535,  0.1617, -0.1383,  0.0913, -0.1254],\n",
              "          [-0.0509, -0.0271,  0.1881, -0.1332,  0.1259]]],\n",
              "\n",
              "\n",
              "        [[[-0.1730, -0.1755, -0.1425, -0.0280,  0.1863],\n",
              "          [-0.1814,  0.0747, -0.1617, -0.1691,  0.0732],\n",
              "          [ 0.0441, -0.1383,  0.0142, -0.0850,  0.1683],\n",
              "          [ 0.0804, -0.0563,  0.1807,  0.0282, -0.0038],\n",
              "          [-0.1432,  0.0871, -0.0324,  0.0267,  0.1060]]],\n",
              "\n",
              "\n",
              "        [[[ 0.0721, -0.1661, -0.0433, -0.1157, -0.1868],\n",
              "          [-0.0236, -0.0674,  0.1684, -0.1717, -0.1903],\n",
              "          [ 0.1280,  0.1150, -0.0036,  0.0875,  0.0836],\n",
              "          [ 0.1403,  0.1469,  0.0396, -0.0266,  0.0921],\n",
              "          [ 0.0868,  0.0048, -0.1726, -0.1170,  0.0738]]]], requires_grad=True)"
            ]
          },
          "metadata": {
            "tags": []
          },
          "execution_count": 208
        }
      ]
    },
    {
      "cell_type": "code",
      "metadata": {
        "colab": {
          "base_uri": "https://localhost:8080/"
        },
        "id": "V4wYPeM-FRv3",
        "outputId": "927074e2-28af-45c3-e600-333895be2909"
      },
      "source": [
        "network.fc1.weight"
      ],
      "execution_count": 209,
      "outputs": [
        {
          "output_type": "execute_result",
          "data": {
            "text/plain": [
              "Parameter containing:\n",
              "tensor([[ 0.0110, -0.0261, -0.0168,  ...,  0.0061, -0.0056, -0.0285],\n",
              "        [ 0.0255,  0.0334,  0.0029,  ...,  0.0400,  0.0285,  0.0444],\n",
              "        [ 0.0325, -0.0213,  0.0493,  ...,  0.0312,  0.0110, -0.0283],\n",
              "        ...,\n",
              "        [ 0.0259, -0.0057,  0.0426,  ..., -0.0188,  0.0034,  0.0093],\n",
              "        [ 0.0423, -0.0382, -0.0080,  ..., -0.0171,  0.0114, -0.0185],\n",
              "        [-0.0435, -0.0494,  0.0132,  ...,  0.0347,  0.0310,  0.0175]], requires_grad=True)"
            ]
          },
          "metadata": {
            "tags": []
          },
          "execution_count": 209
        }
      ]
    },
    {
      "cell_type": "code",
      "metadata": {
        "colab": {
          "base_uri": "https://localhost:8080/"
        },
        "id": "h7RuAwMgFpsE",
        "outputId": "46cd7349-fba4-4ac0-cc86-1fab5870603a"
      },
      "source": [
        "#weights parameters are in form of tensor \n",
        "network.fc1.weight.shape"
      ],
      "execution_count": 210,
      "outputs": [
        {
          "output_type": "execute_result",
          "data": {
            "text/plain": [
              "torch.Size([120, 400])"
            ]
          },
          "metadata": {
            "tags": []
          },
          "execution_count": 210
        }
      ]
    },
    {
      "cell_type": "code",
      "metadata": {
        "colab": {
          "base_uri": "https://localhost:8080/"
        },
        "id": "HkKMeWb9F9dU",
        "outputId": "6372d0b8-c804-477e-83d7-60c4ad17896c"
      },
      "source": [
        "network.conv1.weight.shape"
      ],
      "execution_count": 211,
      "outputs": [
        {
          "output_type": "execute_result",
          "data": {
            "text/plain": [
              "torch.Size([6, 1, 5, 5])"
            ]
          },
          "metadata": {
            "tags": []
          },
          "execution_count": 211
        }
      ]
    },
    {
      "cell_type": "code",
      "metadata": {
        "colab": {
          "base_uri": "https://localhost:8080/"
        },
        "id": "V8UUuUlQGBNB",
        "outputId": "44e58d3b-aa41-45b4-d355-1cc1dee70f3e"
      },
      "source": [
        "network.conv1.weight[0].shape"
      ],
      "execution_count": 212,
      "outputs": [
        {
          "output_type": "execute_result",
          "data": {
            "text/plain": [
              "torch.Size([1, 5, 5])"
            ]
          },
          "metadata": {
            "tags": []
          },
          "execution_count": 212
        }
      ]
    },
    {
      "cell_type": "code",
      "metadata": {
        "id": "oOYDuolMHbj7"
      },
      "source": [
        "in_features=torch.tensor([1,2,3,4],dtype=torch.float32)\n",
        "\n",
        "weight_matrix=torch.tensor([[1,2,3,4],[5,6,7,8],[9,10,11,12]],dtype=torch.float32)\n"
      ],
      "execution_count": 213,
      "outputs": []
    },
    {
      "cell_type": "code",
      "metadata": {
        "colab": {
          "base_uri": "https://localhost:8080/"
        },
        "id": "-yLD27KWH5Bk",
        "outputId": "4ed9ed61-56ed-48fb-bacb-a2d0d00eead1"
      },
      "source": [
        "weight_matrix.matmul(in_features)"
      ],
      "execution_count": 214,
      "outputs": [
        {
          "output_type": "execute_result",
          "data": {
            "text/plain": [
              "tensor([ 30.,  70., 110.])"
            ]
          },
          "metadata": {
            "tags": []
          },
          "execution_count": 214
        }
      ]
    },
    {
      "cell_type": "code",
      "metadata": {
        "colab": {
          "base_uri": "https://localhost:8080/"
        },
        "id": "wYAiZd9rH9TE",
        "outputId": "f6c6ef78-9f3e-4ecd-d03f-9409f8be3bc1"
      },
      "source": [
        "for param in network.parameters():\n",
        "  print(param.shape)\n"
      ],
      "execution_count": 215,
      "outputs": [
        {
          "output_type": "stream",
          "text": [
            "torch.Size([6, 1, 5, 5])\n",
            "torch.Size([6])\n",
            "torch.Size([12, 6, 5, 5])\n",
            "torch.Size([12])\n",
            "torch.Size([120, 400])\n",
            "torch.Size([120])\n",
            "torch.Size([60, 120])\n",
            "torch.Size([60])\n",
            "torch.Size([10, 60])\n",
            "torch.Size([10])\n"
          ],
          "name": "stdout"
        }
      ]
    },
    {
      "cell_type": "code",
      "metadata": {
        "colab": {
          "base_uri": "https://localhost:8080/"
        },
        "id": "jZacIgNdIUJ-",
        "outputId": "9ba795ea-a88c-4c73-aac2-5207c9b50fe9"
      },
      "source": [
        "for name,param in network.named_parameters():\n",
        "  print(name,'\\t\\t',param.shape)"
      ],
      "execution_count": 216,
      "outputs": [
        {
          "output_type": "stream",
          "text": [
            "conv1.weight \t\t torch.Size([6, 1, 5, 5])\n",
            "conv1.bias \t\t torch.Size([6])\n",
            "conv2.weight \t\t torch.Size([12, 6, 5, 5])\n",
            "conv2.bias \t\t torch.Size([12])\n",
            "fc1.weight \t\t torch.Size([120, 400])\n",
            "fc1.bias \t\t torch.Size([120])\n",
            "fc2.weight \t\t torch.Size([60, 120])\n",
            "fc2.bias \t\t torch.Size([60])\n",
            "out.weight \t\t torch.Size([10, 60])\n",
            "out.bias \t\t torch.Size([10])\n"
          ],
          "name": "stdout"
        }
      ]
    },
    {
      "cell_type": "code",
      "metadata": {
        "id": "G7XN19KuInR9"
      },
      "source": [
        "fc=nn.Linear(in_features=4,out_features=3)"
      ],
      "execution_count": 217,
      "outputs": []
    },
    {
      "cell_type": "code",
      "metadata": {
        "colab": {
          "base_uri": "https://localhost:8080/"
        },
        "id": "h9ZNefLSJYYu",
        "outputId": "3d3d01e8-d5e5-4191-934a-efc1ef60f7b5"
      },
      "source": [
        "fc"
      ],
      "execution_count": 218,
      "outputs": [
        {
          "output_type": "execute_result",
          "data": {
            "text/plain": [
              "Linear(in_features=4, out_features=3, bias=True)"
            ]
          },
          "metadata": {
            "tags": []
          },
          "execution_count": 218
        }
      ]
    },
    {
      "cell_type": "code",
      "metadata": {
        "colab": {
          "base_uri": "https://localhost:8080/"
        },
        "id": "VmWrOBCNJcXB",
        "outputId": "1780f20c-11ef-4d33-a8a2-1855f9713941"
      },
      "source": [
        "fc(in_features)   #pytorch creates here weight matrix with random values with 4 input features"
      ],
      "execution_count": 219,
      "outputs": [
        {
          "output_type": "execute_result",
          "data": {
            "text/plain": [
              "tensor([ 2.1769,  0.6967, -1.4680])"
            ]
          },
          "metadata": {
            "tags": []
          },
          "execution_count": 219
        }
      ]
    },
    {
      "cell_type": "code",
      "metadata": {
        "id": "f6c4meg9Jwd4"
      },
      "source": [
        "fc.weight=nn.Parameter(weight_matrix)"
      ],
      "execution_count": 220,
      "outputs": []
    },
    {
      "cell_type": "code",
      "metadata": {
        "colab": {
          "base_uri": "https://localhost:8080/"
        },
        "id": "ELev_VVqKHJN",
        "outputId": "1e10637e-bc63-48d3-9e30-953ad1063786"
      },
      "source": [
        "fc"
      ],
      "execution_count": 221,
      "outputs": [
        {
          "output_type": "execute_result",
          "data": {
            "text/plain": [
              "Linear(in_features=4, out_features=3, bias=True)"
            ]
          },
          "metadata": {
            "tags": []
          },
          "execution_count": 221
        }
      ]
    },
    {
      "cell_type": "code",
      "metadata": {
        "colab": {
          "base_uri": "https://localhost:8080/"
        },
        "id": "cZ9ncoX3KKm-",
        "outputId": "7c85b844-2966-4fa5-e267-39dc04718877"
      },
      "source": [
        "fc(in_features)   "
      ],
      "execution_count": 222,
      "outputs": [
        {
          "output_type": "execute_result",
          "data": {
            "text/plain": [
              "tensor([ 30.4901,  69.7256, 110.2515])"
            ]
          },
          "metadata": {
            "tags": []
          },
          "execution_count": 222
        }
      ]
    },
    {
      "cell_type": "code",
      "metadata": {
        "id": "KNaKNnM6KS87"
      },
      "source": [
        "# to match exactly \n",
        "fc=nn.Linear(in_features=4,out_features=3,bias=False)"
      ],
      "execution_count": 223,
      "outputs": []
    },
    {
      "cell_type": "code",
      "metadata": {
        "id": "nFnqPjb5Kkv5"
      },
      "source": [
        "fc.weight=nn.Parameter(weight_matrix)"
      ],
      "execution_count": 224,
      "outputs": []
    },
    {
      "cell_type": "code",
      "metadata": {
        "colab": {
          "base_uri": "https://localhost:8080/"
        },
        "id": "C9TZKhIGK2Ab",
        "outputId": "a09c776e-01d8-4343-da1e-8e629dd31874"
      },
      "source": [
        "fc(in_features)"
      ],
      "execution_count": 225,
      "outputs": [
        {
          "output_type": "execute_result",
          "data": {
            "text/plain": [
              "tensor([ 30.,  70., 110.])"
            ]
          },
          "metadata": {
            "tags": []
          },
          "execution_count": 225
        }
      ]
    },
    {
      "cell_type": "code",
      "metadata": {
        "id": "SZN4nwOSK3gG"
      },
      "source": [
        "import torch.nn.functional as F\n",
        "class Network(nn.Module):\n",
        "  def __init__(self):\n",
        "    super(Network,self).__init__()\n",
        "    self.conv1=nn.Conv2d(in_channels=1,out_channels=6,kernel_size=5)\n",
        "    self.conv2=nn.Conv2d(in_channels=6,out_channels=12,kernel_size=5)\n",
        "\n",
        "    self.fc1=nn.Linear(in_features=12*4*4,out_features=120)\n",
        "    self.fc2=nn.Linear(in_features=120,out_features=60)\n",
        "    self.out=nn.Linear(in_features=60,out_features=10)\n",
        "  def forward(self,t):\n",
        "    #input layer\n",
        "    t=t\n",
        "    #(2) hidden conv1 layer\n",
        "    t=self.conv1(t)\n",
        "    t=F.relu(t)\n",
        "    t=F.max_pool2d(t,kernel_size=2,stride=2)\n",
        "    #(3) hidden conv2 layer\n",
        "    t=self.conv2(t)\n",
        "    t=F.relu(t)\n",
        "    t=F.max_pool2d(t,kernel_size=2,stride=2)\n",
        "    #4 hidden linear layer\n",
        "    t=t.reshape(-1,12*4*4) #flattening tensor before putting to linear layer from convolutional layer\n",
        "    t=self.fc1(t)\n",
        "    t=F.relu(t)\n",
        "\n",
        "    #5 hidden linear layer 2\n",
        "    t=self.fc2(t)\n",
        "    t=F.relu(t)\n",
        "    #6 output layer\n",
        "    t=self.out(t)\n",
        "    #t=F.softmax(t,dim=1) commenting this because of loss function we need to set during training process\n",
        "\n",
        "\n",
        "    return t\n",
        "\n",
        "    "
      ],
      "execution_count": 262,
      "outputs": []
    },
    {
      "cell_type": "code",
      "metadata": {
        "colab": {
          "base_uri": "https://localhost:8080/"
        },
        "id": "_UxGq7-ctdyu",
        "outputId": "0468be52-73f5-44b5-d269-36e34d70d6a5"
      },
      "source": [
        "torch.set_grad_enabled(False)"
      ],
      "execution_count": 263,
      "outputs": [
        {
          "output_type": "execute_result",
          "data": {
            "text/plain": [
              "<torch.autograd.grad_mode.set_grad_enabled at 0x7fee9cccb0d0>"
            ]
          },
          "metadata": {
            "tags": []
          },
          "execution_count": 263
        }
      ]
    },
    {
      "cell_type": "code",
      "metadata": {
        "id": "Da0xDwhxt9VK"
      },
      "source": [
        "network=Network()"
      ],
      "execution_count": 264,
      "outputs": []
    },
    {
      "cell_type": "code",
      "metadata": {
        "id": "AAqrKClPvh6R"
      },
      "source": [
        "sample=next(iter(train_set))"
      ],
      "execution_count": 265,
      "outputs": []
    },
    {
      "cell_type": "code",
      "metadata": {
        "id": "WF1uj6EZv_ls"
      },
      "source": [
        "image,label=sample"
      ],
      "execution_count": 266,
      "outputs": []
    },
    {
      "cell_type": "code",
      "metadata": {
        "colab": {
          "base_uri": "https://localhost:8080/"
        },
        "id": "zFyJmmMowEL9",
        "outputId": "f8b638c3-d534-491d-b971-8d485e140b88"
      },
      "source": [
        "image.shape"
      ],
      "execution_count": 267,
      "outputs": [
        {
          "output_type": "execute_result",
          "data": {
            "text/plain": [
              "torch.Size([1, 28, 28])"
            ]
          },
          "metadata": {
            "tags": []
          },
          "execution_count": 267
        }
      ]
    },
    {
      "cell_type": "code",
      "metadata": {
        "colab": {
          "base_uri": "https://localhost:8080/"
        },
        "id": "xCj1daWAwFPv",
        "outputId": "c01499e3-c74d-48e6-e800-0c22b0496f12"
      },
      "source": [
        "# we need to batch it\n",
        "image.unsqueeze(0).shape"
      ],
      "execution_count": 268,
      "outputs": [
        {
          "output_type": "execute_result",
          "data": {
            "text/plain": [
              "torch.Size([1, 1, 28, 28])"
            ]
          },
          "metadata": {
            "tags": []
          },
          "execution_count": 268
        }
      ]
    },
    {
      "cell_type": "code",
      "metadata": {
        "id": "brcErVGzwdH1"
      },
      "source": [
        "# image shape should be batchsize*input(color)_channel*height*width\n",
        "pred=network(image.unsqueeze(0))"
      ],
      "execution_count": 269,
      "outputs": []
    },
    {
      "cell_type": "code",
      "metadata": {
        "colab": {
          "base_uri": "https://localhost:8080/"
        },
        "id": "uOYT1OL8w8zl",
        "outputId": "0b6bca14-65c3-46d9-aa8f-02549b14bb60"
      },
      "source": [
        "pred.shape"
      ],
      "execution_count": 271,
      "outputs": [
        {
          "output_type": "execute_result",
          "data": {
            "text/plain": [
              "torch.Size([1, 10])"
            ]
          },
          "metadata": {
            "tags": []
          },
          "execution_count": 271
        }
      ]
    },
    {
      "cell_type": "code",
      "metadata": {
        "colab": {
          "base_uri": "https://localhost:8080/"
        },
        "id": "icnSaoM5ysmA",
        "outputId": "19fa4a2f-43d0-48c0-cec1-968e51fbed86"
      },
      "source": [
        "pred"
      ],
      "execution_count": 272,
      "outputs": [
        {
          "output_type": "execute_result",
          "data": {
            "text/plain": [
              "tensor([[-0.0382,  0.0843,  0.0243, -0.0900, -0.1350,  0.0859, -0.1030,  0.0250, -0.0489, -0.0506]])"
            ]
          },
          "metadata": {
            "tags": []
          },
          "execution_count": 272
        }
      ]
    },
    {
      "cell_type": "code",
      "metadata": {
        "colab": {
          "base_uri": "https://localhost:8080/"
        },
        "id": "Gh7zkhsOyxQq",
        "outputId": "ebb798f4-fd9e-4abc-b3a0-b77d533d0691"
      },
      "source": [
        "label"
      ],
      "execution_count": 273,
      "outputs": [
        {
          "output_type": "execute_result",
          "data": {
            "text/plain": [
              "9"
            ]
          },
          "metadata": {
            "tags": []
          },
          "execution_count": 273
        }
      ]
    },
    {
      "cell_type": "code",
      "metadata": {
        "colab": {
          "base_uri": "https://localhost:8080/"
        },
        "id": "lDCvas7Iyx1c",
        "outputId": "7d094b1b-133c-44f3-f8f2-6ad2c460dee0"
      },
      "source": [
        "pred.argmax(dim=1)"
      ],
      "execution_count": 274,
      "outputs": [
        {
          "output_type": "execute_result",
          "data": {
            "text/plain": [
              "tensor([5])"
            ]
          },
          "metadata": {
            "tags": []
          },
          "execution_count": 274
        }
      ]
    },
    {
      "cell_type": "code",
      "metadata": {
        "id": "tvtTc--Dy6-W"
      },
      "source": [
        "#this mean our model is predicting wrong serious issues"
      ],
      "execution_count": 275,
      "outputs": []
    },
    {
      "cell_type": "code",
      "metadata": {
        "colab": {
          "base_uri": "https://localhost:8080/"
        },
        "id": "xGxBDvTXzbfr",
        "outputId": "f6152ac1-7167-47b3-a551-012dabbfd2e2"
      },
      "source": [
        "network2=Network()\n",
        "network2(image.unsqueeze(0))"
      ],
      "execution_count": 276,
      "outputs": [
        {
          "output_type": "execute_result",
          "data": {
            "text/plain": [
              "tensor([[ 0.0021,  0.0298,  0.0571,  0.0811, -0.0901, -0.0225,  0.0200, -0.0248,  0.1026, -0.1322]])"
            ]
          },
          "metadata": {
            "tags": []
          },
          "execution_count": 276
        }
      ]
    },
    {
      "cell_type": "code",
      "metadata": {
        "colab": {
          "base_uri": "https://localhost:8080/"
        },
        "id": "cw3RPCxyzhn1",
        "outputId": "dd5d8e53-548e-4755-a5bb-760dbdeac166"
      },
      "source": [
        "network3=Network()\n",
        "network3(image.unsqueeze(0))"
      ],
      "execution_count": 277,
      "outputs": [
        {
          "output_type": "execute_result",
          "data": {
            "text/plain": [
              "tensor([[-0.1147,  0.1021, -0.0119,  0.1044, -0.0913, -0.0547,  0.0570,  0.1058,  0.1181,  0.0360]])"
            ]
          },
          "metadata": {
            "tags": []
          },
          "execution_count": 277
        }
      ]
    },
    {
      "cell_type": "code",
      "metadata": {
        "id": "8H-wJxgUzkoD"
      },
      "source": [
        "#something is missing"
      ],
      "execution_count": 278,
      "outputs": []
    },
    {
      "cell_type": "code",
      "metadata": {
        "id": "9M9GEukGzmtI"
      },
      "source": [
        "batch=next(iter(train_loader))\n",
        "images,labels=batch"
      ],
      "execution_count": 280,
      "outputs": []
    },
    {
      "cell_type": "code",
      "metadata": {
        "colab": {
          "base_uri": "https://localhost:8080/"
        },
        "id": "ikH_ji4e0ZIR",
        "outputId": "289ff177-8685-4e89-a649-1b689318d85a"
      },
      "source": [
        "images.shape"
      ],
      "execution_count": 281,
      "outputs": [
        {
          "output_type": "execute_result",
          "data": {
            "text/plain": [
              "torch.Size([10, 1, 28, 28])"
            ]
          },
          "metadata": {
            "tags": []
          },
          "execution_count": 281
        }
      ]
    },
    {
      "cell_type": "code",
      "metadata": {
        "colab": {
          "base_uri": "https://localhost:8080/"
        },
        "id": "zIrs7dfA0gUR",
        "outputId": "903e23f9-7c02-4b7a-bee6-8ffea8250d5e"
      },
      "source": [
        "labels.shape"
      ],
      "execution_count": 282,
      "outputs": [
        {
          "output_type": "execute_result",
          "data": {
            "text/plain": [
              "torch.Size([10])"
            ]
          },
          "metadata": {
            "tags": []
          },
          "execution_count": 282
        }
      ]
    },
    {
      "cell_type": "code",
      "metadata": {
        "colab": {
          "base_uri": "https://localhost:8080/"
        },
        "id": "1GoBYaO803jr",
        "outputId": "f35f0b64-e548-4d8e-b9dc-27c60a8f984c"
      },
      "source": [
        "pred=network(images)\n",
        "pred"
      ],
      "execution_count": 283,
      "outputs": [
        {
          "output_type": "execute_result",
          "data": {
            "text/plain": [
              "tensor([[-0.0382,  0.0843,  0.0243, -0.0900, -0.1350,  0.0859, -0.1030,  0.0250, -0.0489, -0.0506],\n",
              "        [-0.0379,  0.0871,  0.0243, -0.0893, -0.1328,  0.0881, -0.1054,  0.0236, -0.0551, -0.0562],\n",
              "        [-0.0402,  0.0870,  0.0218, -0.0904, -0.1335,  0.0864, -0.1017,  0.0261, -0.0529, -0.0533],\n",
              "        [-0.0390,  0.0857,  0.0230, -0.0906, -0.1355,  0.0859, -0.1036,  0.0253, -0.0527, -0.0529],\n",
              "        [-0.0367,  0.0873,  0.0242, -0.0902, -0.1353,  0.0863, -0.1038,  0.0262, -0.0523, -0.0565],\n",
              "        [-0.0385,  0.0859,  0.0238, -0.0920, -0.1359,  0.0856, -0.1037,  0.0250, -0.0522, -0.0549],\n",
              "        [-0.0369,  0.0899,  0.0276, -0.0890, -0.1300,  0.0846, -0.1021,  0.0227, -0.0500, -0.0505],\n",
              "        [-0.0359,  0.0860,  0.0241, -0.0901, -0.1365,  0.0881, -0.1046,  0.0246, -0.0547, -0.0559],\n",
              "        [-0.0390,  0.0854,  0.0218, -0.0916, -0.1311,  0.0875, -0.1077,  0.0218, -0.0533, -0.0492],\n",
              "        [-0.0390,  0.0843,  0.0212, -0.0911, -0.1327,  0.0865, -0.1086,  0.0255, -0.0552, -0.0526]])"
            ]
          },
          "metadata": {
            "tags": []
          },
          "execution_count": 283
        }
      ]
    },
    {
      "cell_type": "code",
      "metadata": {
        "colab": {
          "base_uri": "https://localhost:8080/"
        },
        "id": "FSj3d3Et1B1P",
        "outputId": "419962bd-6bfd-4cde-e9ff-2ee98878a1a2"
      },
      "source": [
        "pred.argmax(dim=1)"
      ],
      "execution_count": 293,
      "outputs": [
        {
          "output_type": "execute_result",
          "data": {
            "text/plain": [
              "tensor([5, 5, 1, 5, 1, 1, 1, 5, 5, 5])"
            ]
          },
          "metadata": {
            "tags": []
          },
          "execution_count": 293
        }
      ]
    },
    {
      "cell_type": "code",
      "metadata": {
        "colab": {
          "base_uri": "https://localhost:8080/"
        },
        "id": "_Envwn6y1IGp",
        "outputId": "dc600ca1-bcc0-4c2a-a665-4592cfb46903"
      },
      "source": [
        "labels"
      ],
      "execution_count": 294,
      "outputs": [
        {
          "output_type": "execute_result",
          "data": {
            "text/plain": [
              "tensor([9, 0, 0, 3, 0, 2, 7, 2, 5, 5])"
            ]
          },
          "metadata": {
            "tags": []
          },
          "execution_count": 294
        }
      ]
    },
    {
      "cell_type": "code",
      "metadata": {
        "colab": {
          "base_uri": "https://localhost:8080/"
        },
        "id": "EVc1zfZu2zpa",
        "outputId": "17d32923-c8f7-4d86-f2fb-50ac23d59701"
      },
      "source": [
        "torch.tensor(pred.argmax(dim=1).eq(labels),dtype=torch.int).sum()"
      ],
      "execution_count": 300,
      "outputs": [
        {
          "output_type": "stream",
          "text": [
            "/usr/local/lib/python3.7/dist-packages/ipykernel_launcher.py:1: UserWarning: To copy construct from a tensor, it is recommended to use sourceTensor.clone().detach() or sourceTensor.clone().detach().requires_grad_(True), rather than torch.tensor(sourceTensor).\n",
            "  \"\"\"Entry point for launching an IPython kernel.\n"
          ],
          "name": "stderr"
        },
        {
          "output_type": "execute_result",
          "data": {
            "text/plain": [
              "tensor(2)"
            ]
          },
          "metadata": {
            "tags": []
          },
          "execution_count": 300
        }
      ]
    },
    {
      "cell_type": "code",
      "metadata": {
        "colab": {
          "base_uri": "https://localhost:8080/",
          "height": 128
        },
        "id": "j9iOdHf-1obk",
        "outputId": "2a15676a-a876-424d-a10d-d3fe605e84f9"
      },
      "source": [
        "#again wrong prediction\n"
      ],
      "execution_count": 336,
      "outputs": [
        {
          "output_type": "error",
          "ename": "SyntaxError",
          "evalue": "ignored",
          "traceback": [
            "\u001b[0;36m  File \u001b[0;32m\"<ipython-input-336-f89f97cfa69f>\"\u001b[0;36m, line \u001b[0;32m3\u001b[0m\n\u001b[0;31m    return ((int)pred.argmax(dim=1).eq(labels)).sum().item()\u001b[0m\n\u001b[0m                    ^\u001b[0m\n\u001b[0;31mSyntaxError\u001b[0m\u001b[0;31m:\u001b[0m invalid syntax\n"
          ]
        }
      ]
    },
    {
      "cell_type": "code",
      "metadata": {
        "colab": {
          "base_uri": "https://localhost:8080/"
        },
        "id": "sr4g9ICZ2Ul0",
        "outputId": "7aac1878-9601-451c-d9d4-fc20aa8e367a"
      },
      "source": [
        "get_num_correct(pred,labels)"
      ],
      "execution_count": 321,
      "outputs": [
        {
          "output_type": "execute_result",
          "data": {
            "text/plain": [
              "tensor(2)"
            ]
          },
          "metadata": {
            "tags": []
          },
          "execution_count": 321
        }
      ]
    },
    {
      "cell_type": "code",
      "metadata": {
        "colab": {
          "base_uri": "https://localhost:8080/"
        },
        "id": "vghWGuDf2W0T",
        "outputId": "6e7c1373-00e9-4636-a09e-b3103bc9574f"
      },
      "source": [
        "torch.set_grad_enabled(True)"
      ],
      "execution_count": 303,
      "outputs": [
        {
          "output_type": "execute_result",
          "data": {
            "text/plain": [
              "<torch.autograd.grad_mode.set_grad_enabled at 0x7fee98e5c4d0>"
            ]
          },
          "metadata": {
            "tags": []
          },
          "execution_count": 303
        }
      ]
    },
    {
      "cell_type": "code",
      "metadata": {
        "id": "n9kGrB6J74Tu"
      },
      "source": [
        "import torch.optim as optim # to update weight"
      ],
      "execution_count": 315,
      "outputs": []
    },
    {
      "cell_type": "markdown",
      "metadata": {
        "id": "479CJJPX8jLe"
      },
      "source": [
        "CALCULATING THE LOSS"
      ]
    },
    {
      "cell_type": "code",
      "metadata": {
        "colab": {
          "base_uri": "https://localhost:8080/"
        },
        "id": "mlBGakv38kiH",
        "outputId": "734f765d-2d43-4e46-c6ba-20cc96bbe999"
      },
      "source": [
        "pred=network(images)\n",
        "loss=F.cross_entropy(pred,labels)\n",
        "loss.item() # to get numerical value"
      ],
      "execution_count": 305,
      "outputs": [
        {
          "output_type": "execute_result",
          "data": {
            "text/plain": [
              "2.2812469005584717"
            ]
          },
          "metadata": {
            "tags": []
          },
          "execution_count": 305
        }
      ]
    },
    {
      "cell_type": "markdown",
      "metadata": {
        "id": "rOFrhcff9DLQ"
      },
      "source": [
        "CALCULATING THE GRADIENTS"
      ]
    },
    {
      "cell_type": "code",
      "metadata": {
        "colab": {
          "base_uri": "https://localhost:8080/"
        },
        "id": "YTuCKco683AP",
        "outputId": "d6ec3d7c-4087-431b-e6ba-e5f5767f5580"
      },
      "source": [
        "print(network.conv1.weight.grad)"
      ],
      "execution_count": 306,
      "outputs": [
        {
          "output_type": "stream",
          "text": [
            "None\n"
          ],
          "name": "stdout"
        }
      ]
    },
    {
      "cell_type": "code",
      "metadata": {
        "id": "ZxxuCPos9MVQ"
      },
      "source": [
        "loss.backward() #backward propagation"
      ],
      "execution_count": null,
      "outputs": []
    },
    {
      "cell_type": "code",
      "metadata": {
        "colab": {
          "base_uri": "https://localhost:8080/"
        },
        "id": "RJ7wpD_79PWX",
        "outputId": "54bdf0b6-f18f-4d1d-f209-fc0f9dfd8ad1"
      },
      "source": [
        "network.conv1.weight.grad.shape"
      ],
      "execution_count": 310,
      "outputs": [
        {
          "output_type": "execute_result",
          "data": {
            "text/plain": [
              "torch.Size([6, 1, 5, 5])"
            ]
          },
          "metadata": {
            "tags": []
          },
          "execution_count": 310
        }
      ]
    },
    {
      "cell_type": "markdown",
      "metadata": {
        "id": "GKHIr4Gh9ynx"
      },
      "source": [
        "UPDATING THE WEIGHTS"
      ]
    },
    {
      "cell_type": "code",
      "metadata": {
        "colab": {
          "base_uri": "https://localhost:8080/"
        },
        "id": "5pYDf0Xg9gzA",
        "outputId": "5ca70e8e-76c2-4b4b-e524-ac1d22d3933b"
      },
      "source": [
        "loss.item()"
      ],
      "execution_count": 311,
      "outputs": [
        {
          "output_type": "execute_result",
          "data": {
            "text/plain": [
              "2.2812469005584717"
            ]
          },
          "metadata": {
            "tags": []
          },
          "execution_count": 311
        }
      ]
    },
    {
      "cell_type": "code",
      "metadata": {
        "colab": {
          "base_uri": "https://localhost:8080/"
        },
        "id": "lIX1Ja9795z7",
        "outputId": "66834fef-ec21-4589-cebd-39c302afdcdf"
      },
      "source": [
        "get_num_correct(pred,labels)"
      ],
      "execution_count": 312,
      "outputs": [
        {
          "output_type": "execute_result",
          "data": {
            "text/plain": [
              "<function Tensor.item>"
            ]
          },
          "metadata": {
            "tags": []
          },
          "execution_count": 312
        }
      ]
    },
    {
      "cell_type": "code",
      "metadata": {
        "id": "CyE8zVxy-KxR"
      },
      "source": [
        "optimizer=optim.Adam(network.parameters(),lr=0.01)\n",
        "optimizer.step() #updating the weight"
      ],
      "execution_count": 316,
      "outputs": []
    },
    {
      "cell_type": "code",
      "metadata": {
        "colab": {
          "base_uri": "https://localhost:8080/"
        },
        "id": "efd16XLQ-SOA",
        "outputId": "94b232c6-60b4-425c-8154-3b03aa159398"
      },
      "source": [
        "pred=network(images)\n",
        "loss=F.cross_entropy(pred,labels)\n",
        "loss.item()"
      ],
      "execution_count": 317,
      "outputs": [
        {
          "output_type": "execute_result",
          "data": {
            "text/plain": [
              "2.2032437324523926"
            ]
          },
          "metadata": {
            "tags": []
          },
          "execution_count": 317
        }
      ]
    },
    {
      "cell_type": "code",
      "metadata": {
        "colab": {
          "base_uri": "https://localhost:8080/"
        },
        "id": "v3jnm9yZ-4VM",
        "outputId": "0d3f1484-a9d9-4392-e5c7-dcd7d80a9943"
      },
      "source": [
        "get_num_correct(pred,labels)"
      ],
      "execution_count": 322,
      "outputs": [
        {
          "output_type": "execute_result",
          "data": {
            "text/plain": [
              "tensor(2)"
            ]
          },
          "metadata": {
            "tags": []
          },
          "execution_count": 322
        }
      ]
    },
    {
      "cell_type": "code",
      "metadata": {
        "colab": {
          "base_uri": "https://localhost:8080/"
        },
        "id": "qf_PrumG_E9J",
        "outputId": "b3acd2ac-0e97-4056-dc6c-90cbbbf01333"
      },
      "source": [
        "## combining at one place\n",
        "network=Network()\n",
        "train_loader=torch.utils.data.DataLoader(train_set,batch_size=100)\n",
        "optimizer=optim.Adam(network.parameters(),lr=0.01)\n",
        "batch=next(iter(train_loader))\n",
        "images,labels=batch\n",
        "\n",
        "pred=network(images)\n",
        "loss=F.cross_entropy(pred,labels)\n",
        "print(loss.item())\n",
        "\n",
        "loss.backward() #calculate gradient\n",
        "optimizer.step() #update weights\n",
        "\n",
        "\n",
        "loss2=F.cross_entropy(pred,labels)\n",
        "print(loss2.item())\n"
      ],
      "execution_count": 326,
      "outputs": [
        {
          "output_type": "stream",
          "text": [
            "2.297578811645508\n",
            "2.297578811645508\n"
          ],
          "name": "stdout"
        }
      ]
    },
    {
      "cell_type": "code",
      "metadata": {
        "id": "wPzeg5G4Ahcw"
      },
      "source": [
        ""
      ],
      "execution_count": null,
      "outputs": []
    },
    {
      "cell_type": "markdown",
      "metadata": {
        "id": "4LlJN8haCJw5"
      },
      "source": [
        "TRAINING WITH ALL BATCH 1 EPOCH"
      ]
    },
    {
      "cell_type": "code",
      "metadata": {
        "colab": {
          "base_uri": "https://localhost:8080/"
        },
        "id": "pjoR2eFUCOdU",
        "outputId": "e0c67837-795a-4546-d6fa-74eda766f8bb"
      },
      "source": [
        "total_loss=0\n",
        "for batch in train_loader:\n",
        "  batch=next(iter(train_loader))\n",
        "  images,labels=batch\n",
        "\n",
        "  pred=network(images)\n",
        "  loss=F.cross_entropy(pred,labels)\n",
        "  total_loss=total_loss+loss.item()\n",
        "  optimizer.zero_grad()\n",
        "  loss.backward() #calculate gradient\n",
        "  optimizer.step() #update weights\n",
        "\n",
        "print(\"epoch\",0,\"loss\",total_loss)"
      ],
      "execution_count": 328,
      "outputs": [
        {
          "output_type": "stream",
          "text": [
            "epoch 0 loss 0.006645072421179066\n"
          ],
          "name": "stdout"
        }
      ]
    },
    {
      "cell_type": "code",
      "metadata": {
        "colab": {
          "base_uri": "https://localhost:8080/"
        },
        "id": "CHIDpAuUDWWQ",
        "outputId": "713729b5-272a-4377-c4d6-24f6852e5ef4"
      },
      "source": [
        "loss.item()"
      ],
      "execution_count": 329,
      "outputs": [
        {
          "output_type": "execute_result",
          "data": {
            "text/plain": [
              "5.842367045261199e-06"
            ]
          },
          "metadata": {
            "tags": []
          },
          "execution_count": 329
        }
      ]
    },
    {
      "cell_type": "code",
      "metadata": {
        "colab": {
          "base_uri": "https://localhost:8080/"
        },
        "id": "pTAoguAfGRGp",
        "outputId": "defd4cb9-dfa0-4c14-e9c8-7744e0047532"
      },
      "source": [
        "\n",
        "def get_num_correct(pred,labels):\n",
        "  return (pred.argmax(dim=1).eq(labels)).sum().item()\n",
        "print(type(get_num_correct(pred,labels)))"
      ],
      "execution_count": 338,
      "outputs": [
        {
          "output_type": "stream",
          "text": [
            "<class 'int'>\n"
          ],
          "name": "stdout"
        }
      ]
    },
    {
      "cell_type": "code",
      "metadata": {
        "colab": {
          "base_uri": "https://localhost:8080/"
        },
        "id": "TxZFbrn9EdPX",
        "outputId": "d8ca3207-3cd9-42c0-c9f6-7b0641fd0e5c"
      },
      "source": [
        "for epoch in range(5):\n",
        "  total_loss=0\n",
        "  total_correct=0\n",
        "  for batch in train_loader:\n",
        "    batch=next(iter(train_loader))\n",
        "    images,labels=batch\n",
        "\n",
        "    pred=network(images)\n",
        "    loss=F.cross_entropy(pred,labels)\n",
        "    total_loss=total_loss+loss.item()\n",
        "    optimizer.zero_grad()\n",
        "    loss.backward() #calculate gradient\n",
        "    optimizer.step() #update weights\n",
        "    total_correct=total_correct+get_num_correct(pred,labels)\n",
        "  print(\"epoch\",epoch,\"loss\",total_loss,\"total_correct\",total_correct)"
      ],
      "execution_count": 339,
      "outputs": [
        {
          "output_type": "stream",
          "text": [
            "epoch 0 loss 0.002355021052153461 total_correct 60000\n",
            "epoch 1 loss 0.001150401286054148 total_correct 60000\n",
            "epoch 2 loss 0.0006455715169408904 total_correct 60000\n",
            "epoch 3 loss 0.0003930431584535654 total_correct 60000\n",
            "epoch 4 loss 0.00025050496967082836 total_correct 60000\n"
          ],
          "name": "stdout"
        }
      ]
    },
    {
      "cell_type": "code",
      "metadata": {
        "colab": {
          "base_uri": "https://localhost:8080/"
        },
        "id": "r1vyh-CpGu4R",
        "outputId": "81ee63b3-1a31-481b-b1e9-a97b1c8edb83"
      },
      "source": [
        "network2=Network()\n",
        "optimizer=optim.Adam(network2.parameters(),lr=0.1)\n",
        "for epoch in range(5):\n",
        "  total_loss=0\n",
        "  total_correct=0\n",
        "  for batch in train_loader:\n",
        "    batch=next(iter(train_loader))\n",
        "    images,labels=batch\n",
        "\n",
        "    pred=network2(images)\n",
        "    loss=F.cross_entropy(pred,labels)\n",
        "    total_loss=total_loss+loss.item()\n",
        "    optimizer.zero_grad()\n",
        "    loss.backward() #calculate gradient\n",
        "    optimizer.step() #update weights\n",
        "    total_correct=total_correct+get_num_correct(pred,labels)\n",
        "  print(\"epoch\",epoch,\"loss\",total_loss,\"total_correct\",total_correct)"
      ],
      "execution_count": 341,
      "outputs": [
        {
          "output_type": "stream",
          "text": [
            "epoch 0 loss 1370.504117012024 total_correct 8990\n",
            "epoch 1 loss 1357.143233537674 total_correct 9000\n",
            "epoch 2 loss 1357.1431813240051 total_correct 9000\n",
            "epoch 3 loss 1357.1427021026611 total_correct 9000\n",
            "epoch 4 loss 1357.144937992096 total_correct 9000\n"
          ],
          "name": "stdout"
        }
      ]
    },
    {
      "cell_type": "code",
      "metadata": {
        "id": "U9mCH02RHqHx"
      },
      "source": [
        ""
      ],
      "execution_count": null,
      "outputs": []
    },
    {
      "cell_type": "markdown",
      "metadata": {
        "id": "gcIyLaoDI_nd"
      },
      "source": [
        "ANALYZING CNN RESULTS AND PLOTTING CONFUSION MATRIX"
      ]
    },
    {
      "cell_type": "code",
      "metadata": {
        "id": "2OKK0TLBJDNG"
      },
      "source": [
        ""
      ],
      "execution_count": null,
      "outputs": []
    },
    {
      "cell_type": "markdown",
      "metadata": {
        "id": "fu0QLNfZJhgx"
      },
      "source": [
        "GETTING PREDICTIONS FOR ENTIRE TRAINING SET"
      ]
    },
    {
      "cell_type": "code",
      "metadata": {
        "id": "UX698Zm4JlIW"
      },
      "source": [
        "def get_all_pred(model,loader):\n",
        "  all_preds=torch.Tensor([])\n",
        "  for batch in loader:\n",
        "    images,labels=batch\n",
        "    pred=model(images)\n",
        "    all_preds=torch.cat(\n",
        "        (all_preds,pred),dim=0)\n",
        "  return all_preds\n"
      ],
      "execution_count": 343,
      "outputs": []
    },
    {
      "cell_type": "code",
      "metadata": {
        "id": "eNcHkdonKPZK"
      },
      "source": [
        "prediction_loader=torch.utils.data.DataLoader(train_set,batch_size=10000)\n",
        "train_preds=get_all_pred(network,prediction_loader)\n"
      ],
      "execution_count": 351,
      "outputs": []
    },
    {
      "cell_type": "code",
      "metadata": {
        "colab": {
          "base_uri": "https://localhost:8080/"
        },
        "id": "jTYGIMd-KunH",
        "outputId": "2a2bdf48-e507-403f-8c1d-bd679ba13703"
      },
      "source": [
        "train_preds.shape\n"
      ],
      "execution_count": 352,
      "outputs": [
        {
          "output_type": "execute_result",
          "data": {
            "text/plain": [
              "torch.Size([60000, 10])"
            ]
          },
          "metadata": {
            "tags": []
          },
          "execution_count": 352
        }
      ]
    },
    {
      "cell_type": "code",
      "metadata": {
        "colab": {
          "base_uri": "https://localhost:8080/"
        },
        "id": "hPI1fc-uK15I",
        "outputId": "fcd6100c-5c44-4320-8604-a4dfd0b312b8"
      },
      "source": [
        "print(train_preds.requires_grad)"
      ],
      "execution_count": 353,
      "outputs": [
        {
          "output_type": "stream",
          "text": [
            "True\n"
          ],
          "name": "stdout"
        }
      ]
    },
    {
      "cell_type": "code",
      "metadata": {
        "colab": {
          "base_uri": "https://localhost:8080/"
        },
        "id": "ABvuMKSuLU6V",
        "outputId": "3d898ca7-59ba-48c4-82c5-934c5cca84fd"
      },
      "source": [
        "preds_correct=get_num_correct(train_preds,train_set.targets)\n",
        "print(\"total corrtct\",preds_correct)\n",
        "print(\"accuracy\",preds_correct/len(train_set))"
      ],
      "execution_count": 354,
      "outputs": [
        {
          "output_type": "stream",
          "text": [
            "total corrtct 38588\n",
            "accuracy 0.6431333333333333\n"
          ],
          "name": "stdout"
        }
      ]
    },
    {
      "cell_type": "markdown",
      "metadata": {
        "id": "GA1j9F5XMb56"
      },
      "source": [
        "BUILDING A CONFUSION MATRIX"
      ]
    },
    {
      "cell_type": "code",
      "metadata": {
        "colab": {
          "base_uri": "https://localhost:8080/"
        },
        "id": "luminWyeMJ5y",
        "outputId": "695260e4-1cbd-4a65-c58a-ced72fe7aa8b"
      },
      "source": [
        "train_set.targets"
      ],
      "execution_count": 355,
      "outputs": [
        {
          "output_type": "execute_result",
          "data": {
            "text/plain": [
              "tensor([9, 0, 0,  ..., 3, 0, 5])"
            ]
          },
          "metadata": {
            "tags": []
          },
          "execution_count": 355
        }
      ]
    },
    {
      "cell_type": "code",
      "metadata": {
        "colab": {
          "base_uri": "https://localhost:8080/"
        },
        "id": "cdbC-B_uM3Ow",
        "outputId": "91dad31c-859e-4793-de11-5b810dc38238"
      },
      "source": [
        "train_preds.argmax(dim=1)"
      ],
      "execution_count": 356,
      "outputs": [
        {
          "output_type": "execute_result",
          "data": {
            "text/plain": [
              "tensor([9, 0, 0,  ..., 3, 0, 5])"
            ]
          },
          "metadata": {
            "tags": []
          },
          "execution_count": 356
        }
      ]
    },
    {
      "cell_type": "code",
      "metadata": {
        "id": "MznlVEmmNGZZ"
      },
      "source": [
        "stacked=torch.stack((train_set.targets,train_preds.argmax(dim=1)),dim=1)"
      ],
      "execution_count": 357,
      "outputs": []
    },
    {
      "cell_type": "code",
      "metadata": {
        "colab": {
          "base_uri": "https://localhost:8080/"
        },
        "id": "DqWLkgdKNj1L",
        "outputId": "d137194b-8466-4509-ddfe-7a655a7da17f"
      },
      "source": [
        "stacked.shape"
      ],
      "execution_count": 358,
      "outputs": [
        {
          "output_type": "execute_result",
          "data": {
            "text/plain": [
              "torch.Size([60000, 2])"
            ]
          },
          "metadata": {
            "tags": []
          },
          "execution_count": 358
        }
      ]
    },
    {
      "cell_type": "code",
      "metadata": {
        "colab": {
          "base_uri": "https://localhost:8080/"
        },
        "id": "gUVL-0DXNldb",
        "outputId": "2d66a2dc-8cdb-4cf7-a23d-18907adccc20"
      },
      "source": [
        "stacked"
      ],
      "execution_count": 359,
      "outputs": [
        {
          "output_type": "execute_result",
          "data": {
            "text/plain": [
              "tensor([[9, 9],\n",
              "        [0, 0],\n",
              "        [0, 0],\n",
              "        ...,\n",
              "        [3, 3],\n",
              "        [0, 0],\n",
              "        [5, 5]])"
            ]
          },
          "metadata": {
            "tags": []
          },
          "execution_count": 359
        }
      ]
    },
    {
      "cell_type": "code",
      "metadata": {
        "colab": {
          "base_uri": "https://localhost:8080/"
        },
        "id": "oGki148iNqVY",
        "outputId": "845739e3-f100-4acd-8250-6cbf9e389c32"
      },
      "source": [
        "stacked[0].tolist()"
      ],
      "execution_count": 364,
      "outputs": [
        {
          "output_type": "execute_result",
          "data": {
            "text/plain": [
              "[9, 9]"
            ]
          },
          "metadata": {
            "tags": []
          },
          "execution_count": 364
        }
      ]
    },
    {
      "cell_type": "code",
      "metadata": {
        "colab": {
          "base_uri": "https://localhost:8080/"
        },
        "id": "7eWrrcqTN3Do",
        "outputId": "571822ce-bc77-47dc-9c99-7f61a1ce72c3"
      },
      "source": [
        "cmt=torch.zeros(10,10,dtype=torch.int32)\n",
        "cmt"
      ],
      "execution_count": 365,
      "outputs": [
        {
          "output_type": "execute_result",
          "data": {
            "text/plain": [
              "tensor([[0, 0, 0, 0, 0, 0, 0, 0, 0, 0],\n",
              "        [0, 0, 0, 0, 0, 0, 0, 0, 0, 0],\n",
              "        [0, 0, 0, 0, 0, 0, 0, 0, 0, 0],\n",
              "        [0, 0, 0, 0, 0, 0, 0, 0, 0, 0],\n",
              "        [0, 0, 0, 0, 0, 0, 0, 0, 0, 0],\n",
              "        [0, 0, 0, 0, 0, 0, 0, 0, 0, 0],\n",
              "        [0, 0, 0, 0, 0, 0, 0, 0, 0, 0],\n",
              "        [0, 0, 0, 0, 0, 0, 0, 0, 0, 0],\n",
              "        [0, 0, 0, 0, 0, 0, 0, 0, 0, 0],\n",
              "        [0, 0, 0, 0, 0, 0, 0, 0, 0, 0]], dtype=torch.int32)"
            ]
          },
          "metadata": {
            "tags": []
          },
          "execution_count": 365
        }
      ]
    },
    {
      "cell_type": "code",
      "metadata": {
        "id": "MfmUBAWUOSPC"
      },
      "source": [
        "for p in stacked:\n",
        "  tl,pl=p.tolist()\n",
        "  cmt[tl,pl]=cmt[tl,pl]+1"
      ],
      "execution_count": 368,
      "outputs": []
    },
    {
      "cell_type": "code",
      "metadata": {
        "colab": {
          "base_uri": "https://localhost:8080/"
        },
        "id": "tSEEfukJOpXU",
        "outputId": "6c84b5f7-fd2b-469b-8866-e92abaf1ecd0"
      },
      "source": [
        "cmt"
      ],
      "execution_count": 369,
      "outputs": [
        {
          "output_type": "execute_result",
          "data": {
            "text/plain": [
              "tensor([[ 6170,   176,   636,   588,   328,   106,  3806,     6,   172,    12],\n",
              "        [  180,  9948,    82,  1038,   150,    80,   226,     2,   278,    16],\n",
              "        [  172,    20,  6100,    90,  1956,   110,  3394,     4,   148,     6],\n",
              "        [ 1696,   358,   128,  8306,   750,    34,   654,     0,    62,    12],\n",
              "        [  174,    22,  3990,   494,  5770,    80,  1262,     2,   192,    14],\n",
              "        [   12,    10,    54,     6,    76,  9384,   584,  1376,   164,   334],\n",
              "        [ 1378,    90,  3786,   574,  1470,   166,  4342,    16,   174,     4],\n",
              "        [    0,     0,     6,     0,     2,  1946,     0,  8706,    48,  1292],\n",
              "        [  204,   146,  1266,    20,   294,   654,   156,  1418,  7604,   238],\n",
              "        [    0,     0,     0,     4,    28,   476,     4,   598,    44, 10846]], dtype=torch.int32)"
            ]
          },
          "metadata": {
            "tags": []
          },
          "execution_count": 369
        }
      ]
    },
    {
      "cell_type": "code",
      "metadata": {
        "id": "XvZrA9I-Oq7X"
      },
      "source": [
        ""
      ],
      "execution_count": null,
      "outputs": []
    },
    {
      "cell_type": "markdown",
      "metadata": {
        "id": "2mDCTfxwO3-9"
      },
      "source": [
        "PLOTTING A CONFUSION MATRIX"
      ]
    },
    {
      "cell_type": "code",
      "metadata": {
        "colab": {
          "base_uri": "https://localhost:8080/",
          "height": 330
        },
        "id": "Lt6GuoMUO5mV",
        "outputId": "902312eb-db6f-449e-90a3-4b8e99422323"
      },
      "source": [
        "import matplotlib.pyplot as plt\n",
        "from sklearn.metrics import confusion_matrix\n",
        "from resource.plotcm import plot_confusion_matrix"
      ],
      "execution_count": 371,
      "outputs": [
        {
          "output_type": "error",
          "ename": "ModuleNotFoundError",
          "evalue": "ignored",
          "traceback": [
            "\u001b[0;31m---------------------------------------------------------------------------\u001b[0m",
            "\u001b[0;31mModuleNotFoundError\u001b[0m                       Traceback (most recent call last)",
            "\u001b[0;32m<ipython-input-371-5a2710a44b8b>\u001b[0m in \u001b[0;36m<module>\u001b[0;34m()\u001b[0m\n\u001b[1;32m      1\u001b[0m \u001b[0;32mimport\u001b[0m \u001b[0mmatplotlib\u001b[0m\u001b[0;34m.\u001b[0m\u001b[0mpyplot\u001b[0m \u001b[0;32mas\u001b[0m \u001b[0mplt\u001b[0m\u001b[0;34m\u001b[0m\u001b[0;34m\u001b[0m\u001b[0m\n\u001b[1;32m      2\u001b[0m \u001b[0;32mfrom\u001b[0m \u001b[0msklearn\u001b[0m\u001b[0;34m.\u001b[0m\u001b[0mmetrics\u001b[0m \u001b[0;32mimport\u001b[0m \u001b[0mconfusion_matrix\u001b[0m\u001b[0;34m\u001b[0m\u001b[0;34m\u001b[0m\u001b[0m\n\u001b[0;32m----> 3\u001b[0;31m \u001b[0;32mfrom\u001b[0m \u001b[0mresource\u001b[0m\u001b[0;34m.\u001b[0m\u001b[0mplotcm\u001b[0m \u001b[0;32mimport\u001b[0m \u001b[0mplot_confusion_matrix\u001b[0m\u001b[0;34m\u001b[0m\u001b[0;34m\u001b[0m\u001b[0m\n\u001b[0m",
            "\u001b[0;31mModuleNotFoundError\u001b[0m: No module named 'resource.plotcm'; 'resource' is not a package",
            "",
            "\u001b[0;31m---------------------------------------------------------------------------\u001b[0;32m\nNOTE: If your import is failing due to a missing package, you can\nmanually install dependencies using either !pip or !apt.\n\nTo view examples of installing some common dependencies, click the\n\"Open Examples\" button below.\n\u001b[0;31m---------------------------------------------------------------------------\u001b[0m\n"
          ]
        }
      ]
    },
    {
      "cell_type": "code",
      "metadata": {
        "colab": {
          "base_uri": "https://localhost:8080/"
        },
        "id": "HysMkTv6Q_SW",
        "outputId": "f8dd4830-55bc-4561-914a-91e350d4b674"
      },
      "source": [
        "cm=confusion_matrix(train_set.targets,train_preds.argmax(dim=1))\n",
        "print(type(cm))\n",
        "cm"
      ],
      "execution_count": 372,
      "outputs": [
        {
          "output_type": "stream",
          "text": [
            "<class 'numpy.ndarray'>\n"
          ],
          "name": "stdout"
        },
        {
          "output_type": "execute_result",
          "data": {
            "text/plain": [
              "array([[3085,   88,  318,  294,  164,   53, 1903,    3,   86,    6],\n",
              "       [  90, 4974,   41,  519,   75,   40,  113,    1,  139,    8],\n",
              "       [  86,   10, 3050,   45,  978,   55, 1697,    2,   74,    3],\n",
              "       [ 848,  179,   64, 4153,  375,   17,  327,    0,   31,    6],\n",
              "       [  87,   11, 1995,  247, 2885,   40,  631,    1,   96,    7],\n",
              "       [   6,    5,   27,    3,   38, 4692,  292,  688,   82,  167],\n",
              "       [ 689,   45, 1893,  287,  735,   83, 2171,    8,   87,    2],\n",
              "       [   0,    0,    3,    0,    1,  973,    0, 4353,   24,  646],\n",
              "       [ 102,   73,  633,   10,  147,  327,   78,  709, 3802,  119],\n",
              "       [   0,    0,    0,    2,   14,  238,    2,  299,   22, 5423]])"
            ]
          },
          "metadata": {
            "tags": []
          },
          "execution_count": 372
        }
      ]
    },
    {
      "cell_type": "code",
      "metadata": {
        "id": "Ifi24D1TRWLb"
      },
      "source": [
        "from torch.utils.tensorboard import SummaryWriter"
      ],
      "execution_count": 373,
      "outputs": []
    },
    {
      "cell_type": "code",
      "metadata": {
        "id": "NUz9J6MiSpGt"
      },
      "source": [
        ""
      ],
      "execution_count": null,
      "outputs": []
    },
    {
      "cell_type": "markdown",
      "metadata": {
        "id": "6jWrGavFSv3X"
      },
      "source": [
        "USING TENSORBOARD WITH PYTORCH-DEEP LEARNING METRICS"
      ]
    },
    {
      "cell_type": "code",
      "metadata": {
        "id": "RixjrcX1S1Zq"
      },
      "source": [
        "tb=SummaryWriter()\n",
        "network3=Network()\n",
        "images,labels=next(iter(train_loader))\n",
        "grid=torchvision.utils.make_grid(images)\n",
        "tb.add_image('images',grid)\n",
        "tb.add_graph(network,images)\n"
      ],
      "execution_count": 375,
      "outputs": []
    },
    {
      "cell_type": "code",
      "metadata": {
        "id": "x2M-pXu6TwtP"
      },
      "source": [
        ""
      ],
      "execution_count": null,
      "outputs": []
    },
    {
      "cell_type": "markdown",
      "metadata": {
        "id": "AAz0bReHUA0d"
      },
      "source": [
        "# New section"
      ]
    }
  ]
}