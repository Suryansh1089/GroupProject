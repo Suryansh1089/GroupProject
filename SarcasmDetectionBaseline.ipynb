{
  "nbformat": 4,
  "nbformat_minor": 0,
  "metadata": {
    "colab": {
      "name": "SarcasmDetectionBaseline.ipynb",
      "provenance": [],
      "collapsed_sections": [],
      "authorship_tag": "ABX9TyNd4pQXkBi3/oDIXEnysB2o",
      "include_colab_link": true
    },
    "kernelspec": {
      "name": "python3",
      "display_name": "Python 3"
    },
    "language_info": {
      "name": "python"
    }
  },
  "cells": [
    {
      "cell_type": "markdown",
      "metadata": {
        "id": "view-in-github",
        "colab_type": "text"
      },
      "source": [
        "<a href=\"https://colab.research.google.com/github/Suryansh1089/GroupProject/blob/main/SarcasmDetectionBaseline.ipynb\" target=\"_parent\"><img src=\"https://colab.research.google.com/assets/colab-badge.svg\" alt=\"Open In Colab\"/></a>"
      ]
    },
    {
      "cell_type": "code",
      "metadata": {
        "id": "AwUOEUtY-hIM"
      },
      "source": [
        "import pandas as pd\n",
        "import numpy as np"
      ],
      "execution_count": 1,
      "outputs": []
    },
    {
      "cell_type": "code",
      "metadata": {
        "id": "c1Jyy1WC-uuM"
      },
      "source": [
        "twitter_train=pd.read_json('twitter_train.jsonl',lines=True)"
      ],
      "execution_count": 2,
      "outputs": []
    },
    {
      "cell_type": "code",
      "metadata": {
        "colab": {
          "base_uri": "https://localhost:8080/",
          "height": 195
        },
        "id": "W_aWLBSr_Skh",
        "outputId": "9da22303-cb6e-4b71-df1a-84fde3d9cb7f"
      },
      "source": [
        "twitter_train.head()"
      ],
      "execution_count": 3,
      "outputs": [
        {
          "output_type": "execute_result",
          "data": {
            "text/html": [
              "<div>\n",
              "<style scoped>\n",
              "    .dataframe tbody tr th:only-of-type {\n",
              "        vertical-align: middle;\n",
              "    }\n",
              "\n",
              "    .dataframe tbody tr th {\n",
              "        vertical-align: top;\n",
              "    }\n",
              "\n",
              "    .dataframe thead th {\n",
              "        text-align: right;\n",
              "    }\n",
              "</style>\n",
              "<table border=\"1\" class=\"dataframe\">\n",
              "  <thead>\n",
              "    <tr style=\"text-align: right;\">\n",
              "      <th></th>\n",
              "      <th>label</th>\n",
              "      <th>response</th>\n",
              "      <th>context</th>\n",
              "    </tr>\n",
              "  </thead>\n",
              "  <tbody>\n",
              "    <tr>\n",
              "      <th>0</th>\n",
              "      <td>SARCASM</td>\n",
              "      <td>@USER @USER @USER I don't get this .. obviousl...</td>\n",
              "      <td>[A minor child deserves privacy and should be ...</td>\n",
              "    </tr>\n",
              "    <tr>\n",
              "      <th>1</th>\n",
              "      <td>SARCASM</td>\n",
              "      <td>@USER @USER trying to protest about . Talking ...</td>\n",
              "      <td>[@USER @USER Why is he a loser ? He's just a P...</td>\n",
              "    </tr>\n",
              "    <tr>\n",
              "      <th>2</th>\n",
              "      <td>SARCASM</td>\n",
              "      <td>@USER @USER @USER He makes an insane about of ...</td>\n",
              "      <td>[Donald J . Trump is guilty as charged . The e...</td>\n",
              "    </tr>\n",
              "    <tr>\n",
              "      <th>3</th>\n",
              "      <td>SARCASM</td>\n",
              "      <td>@USER @USER Meanwhile Trump won't even release...</td>\n",
              "      <td>[Jamie Raskin tanked Doug Collins . Collins lo...</td>\n",
              "    </tr>\n",
              "    <tr>\n",
              "      <th>4</th>\n",
              "      <td>SARCASM</td>\n",
              "      <td>@USER @USER Pretty Sure the Anti-Lincoln Crowd...</td>\n",
              "      <td>[Man ... y ’ all gone “ both sides ” the apoca...</td>\n",
              "    </tr>\n",
              "  </tbody>\n",
              "</table>\n",
              "</div>"
            ],
            "text/plain": [
              "     label  ...                                            context\n",
              "0  SARCASM  ...  [A minor child deserves privacy and should be ...\n",
              "1  SARCASM  ...  [@USER @USER Why is he a loser ? He's just a P...\n",
              "2  SARCASM  ...  [Donald J . Trump is guilty as charged . The e...\n",
              "3  SARCASM  ...  [Jamie Raskin tanked Doug Collins . Collins lo...\n",
              "4  SARCASM  ...  [Man ... y ’ all gone “ both sides ” the apoca...\n",
              "\n",
              "[5 rows x 3 columns]"
            ]
          },
          "metadata": {
            "tags": []
          },
          "execution_count": 3
        }
      ]
    },
    {
      "cell_type": "code",
      "metadata": {
        "id": "xqg6a31O_Unb"
      },
      "source": [
        "twitter_train['response']=twitter_train['response'].str.replace('@USER', \"\") \n",
        "twitter_train['response']=twitter_train['response'].str.replace('\\d+', '')\n",
        "twitter_train['response']=twitter_train['response'].str.lower()\n",
        "twitter_train['response']=twitter_train['response'].str.replace('[^\\w\\s]','')"
      ],
      "execution_count": 4,
      "outputs": []
    },
    {
      "cell_type": "code",
      "metadata": {
        "colab": {
          "base_uri": "https://localhost:8080/",
          "height": 195
        },
        "id": "4jhgl3d5_ZXu",
        "outputId": "68b6da2a-4104-43ca-8d34-6758d36744bd"
      },
      "source": [
        "twitter_train.head()"
      ],
      "execution_count": 5,
      "outputs": [
        {
          "output_type": "execute_result",
          "data": {
            "text/html": [
              "<div>\n",
              "<style scoped>\n",
              "    .dataframe tbody tr th:only-of-type {\n",
              "        vertical-align: middle;\n",
              "    }\n",
              "\n",
              "    .dataframe tbody tr th {\n",
              "        vertical-align: top;\n",
              "    }\n",
              "\n",
              "    .dataframe thead th {\n",
              "        text-align: right;\n",
              "    }\n",
              "</style>\n",
              "<table border=\"1\" class=\"dataframe\">\n",
              "  <thead>\n",
              "    <tr style=\"text-align: right;\">\n",
              "      <th></th>\n",
              "      <th>label</th>\n",
              "      <th>response</th>\n",
              "      <th>context</th>\n",
              "    </tr>\n",
              "  </thead>\n",
              "  <tbody>\n",
              "    <tr>\n",
              "      <th>0</th>\n",
              "      <td>SARCASM</td>\n",
              "      <td>i dont get this  obviously you do care or y...</td>\n",
              "      <td>[A minor child deserves privacy and should be ...</td>\n",
              "    </tr>\n",
              "    <tr>\n",
              "      <th>1</th>\n",
              "      <td>SARCASM</td>\n",
              "      <td>trying to protest about  talking about him a...</td>\n",
              "      <td>[@USER @USER Why is he a loser ? He's just a P...</td>\n",
              "    </tr>\n",
              "    <tr>\n",
              "      <th>2</th>\n",
              "      <td>SARCASM</td>\n",
              "      <td>he makes an insane about of money from the ...</td>\n",
              "      <td>[Donald J . Trump is guilty as charged . The e...</td>\n",
              "    </tr>\n",
              "    <tr>\n",
              "      <th>3</th>\n",
              "      <td>SARCASM</td>\n",
              "      <td>meanwhile trump wont even release his sat sc...</td>\n",
              "      <td>[Jamie Raskin tanked Doug Collins . Collins lo...</td>\n",
              "    </tr>\n",
              "    <tr>\n",
              "      <th>4</th>\n",
              "      <td>SARCASM</td>\n",
              "      <td>pretty sure the antilincoln crowd claimed th...</td>\n",
              "      <td>[Man ... y ’ all gone “ both sides ” the apoca...</td>\n",
              "    </tr>\n",
              "  </tbody>\n",
              "</table>\n",
              "</div>"
            ],
            "text/plain": [
              "     label  ...                                            context\n",
              "0  SARCASM  ...  [A minor child deserves privacy and should be ...\n",
              "1  SARCASM  ...  [@USER @USER Why is he a loser ? He's just a P...\n",
              "2  SARCASM  ...  [Donald J . Trump is guilty as charged . The e...\n",
              "3  SARCASM  ...  [Jamie Raskin tanked Doug Collins . Collins lo...\n",
              "4  SARCASM  ...  [Man ... y ’ all gone “ both sides ” the apoca...\n",
              "\n",
              "[5 rows x 3 columns]"
            ]
          },
          "metadata": {
            "tags": []
          },
          "execution_count": 5
        }
      ]
    },
    {
      "cell_type": "code",
      "metadata": {
        "id": "Ca557vhH_b1w"
      },
      "source": [
        "twitter_train['context']=twitter_train['context'].apply(lambda x: ','.join(map(str, x)))\n",
        "twitter_train['context']=twitter_train['context'].str.replace('@USER', \"\") \n",
        "twitter_train['context']=twitter_train['context'].str.lower()\n",
        "twitter_train['context']=twitter_train['context'].str.replace('[^\\w\\s]','')\n",
        "twitter_train['context']=twitter_train['context'].str.replace('\\d+', '')"
      ],
      "execution_count": 6,
      "outputs": []
    },
    {
      "cell_type": "code",
      "metadata": {
        "colab": {
          "base_uri": "https://localhost:8080/",
          "height": 195
        },
        "id": "heUoY0Pf_gDu",
        "outputId": "9984607d-2c0d-44f1-97d2-3ea0268926b5"
      },
      "source": [
        "twitter_train.head()"
      ],
      "execution_count": 7,
      "outputs": [
        {
          "output_type": "execute_result",
          "data": {
            "text/html": [
              "<div>\n",
              "<style scoped>\n",
              "    .dataframe tbody tr th:only-of-type {\n",
              "        vertical-align: middle;\n",
              "    }\n",
              "\n",
              "    .dataframe tbody tr th {\n",
              "        vertical-align: top;\n",
              "    }\n",
              "\n",
              "    .dataframe thead th {\n",
              "        text-align: right;\n",
              "    }\n",
              "</style>\n",
              "<table border=\"1\" class=\"dataframe\">\n",
              "  <thead>\n",
              "    <tr style=\"text-align: right;\">\n",
              "      <th></th>\n",
              "      <th>label</th>\n",
              "      <th>response</th>\n",
              "      <th>context</th>\n",
              "    </tr>\n",
              "  </thead>\n",
              "  <tbody>\n",
              "    <tr>\n",
              "      <th>0</th>\n",
              "      <td>SARCASM</td>\n",
              "      <td>i dont get this  obviously you do care or y...</td>\n",
              "      <td>a minor child deserves privacy and should be k...</td>\n",
              "    </tr>\n",
              "    <tr>\n",
              "      <th>1</th>\n",
              "      <td>SARCASM</td>\n",
              "      <td>trying to protest about  talking about him a...</td>\n",
              "      <td>why is he a loser  hes just a press secretar...</td>\n",
              "    </tr>\n",
              "    <tr>\n",
              "      <th>2</th>\n",
              "      <td>SARCASM</td>\n",
              "      <td>he makes an insane about of money from the ...</td>\n",
              "      <td>donald j  trump is guilty as charged  the evid...</td>\n",
              "    </tr>\n",
              "    <tr>\n",
              "      <th>3</th>\n",
              "      <td>SARCASM</td>\n",
              "      <td>meanwhile trump wont even release his sat sc...</td>\n",
              "      <td>jamie raskin tanked doug collins  collins look...</td>\n",
              "    </tr>\n",
              "    <tr>\n",
              "      <th>4</th>\n",
              "      <td>SARCASM</td>\n",
              "      <td>pretty sure the antilincoln crowd claimed th...</td>\n",
              "      <td>man  y  all gone  both sides  the apocalypse o...</td>\n",
              "    </tr>\n",
              "  </tbody>\n",
              "</table>\n",
              "</div>"
            ],
            "text/plain": [
              "     label  ...                                            context\n",
              "0  SARCASM  ...  a minor child deserves privacy and should be k...\n",
              "1  SARCASM  ...    why is he a loser  hes just a press secretar...\n",
              "2  SARCASM  ...  donald j  trump is guilty as charged  the evid...\n",
              "3  SARCASM  ...  jamie raskin tanked doug collins  collins look...\n",
              "4  SARCASM  ...  man  y  all gone  both sides  the apocalypse o...\n",
              "\n",
              "[5 rows x 3 columns]"
            ]
          },
          "metadata": {
            "tags": []
          },
          "execution_count": 7
        }
      ]
    },
    {
      "cell_type": "code",
      "metadata": {
        "colab": {
          "base_uri": "https://localhost:8080/",
          "height": 195
        },
        "id": "wNWSkq9m_h_Z",
        "outputId": "ea31d6ab-5c0d-405d-f6ed-0038b040b75a"
      },
      "source": [
        "twitter_train.tail()"
      ],
      "execution_count": 8,
      "outputs": [
        {
          "output_type": "execute_result",
          "data": {
            "text/html": [
              "<div>\n",
              "<style scoped>\n",
              "    .dataframe tbody tr th:only-of-type {\n",
              "        vertical-align: middle;\n",
              "    }\n",
              "\n",
              "    .dataframe tbody tr th {\n",
              "        vertical-align: top;\n",
              "    }\n",
              "\n",
              "    .dataframe thead th {\n",
              "        text-align: right;\n",
              "    }\n",
              "</style>\n",
              "<table border=\"1\" class=\"dataframe\">\n",
              "  <thead>\n",
              "    <tr style=\"text-align: right;\">\n",
              "      <th></th>\n",
              "      <th>label</th>\n",
              "      <th>response</th>\n",
              "      <th>context</th>\n",
              "    </tr>\n",
              "  </thead>\n",
              "  <tbody>\n",
              "    <tr>\n",
              "      <th>4995</th>\n",
              "      <td>NOT_SARCASM</td>\n",
              "      <td>you dont  i have purchased a lot on amazon  c...</td>\n",
              "      <td>apologies for the inconvenience you faced wit...</td>\n",
              "    </tr>\n",
              "    <tr>\n",
              "      <th>4996</th>\n",
              "      <td>NOT_SARCASM</td>\n",
              "      <td>emotions you say  never knew that i think i  ...</td>\n",
              "      <td>idk tho  i think i  m hungry  but that  s de...</td>\n",
              "    </tr>\n",
              "    <tr>\n",
              "      <th>4997</th>\n",
              "      <td>NOT_SARCASM</td>\n",
              "      <td>you are so right   yes  silence is not priv...</td>\n",
              "      <td>peace to you  and two countries certainly s...</td>\n",
              "    </tr>\n",
              "    <tr>\n",
              "      <th>4998</th>\n",
              "      <td>NOT_SARCASM</td>\n",
              "      <td>another lazy delusional voter who takes the...</td>\n",
              "      <td>bernie sanders told elizabeth warren in privat...</td>\n",
              "    </tr>\n",
              "    <tr>\n",
              "      <th>4999</th>\n",
              "      <td>NOT_SARCASM</td>\n",
              "      <td>i hope you know no news outlet from nigeria ...</td>\n",
              "      <td>pdp protest brainstorming session deji  we nee...</td>\n",
              "    </tr>\n",
              "  </tbody>\n",
              "</table>\n",
              "</div>"
            ],
            "text/plain": [
              "            label  ...                                            context\n",
              "4995  NOT_SARCASM  ...   apologies for the inconvenience you faced wit...\n",
              "4996  NOT_SARCASM  ...    idk tho  i think i  m hungry  but that  s de...\n",
              "4997  NOT_SARCASM  ...     peace to you  and two countries certainly s...\n",
              "4998  NOT_SARCASM  ...  bernie sanders told elizabeth warren in privat...\n",
              "4999  NOT_SARCASM  ...  pdp protest brainstorming session deji  we nee...\n",
              "\n",
              "[5 rows x 3 columns]"
            ]
          },
          "metadata": {
            "tags": []
          },
          "execution_count": 8
        }
      ]
    },
    {
      "cell_type": "code",
      "metadata": {
        "id": "zyvh6eer_mCx"
      },
      "source": [
        "from collections import Counter"
      ],
      "execution_count": 9,
      "outputs": []
    },
    {
      "cell_type": "code",
      "metadata": {
        "colab": {
          "base_uri": "https://localhost:8080/"
        },
        "id": "20zKnxiW_vl9",
        "outputId": "0205017f-7db3-4d87-ce6b-8b0c05dc52e0"
      },
      "source": [
        "Counter(twitter_train['label'])"
      ],
      "execution_count": 10,
      "outputs": [
        {
          "output_type": "execute_result",
          "data": {
            "text/plain": [
              "Counter({'NOT_SARCASM': 2500, 'SARCASM': 2500})"
            ]
          },
          "metadata": {
            "tags": []
          },
          "execution_count": 10
        }
      ]
    },
    {
      "cell_type": "code",
      "metadata": {
        "id": "hNx0bj9g_zRl"
      },
      "source": [
        "from sklearn.preprocessing import LabelEncoder\n",
        "le=LabelEncoder()"
      ],
      "execution_count": 11,
      "outputs": []
    },
    {
      "cell_type": "code",
      "metadata": {
        "id": "N67hFLph_-lI"
      },
      "source": [
        "train_label=le.fit_transform(twitter_train['label'])"
      ],
      "execution_count": 13,
      "outputs": []
    },
    {
      "cell_type": "code",
      "metadata": {
        "colab": {
          "base_uri": "https://localhost:8080/",
          "height": 195
        },
        "id": "IHFmlF6iAH7k",
        "outputId": "66964752-1c51-406d-c9fe-e791798094e5"
      },
      "source": [
        "twitter_train.head()"
      ],
      "execution_count": 14,
      "outputs": [
        {
          "output_type": "execute_result",
          "data": {
            "text/html": [
              "<div>\n",
              "<style scoped>\n",
              "    .dataframe tbody tr th:only-of-type {\n",
              "        vertical-align: middle;\n",
              "    }\n",
              "\n",
              "    .dataframe tbody tr th {\n",
              "        vertical-align: top;\n",
              "    }\n",
              "\n",
              "    .dataframe thead th {\n",
              "        text-align: right;\n",
              "    }\n",
              "</style>\n",
              "<table border=\"1\" class=\"dataframe\">\n",
              "  <thead>\n",
              "    <tr style=\"text-align: right;\">\n",
              "      <th></th>\n",
              "      <th>label</th>\n",
              "      <th>response</th>\n",
              "      <th>context</th>\n",
              "    </tr>\n",
              "  </thead>\n",
              "  <tbody>\n",
              "    <tr>\n",
              "      <th>0</th>\n",
              "      <td>SARCASM</td>\n",
              "      <td>i dont get this  obviously you do care or y...</td>\n",
              "      <td>a minor child deserves privacy and should be k...</td>\n",
              "    </tr>\n",
              "    <tr>\n",
              "      <th>1</th>\n",
              "      <td>SARCASM</td>\n",
              "      <td>trying to protest about  talking about him a...</td>\n",
              "      <td>why is he a loser  hes just a press secretar...</td>\n",
              "    </tr>\n",
              "    <tr>\n",
              "      <th>2</th>\n",
              "      <td>SARCASM</td>\n",
              "      <td>he makes an insane about of money from the ...</td>\n",
              "      <td>donald j  trump is guilty as charged  the evid...</td>\n",
              "    </tr>\n",
              "    <tr>\n",
              "      <th>3</th>\n",
              "      <td>SARCASM</td>\n",
              "      <td>meanwhile trump wont even release his sat sc...</td>\n",
              "      <td>jamie raskin tanked doug collins  collins look...</td>\n",
              "    </tr>\n",
              "    <tr>\n",
              "      <th>4</th>\n",
              "      <td>SARCASM</td>\n",
              "      <td>pretty sure the antilincoln crowd claimed th...</td>\n",
              "      <td>man  y  all gone  both sides  the apocalypse o...</td>\n",
              "    </tr>\n",
              "  </tbody>\n",
              "</table>\n",
              "</div>"
            ],
            "text/plain": [
              "     label  ...                                            context\n",
              "0  SARCASM  ...  a minor child deserves privacy and should be k...\n",
              "1  SARCASM  ...    why is he a loser  hes just a press secretar...\n",
              "2  SARCASM  ...  donald j  trump is guilty as charged  the evid...\n",
              "3  SARCASM  ...  jamie raskin tanked doug collins  collins look...\n",
              "4  SARCASM  ...  man  y  all gone  both sides  the apocalypse o...\n",
              "\n",
              "[5 rows x 3 columns]"
            ]
          },
          "metadata": {
            "tags": []
          },
          "execution_count": 14
        }
      ]
    },
    {
      "cell_type": "code",
      "metadata": {
        "colab": {
          "base_uri": "https://localhost:8080/",
          "height": 195
        },
        "id": "mOcqBaPsAR1W",
        "outputId": "c34796a5-a7af-4b02-9403-9efa368ab3de"
      },
      "source": [
        "twitter_train.tail()"
      ],
      "execution_count": 15,
      "outputs": [
        {
          "output_type": "execute_result",
          "data": {
            "text/html": [
              "<div>\n",
              "<style scoped>\n",
              "    .dataframe tbody tr th:only-of-type {\n",
              "        vertical-align: middle;\n",
              "    }\n",
              "\n",
              "    .dataframe tbody tr th {\n",
              "        vertical-align: top;\n",
              "    }\n",
              "\n",
              "    .dataframe thead th {\n",
              "        text-align: right;\n",
              "    }\n",
              "</style>\n",
              "<table border=\"1\" class=\"dataframe\">\n",
              "  <thead>\n",
              "    <tr style=\"text-align: right;\">\n",
              "      <th></th>\n",
              "      <th>label</th>\n",
              "      <th>response</th>\n",
              "      <th>context</th>\n",
              "    </tr>\n",
              "  </thead>\n",
              "  <tbody>\n",
              "    <tr>\n",
              "      <th>4995</th>\n",
              "      <td>NOT_SARCASM</td>\n",
              "      <td>you dont  i have purchased a lot on amazon  c...</td>\n",
              "      <td>apologies for the inconvenience you faced wit...</td>\n",
              "    </tr>\n",
              "    <tr>\n",
              "      <th>4996</th>\n",
              "      <td>NOT_SARCASM</td>\n",
              "      <td>emotions you say  never knew that i think i  ...</td>\n",
              "      <td>idk tho  i think i  m hungry  but that  s de...</td>\n",
              "    </tr>\n",
              "    <tr>\n",
              "      <th>4997</th>\n",
              "      <td>NOT_SARCASM</td>\n",
              "      <td>you are so right   yes  silence is not priv...</td>\n",
              "      <td>peace to you  and two countries certainly s...</td>\n",
              "    </tr>\n",
              "    <tr>\n",
              "      <th>4998</th>\n",
              "      <td>NOT_SARCASM</td>\n",
              "      <td>another lazy delusional voter who takes the...</td>\n",
              "      <td>bernie sanders told elizabeth warren in privat...</td>\n",
              "    </tr>\n",
              "    <tr>\n",
              "      <th>4999</th>\n",
              "      <td>NOT_SARCASM</td>\n",
              "      <td>i hope you know no news outlet from nigeria ...</td>\n",
              "      <td>pdp protest brainstorming session deji  we nee...</td>\n",
              "    </tr>\n",
              "  </tbody>\n",
              "</table>\n",
              "</div>"
            ],
            "text/plain": [
              "            label  ...                                            context\n",
              "4995  NOT_SARCASM  ...   apologies for the inconvenience you faced wit...\n",
              "4996  NOT_SARCASM  ...    idk tho  i think i  m hungry  but that  s de...\n",
              "4997  NOT_SARCASM  ...     peace to you  and two countries certainly s...\n",
              "4998  NOT_SARCASM  ...  bernie sanders told elizabeth warren in privat...\n",
              "4999  NOT_SARCASM  ...  pdp protest brainstorming session deji  we nee...\n",
              "\n",
              "[5 rows x 3 columns]"
            ]
          },
          "metadata": {
            "tags": []
          },
          "execution_count": 15
        }
      ]
    },
    {
      "cell_type": "code",
      "metadata": {
        "id": "-hDtqoqBAUMR"
      },
      "source": [
        ""
      ],
      "execution_count": null,
      "outputs": []
    },
    {
      "cell_type": "markdown",
      "metadata": {
        "id": "zcVJh3mdAdGY"
      },
      "source": [
        "BERT\n"
      ]
    },
    {
      "cell_type": "code",
      "metadata": {
        "id": "xR5GwnD6AevK"
      },
      "source": [
        "import tensorflow_hub as hub\n",
        "module_url = \"https://tfhub.dev/tensorflow/bert_en_uncased_L-24_H-1024_A-16/1\"\n",
        "bert_layer = hub.KerasLayer(module_url, trainable=True)\n"
      ],
      "execution_count": 16,
      "outputs": []
    },
    {
      "cell_type": "code",
      "metadata": {
        "colab": {
          "base_uri": "https://localhost:8080/"
        },
        "id": "x11_2YFEAgQJ",
        "outputId": "27b4fe87-2302-48e7-9e80-c6fb6aab3b64"
      },
      "source": [
        "bert_layer"
      ],
      "execution_count": 17,
      "outputs": [
        {
          "output_type": "execute_result",
          "data": {
            "text/plain": [
              "<tensorflow_hub.keras_layer.KerasLayer at 0x7f7ff2f7c190>"
            ]
          },
          "metadata": {
            "tags": []
          },
          "execution_count": 17
        }
      ]
    },
    {
      "cell_type": "code",
      "metadata": {
        "id": "mCOSVmE8Ar5N"
      },
      "source": [
        "def bert_encode(texts, tokenizer, max_len=512):\n",
        "    all_tokens = []\n",
        "    all_masks = []\n",
        "    all_segments = []\n",
        "    \n",
        "    for text in texts:\n",
        "        text = tokenizer.tokenize(text)\n",
        "            \n",
        "        text = text[:max_len-2]\n",
        "        input_sequence = [\"[CLS]\"] + text + [\"[SEP]\"]\n",
        "        pad_len = max_len - len(input_sequence)\n",
        "        \n",
        "        tokens = tokenizer.convert_tokens_to_ids(input_sequence)\n",
        "        tokens += [0] * pad_len\n",
        "        pad_masks = [1] * len(input_sequence) + [0] * pad_len\n",
        "        segment_ids = [0] * max_len\n",
        "        \n",
        "        all_tokens.append(tokens)\n",
        "        all_masks.append(pad_masks)\n",
        "        all_segments.append(segment_ids)\n",
        "    \n",
        "    return np.array(all_tokens), np.array(all_masks), np.array(all_segments)"
      ],
      "execution_count": 18,
      "outputs": []
    },
    {
      "cell_type": "code",
      "metadata": {
        "colab": {
          "base_uri": "https://localhost:8080/",
          "height": 1000
        },
        "id": "whKuv9rYAw-8",
        "outputId": "b036630e-7ec9-4cc5-e586-a23937d1a244"
      },
      "source": [
        "\n",
        "!pip install tensorflow==2.1.0\n",
        "!pip install sentencepiece\n",
        "!pip install tensorflow-hub"
      ],
      "execution_count": 20,
      "outputs": [
        {
          "output_type": "stream",
          "text": [
            "Collecting tensorflow==2.1.0\n",
            "\u001b[?25l  Downloading https://files.pythonhosted.org/packages/1d/56/0dbdae2a3c527a119bec0d5cf441655fe030ce1daa6fa6b9542f7dbd8664/tensorflow-2.1.0-cp37-cp37m-manylinux2010_x86_64.whl (421.8MB)\n",
            "\u001b[K     |████████████████████████████████| 421.8MB 32kB/s \n",
            "\u001b[?25hRequirement already satisfied: grpcio>=1.8.6 in /usr/local/lib/python3.7/dist-packages (from tensorflow==2.1.0) (1.34.1)\n",
            "Requirement already satisfied: numpy<2.0,>=1.16.0 in /usr/local/lib/python3.7/dist-packages (from tensorflow==2.1.0) (1.19.5)\n",
            "Requirement already satisfied: six>=1.12.0 in /usr/local/lib/python3.7/dist-packages (from tensorflow==2.1.0) (1.15.0)\n",
            "Requirement already satisfied: termcolor>=1.1.0 in /usr/local/lib/python3.7/dist-packages (from tensorflow==2.1.0) (1.1.0)\n",
            "Requirement already satisfied: absl-py>=0.7.0 in /usr/local/lib/python3.7/dist-packages (from tensorflow==2.1.0) (0.12.0)\n",
            "Requirement already satisfied: astor>=0.6.0 in /usr/local/lib/python3.7/dist-packages (from tensorflow==2.1.0) (0.8.1)\n",
            "Requirement already satisfied: wrapt>=1.11.1 in /usr/local/lib/python3.7/dist-packages (from tensorflow==2.1.0) (1.12.1)\n",
            "Requirement already satisfied: protobuf>=3.8.0 in /usr/local/lib/python3.7/dist-packages (from tensorflow==2.1.0) (3.12.4)\n",
            "Collecting keras-applications>=1.0.8\n",
            "\u001b[?25l  Downloading https://files.pythonhosted.org/packages/71/e3/19762fdfc62877ae9102edf6342d71b28fbfd9dea3d2f96a882ce099b03f/Keras_Applications-1.0.8-py3-none-any.whl (50kB)\n",
            "\u001b[K     |████████████████████████████████| 51kB 6.6MB/s \n",
            "\u001b[?25hRequirement already satisfied: opt-einsum>=2.3.2 in /usr/local/lib/python3.7/dist-packages (from tensorflow==2.1.0) (3.3.0)\n",
            "Requirement already satisfied: google-pasta>=0.1.6 in /usr/local/lib/python3.7/dist-packages (from tensorflow==2.1.0) (0.2.0)\n",
            "Collecting tensorboard<2.2.0,>=2.1.0\n",
            "\u001b[?25l  Downloading https://files.pythonhosted.org/packages/d9/41/bbf49b61370e4f4d245d4c6051dfb6db80cec672605c91b1652ac8cc3d38/tensorboard-2.1.1-py3-none-any.whl (3.8MB)\n",
            "\u001b[K     |████████████████████████████████| 3.9MB 30.3MB/s \n",
            "\u001b[?25hRequirement already satisfied: scipy==1.4.1; python_version >= \"3\" in /usr/local/lib/python3.7/dist-packages (from tensorflow==2.1.0) (1.4.1)\n",
            "Requirement already satisfied: wheel>=0.26; python_version >= \"3\" in /usr/local/lib/python3.7/dist-packages (from tensorflow==2.1.0) (0.36.2)\n",
            "Requirement already satisfied: keras-preprocessing>=1.1.0 in /usr/local/lib/python3.7/dist-packages (from tensorflow==2.1.0) (1.1.2)\n",
            "Collecting gast==0.2.2\n",
            "  Downloading https://files.pythonhosted.org/packages/4e/35/11749bf99b2d4e3cceb4d55ca22590b0d7c2c62b9de38ac4a4a7f4687421/gast-0.2.2.tar.gz\n",
            "Collecting tensorflow-estimator<2.2.0,>=2.1.0rc0\n",
            "\u001b[?25l  Downloading https://files.pythonhosted.org/packages/18/90/b77c328a1304437ab1310b463e533fa7689f4bfc41549593056d812fab8e/tensorflow_estimator-2.1.0-py2.py3-none-any.whl (448kB)\n",
            "\u001b[K     |████████████████████████████████| 450kB 50.0MB/s \n",
            "\u001b[?25hRequirement already satisfied: setuptools in /usr/local/lib/python3.7/dist-packages (from protobuf>=3.8.0->tensorflow==2.1.0) (57.0.0)\n",
            "Requirement already satisfied: h5py in /usr/local/lib/python3.7/dist-packages (from keras-applications>=1.0.8->tensorflow==2.1.0) (3.1.0)\n",
            "Requirement already satisfied: google-auth<2,>=1.6.3 in /usr/local/lib/python3.7/dist-packages (from tensorboard<2.2.0,>=2.1.0->tensorflow==2.1.0) (1.30.0)\n",
            "Requirement already satisfied: requests<3,>=2.21.0 in /usr/local/lib/python3.7/dist-packages (from tensorboard<2.2.0,>=2.1.0->tensorflow==2.1.0) (2.23.0)\n",
            "Requirement already satisfied: google-auth-oauthlib<0.5,>=0.4.1 in /usr/local/lib/python3.7/dist-packages (from tensorboard<2.2.0,>=2.1.0->tensorflow==2.1.0) (0.4.4)\n",
            "Requirement already satisfied: markdown>=2.6.8 in /usr/local/lib/python3.7/dist-packages (from tensorboard<2.2.0,>=2.1.0->tensorflow==2.1.0) (3.3.4)\n",
            "Requirement already satisfied: werkzeug>=0.11.15 in /usr/local/lib/python3.7/dist-packages (from tensorboard<2.2.0,>=2.1.0->tensorflow==2.1.0) (1.0.1)\n",
            "Requirement already satisfied: cached-property; python_version < \"3.8\" in /usr/local/lib/python3.7/dist-packages (from h5py->keras-applications>=1.0.8->tensorflow==2.1.0) (1.5.2)\n",
            "Requirement already satisfied: cachetools<5.0,>=2.0.0 in /usr/local/lib/python3.7/dist-packages (from google-auth<2,>=1.6.3->tensorboard<2.2.0,>=2.1.0->tensorflow==2.1.0) (4.2.2)\n",
            "Requirement already satisfied: pyasn1-modules>=0.2.1 in /usr/local/lib/python3.7/dist-packages (from google-auth<2,>=1.6.3->tensorboard<2.2.0,>=2.1.0->tensorflow==2.1.0) (0.2.8)\n",
            "Requirement already satisfied: rsa<5,>=3.1.4; python_version >= \"3.6\" in /usr/local/lib/python3.7/dist-packages (from google-auth<2,>=1.6.3->tensorboard<2.2.0,>=2.1.0->tensorflow==2.1.0) (4.7.2)\n",
            "Requirement already satisfied: urllib3!=1.25.0,!=1.25.1,<1.26,>=1.21.1 in /usr/local/lib/python3.7/dist-packages (from requests<3,>=2.21.0->tensorboard<2.2.0,>=2.1.0->tensorflow==2.1.0) (1.24.3)\n",
            "Requirement already satisfied: chardet<4,>=3.0.2 in /usr/local/lib/python3.7/dist-packages (from requests<3,>=2.21.0->tensorboard<2.2.0,>=2.1.0->tensorflow==2.1.0) (3.0.4)\n",
            "Requirement already satisfied: certifi>=2017.4.17 in /usr/local/lib/python3.7/dist-packages (from requests<3,>=2.21.0->tensorboard<2.2.0,>=2.1.0->tensorflow==2.1.0) (2020.12.5)\n",
            "Requirement already satisfied: idna<3,>=2.5 in /usr/local/lib/python3.7/dist-packages (from requests<3,>=2.21.0->tensorboard<2.2.0,>=2.1.0->tensorflow==2.1.0) (2.10)\n",
            "Requirement already satisfied: requests-oauthlib>=0.7.0 in /usr/local/lib/python3.7/dist-packages (from google-auth-oauthlib<0.5,>=0.4.1->tensorboard<2.2.0,>=2.1.0->tensorflow==2.1.0) (1.3.0)\n",
            "Requirement already satisfied: importlib-metadata; python_version < \"3.8\" in /usr/local/lib/python3.7/dist-packages (from markdown>=2.6.8->tensorboard<2.2.0,>=2.1.0->tensorflow==2.1.0) (4.0.1)\n",
            "Requirement already satisfied: pyasn1<0.5.0,>=0.4.6 in /usr/local/lib/python3.7/dist-packages (from pyasn1-modules>=0.2.1->google-auth<2,>=1.6.3->tensorboard<2.2.0,>=2.1.0->tensorflow==2.1.0) (0.4.8)\n",
            "Requirement already satisfied: oauthlib>=3.0.0 in /usr/local/lib/python3.7/dist-packages (from requests-oauthlib>=0.7.0->google-auth-oauthlib<0.5,>=0.4.1->tensorboard<2.2.0,>=2.1.0->tensorflow==2.1.0) (3.1.0)\n",
            "Requirement already satisfied: zipp>=0.5 in /usr/local/lib/python3.7/dist-packages (from importlib-metadata; python_version < \"3.8\"->markdown>=2.6.8->tensorboard<2.2.0,>=2.1.0->tensorflow==2.1.0) (3.4.1)\n",
            "Requirement already satisfied: typing-extensions>=3.6.4; python_version < \"3.8\" in /usr/local/lib/python3.7/dist-packages (from importlib-metadata; python_version < \"3.8\"->markdown>=2.6.8->tensorboard<2.2.0,>=2.1.0->tensorflow==2.1.0) (3.7.4.3)\n",
            "Building wheels for collected packages: gast\n",
            "  Building wheel for gast (setup.py) ... \u001b[?25l\u001b[?25hdone\n",
            "  Created wheel for gast: filename=gast-0.2.2-cp37-none-any.whl size=7557 sha256=2a4675927b3618e3380774875c7b38b2ab8d39fe8b5fd5bc8518a1a6c77492e6\n",
            "  Stored in directory: /root/.cache/pip/wheels/5c/2e/7e/a1d4d4fcebe6c381f378ce7743a3ced3699feb89bcfbdadadd\n",
            "Successfully built gast\n",
            "\u001b[31mERROR: tensorflow-probability 0.12.1 has requirement gast>=0.3.2, but you'll have gast 0.2.2 which is incompatible.\u001b[0m\n",
            "Installing collected packages: keras-applications, tensorboard, gast, tensorflow-estimator, tensorflow\n",
            "  Found existing installation: tensorboard 2.5.0\n",
            "    Uninstalling tensorboard-2.5.0:\n",
            "      Successfully uninstalled tensorboard-2.5.0\n",
            "  Found existing installation: gast 0.4.0\n",
            "    Uninstalling gast-0.4.0:\n",
            "      Successfully uninstalled gast-0.4.0\n",
            "  Found existing installation: tensorflow-estimator 2.5.0\n",
            "    Uninstalling tensorflow-estimator-2.5.0:\n",
            "      Successfully uninstalled tensorflow-estimator-2.5.0\n",
            "  Found existing installation: tensorflow 2.5.0\n",
            "    Uninstalling tensorflow-2.5.0:\n",
            "      Successfully uninstalled tensorflow-2.5.0\n",
            "Successfully installed gast-0.2.2 keras-applications-1.0.8 tensorboard-2.1.1 tensorflow-2.1.0 tensorflow-estimator-2.1.0\n"
          ],
          "name": "stdout"
        },
        {
          "output_type": "display_data",
          "data": {
            "application/vnd.colab-display-data+json": {
              "pip_warning": {
                "packages": [
                  "gast",
                  "tensorboard",
                  "tensorflow",
                  "tensorflow_estimator"
                ]
              }
            }
          },
          "metadata": {
            "tags": []
          }
        },
        {
          "output_type": "stream",
          "text": [
            "Collecting sentencepiece\n",
            "\u001b[?25l  Downloading https://files.pythonhosted.org/packages/f5/99/e0808cb947ba10f575839c43e8fafc9cc44e4a7a2c8f79c60db48220a577/sentencepiece-0.1.95-cp37-cp37m-manylinux2014_x86_64.whl (1.2MB)\n",
            "\r\u001b[K     |▎                               | 10kB 15.3MB/s eta 0:00:01\r\u001b[K     |▌                               | 20kB 22.0MB/s eta 0:00:01\r\u001b[K     |▉                               | 30kB 25.5MB/s eta 0:00:01\r\u001b[K     |█                               | 40kB 20.6MB/s eta 0:00:01\r\u001b[K     |█▍                              | 51kB 17.1MB/s eta 0:00:01\r\u001b[K     |█▋                              | 61kB 13.5MB/s eta 0:00:01\r\u001b[K     |██                              | 71kB 13.7MB/s eta 0:00:01\r\u001b[K     |██▏                             | 81kB 14.8MB/s eta 0:00:01\r\u001b[K     |██▌                             | 92kB 13.1MB/s eta 0:00:01\r\u001b[K     |██▊                             | 102kB 14.2MB/s eta 0:00:01\r\u001b[K     |███                             | 112kB 14.2MB/s eta 0:00:01\r\u001b[K     |███▎                            | 122kB 14.2MB/s eta 0:00:01\r\u001b[K     |███▌                            | 133kB 14.2MB/s eta 0:00:01\r\u001b[K     |███▉                            | 143kB 14.2MB/s eta 0:00:01\r\u001b[K     |████                            | 153kB 14.2MB/s eta 0:00:01\r\u001b[K     |████▍                           | 163kB 14.2MB/s eta 0:00:01\r\u001b[K     |████▋                           | 174kB 14.2MB/s eta 0:00:01\r\u001b[K     |█████                           | 184kB 14.2MB/s eta 0:00:01\r\u001b[K     |█████▏                          | 194kB 14.2MB/s eta 0:00:01\r\u001b[K     |█████▌                          | 204kB 14.2MB/s eta 0:00:01\r\u001b[K     |█████▊                          | 215kB 14.2MB/s eta 0:00:01\r\u001b[K     |██████                          | 225kB 14.2MB/s eta 0:00:01\r\u001b[K     |██████▎                         | 235kB 14.2MB/s eta 0:00:01\r\u001b[K     |██████▌                         | 245kB 14.2MB/s eta 0:00:01\r\u001b[K     |██████▉                         | 256kB 14.2MB/s eta 0:00:01\r\u001b[K     |███████                         | 266kB 14.2MB/s eta 0:00:01\r\u001b[K     |███████▍                        | 276kB 14.2MB/s eta 0:00:01\r\u001b[K     |███████▋                        | 286kB 14.2MB/s eta 0:00:01\r\u001b[K     |████████                        | 296kB 14.2MB/s eta 0:00:01\r\u001b[K     |████████▏                       | 307kB 14.2MB/s eta 0:00:01\r\u001b[K     |████████▍                       | 317kB 14.2MB/s eta 0:00:01\r\u001b[K     |████████▊                       | 327kB 14.2MB/s eta 0:00:01\r\u001b[K     |█████████                       | 337kB 14.2MB/s eta 0:00:01\r\u001b[K     |█████████▎                      | 348kB 14.2MB/s eta 0:00:01\r\u001b[K     |█████████▌                      | 358kB 14.2MB/s eta 0:00:01\r\u001b[K     |█████████▉                      | 368kB 14.2MB/s eta 0:00:01\r\u001b[K     |██████████                      | 378kB 14.2MB/s eta 0:00:01\r\u001b[K     |██████████▍                     | 389kB 14.2MB/s eta 0:00:01\r\u001b[K     |██████████▋                     | 399kB 14.2MB/s eta 0:00:01\r\u001b[K     |███████████                     | 409kB 14.2MB/s eta 0:00:01\r\u001b[K     |███████████▏                    | 419kB 14.2MB/s eta 0:00:01\r\u001b[K     |███████████▍                    | 430kB 14.2MB/s eta 0:00:01\r\u001b[K     |███████████▊                    | 440kB 14.2MB/s eta 0:00:01\r\u001b[K     |████████████                    | 450kB 14.2MB/s eta 0:00:01\r\u001b[K     |████████████▎                   | 460kB 14.2MB/s eta 0:00:01\r\u001b[K     |████████████▌                   | 471kB 14.2MB/s eta 0:00:01\r\u001b[K     |████████████▉                   | 481kB 14.2MB/s eta 0:00:01\r\u001b[K     |█████████████                   | 491kB 14.2MB/s eta 0:00:01\r\u001b[K     |█████████████▍                  | 501kB 14.2MB/s eta 0:00:01\r\u001b[K     |█████████████▋                  | 512kB 14.2MB/s eta 0:00:01\r\u001b[K     |█████████████▉                  | 522kB 14.2MB/s eta 0:00:01\r\u001b[K     |██████████████▏                 | 532kB 14.2MB/s eta 0:00:01\r\u001b[K     |██████████████▍                 | 542kB 14.2MB/s eta 0:00:01\r\u001b[K     |██████████████▊                 | 552kB 14.2MB/s eta 0:00:01\r\u001b[K     |███████████████                 | 563kB 14.2MB/s eta 0:00:01\r\u001b[K     |███████████████▎                | 573kB 14.2MB/s eta 0:00:01\r\u001b[K     |███████████████▌                | 583kB 14.2MB/s eta 0:00:01\r\u001b[K     |███████████████▉                | 593kB 14.2MB/s eta 0:00:01\r\u001b[K     |████████████████                | 604kB 14.2MB/s eta 0:00:01\r\u001b[K     |████████████████▍               | 614kB 14.2MB/s eta 0:00:01\r\u001b[K     |████████████████▋               | 624kB 14.2MB/s eta 0:00:01\r\u001b[K     |████████████████▉               | 634kB 14.2MB/s eta 0:00:01\r\u001b[K     |█████████████████▏              | 645kB 14.2MB/s eta 0:00:01\r\u001b[K     |█████████████████▍              | 655kB 14.2MB/s eta 0:00:01\r\u001b[K     |█████████████████▊              | 665kB 14.2MB/s eta 0:00:01\r\u001b[K     |██████████████████              | 675kB 14.2MB/s eta 0:00:01\r\u001b[K     |██████████████████▎             | 686kB 14.2MB/s eta 0:00:01\r\u001b[K     |██████████████████▌             | 696kB 14.2MB/s eta 0:00:01\r\u001b[K     |██████████████████▉             | 706kB 14.2MB/s eta 0:00:01\r\u001b[K     |███████████████████             | 716kB 14.2MB/s eta 0:00:01\r\u001b[K     |███████████████████▎            | 727kB 14.2MB/s eta 0:00:01\r\u001b[K     |███████████████████▋            | 737kB 14.2MB/s eta 0:00:01\r\u001b[K     |███████████████████▉            | 747kB 14.2MB/s eta 0:00:01\r\u001b[K     |████████████████████▏           | 757kB 14.2MB/s eta 0:00:01\r\u001b[K     |████████████████████▍           | 768kB 14.2MB/s eta 0:00:01\r\u001b[K     |████████████████████▊           | 778kB 14.2MB/s eta 0:00:01\r\u001b[K     |█████████████████████           | 788kB 14.2MB/s eta 0:00:01\r\u001b[K     |█████████████████████▎          | 798kB 14.2MB/s eta 0:00:01\r\u001b[K     |█████████████████████▌          | 808kB 14.2MB/s eta 0:00:01\r\u001b[K     |█████████████████████▉          | 819kB 14.2MB/s eta 0:00:01\r\u001b[K     |██████████████████████          | 829kB 14.2MB/s eta 0:00:01\r\u001b[K     |██████████████████████▎         | 839kB 14.2MB/s eta 0:00:01\r\u001b[K     |██████████████████████▋         | 849kB 14.2MB/s eta 0:00:01\r\u001b[K     |██████████████████████▉         | 860kB 14.2MB/s eta 0:00:01\r\u001b[K     |███████████████████████▏        | 870kB 14.2MB/s eta 0:00:01\r\u001b[K     |███████████████████████▍        | 880kB 14.2MB/s eta 0:00:01\r\u001b[K     |███████████████████████▊        | 890kB 14.2MB/s eta 0:00:01\r\u001b[K     |████████████████████████        | 901kB 14.2MB/s eta 0:00:01\r\u001b[K     |████████████████████████▎       | 911kB 14.2MB/s eta 0:00:01\r\u001b[K     |████████████████████████▌       | 921kB 14.2MB/s eta 0:00:01\r\u001b[K     |████████████████████████▊       | 931kB 14.2MB/s eta 0:00:01\r\u001b[K     |█████████████████████████       | 942kB 14.2MB/s eta 0:00:01\r\u001b[K     |█████████████████████████▎      | 952kB 14.2MB/s eta 0:00:01\r\u001b[K     |█████████████████████████▋      | 962kB 14.2MB/s eta 0:00:01\r\u001b[K     |█████████████████████████▉      | 972kB 14.2MB/s eta 0:00:01\r\u001b[K     |██████████████████████████▏     | 983kB 14.2MB/s eta 0:00:01\r\u001b[K     |██████████████████████████▍     | 993kB 14.2MB/s eta 0:00:01\r\u001b[K     |██████████████████████████▊     | 1.0MB 14.2MB/s eta 0:00:01\r\u001b[K     |███████████████████████████     | 1.0MB 14.2MB/s eta 0:00:01\r\u001b[K     |███████████████████████████▎    | 1.0MB 14.2MB/s eta 0:00:01\r\u001b[K     |███████████████████████████▌    | 1.0MB 14.2MB/s eta 0:00:01\r\u001b[K     |███████████████████████████▊    | 1.0MB 14.2MB/s eta 0:00:01\r\u001b[K     |████████████████████████████    | 1.1MB 14.2MB/s eta 0:00:01\r\u001b[K     |████████████████████████████▎   | 1.1MB 14.2MB/s eta 0:00:01\r\u001b[K     |████████████████████████████▋   | 1.1MB 14.2MB/s eta 0:00:01\r\u001b[K     |████████████████████████████▉   | 1.1MB 14.2MB/s eta 0:00:01\r\u001b[K     |█████████████████████████████▏  | 1.1MB 14.2MB/s eta 0:00:01\r\u001b[K     |█████████████████████████████▍  | 1.1MB 14.2MB/s eta 0:00:01\r\u001b[K     |█████████████████████████████▊  | 1.1MB 14.2MB/s eta 0:00:01\r\u001b[K     |██████████████████████████████  | 1.1MB 14.2MB/s eta 0:00:01\r\u001b[K     |██████████████████████████████▏ | 1.1MB 14.2MB/s eta 0:00:01\r\u001b[K     |██████████████████████████████▌ | 1.1MB 14.2MB/s eta 0:00:01\r\u001b[K     |██████████████████████████████▊ | 1.2MB 14.2MB/s eta 0:00:01\r\u001b[K     |███████████████████████████████ | 1.2MB 14.2MB/s eta 0:00:01\r\u001b[K     |███████████████████████████████▎| 1.2MB 14.2MB/s eta 0:00:01\r\u001b[K     |███████████████████████████████▋| 1.2MB 14.2MB/s eta 0:00:01\r\u001b[K     |███████████████████████████████▉| 1.2MB 14.2MB/s eta 0:00:01\r\u001b[K     |████████████████████████████████| 1.2MB 14.2MB/s \n",
            "\u001b[?25hInstalling collected packages: sentencepiece\n",
            "Successfully installed sentencepiece-0.1.95\n",
            "Requirement already satisfied: tensorflow-hub in /usr/local/lib/python3.7/dist-packages (0.12.0)\n",
            "Requirement already satisfied: protobuf>=3.8.0 in /usr/local/lib/python3.7/dist-packages (from tensorflow-hub) (3.12.4)\n",
            "Requirement already satisfied: numpy>=1.12.0 in /usr/local/lib/python3.7/dist-packages (from tensorflow-hub) (1.19.5)\n",
            "Requirement already satisfied: setuptools in /usr/local/lib/python3.7/dist-packages (from protobuf>=3.8.0->tensorflow-hub) (57.0.0)\n",
            "Requirement already satisfied: six>=1.9 in /usr/local/lib/python3.7/dist-packages (from protobuf>=3.8.0->tensorflow-hub) (1.15.0)\n"
          ],
          "name": "stdout"
        }
      ]
    },
    {
      "cell_type": "code",
      "metadata": {
        "id": "LlnvRv39A1aL"
      },
      "source": [
        "import nltk\n",
        "\n",
        "\n",
        "vocab_file = bert_layer.resolved_object.vocab_file.asset_path.numpy()\n",
        "do_lower_case = bert_layer.resolved_object.do_lower_case.numpy()\n"
      ],
      "execution_count": 26,
      "outputs": []
    },
    {
      "cell_type": "code",
      "metadata": {
        "id": "pXAT-OuDCHMs"
      },
      "source": [
        ""
      ],
      "execution_count": null,
      "outputs": []
    },
    {
      "cell_type": "markdown",
      "metadata": {
        "id": "Kd8YPCM9En9t"
      },
      "source": [
        "TEST"
      ]
    },
    {
      "cell_type": "code",
      "metadata": {
        "colab": {
          "base_uri": "https://localhost:8080/",
          "height": 195
        },
        "id": "fWm8l85WEo29",
        "outputId": "6f231d40-ce89-4908-c73b-a9159d3378d1"
      },
      "source": [
        "twitter_test=pd.read_json('twitter_test.jsonl',lines=True)\n",
        "twitter_test.head()"
      ],
      "execution_count": 27,
      "outputs": [
        {
          "output_type": "execute_result",
          "data": {
            "text/html": [
              "<div>\n",
              "<style scoped>\n",
              "    .dataframe tbody tr th:only-of-type {\n",
              "        vertical-align: middle;\n",
              "    }\n",
              "\n",
              "    .dataframe tbody tr th {\n",
              "        vertical-align: top;\n",
              "    }\n",
              "\n",
              "    .dataframe thead th {\n",
              "        text-align: right;\n",
              "    }\n",
              "</style>\n",
              "<table border=\"1\" class=\"dataframe\">\n",
              "  <thead>\n",
              "    <tr style=\"text-align: right;\">\n",
              "      <th></th>\n",
              "      <th>context</th>\n",
              "      <th>response</th>\n",
              "      <th>id</th>\n",
              "    </tr>\n",
              "  </thead>\n",
              "  <tbody>\n",
              "    <tr>\n",
              "      <th>0</th>\n",
              "      <td>[Well now that ’ s problematic AF &lt;URL&gt;, @USER...</td>\n",
              "      <td>@USER @USER @USER My 3 year old , that just fi...</td>\n",
              "      <td>twitter_1</td>\n",
              "    </tr>\n",
              "    <tr>\n",
              "      <th>1</th>\n",
              "      <td>[Last week the Fake News said that a section o...</td>\n",
              "      <td>@USER @USER How many verifiable lies has he to...</td>\n",
              "      <td>twitter_2</td>\n",
              "    </tr>\n",
              "    <tr>\n",
              "      <th>2</th>\n",
              "      <td>[@USER Let ’ s Aplaud Brett When he deserves i...</td>\n",
              "      <td>@USER @USER @USER Maybe Docs just a scrub of a...</td>\n",
              "      <td>twitter_3</td>\n",
              "    </tr>\n",
              "    <tr>\n",
              "      <th>3</th>\n",
              "      <td>[Women generally hate this president . What's ...</td>\n",
              "      <td>@USER @USER is just a cover up for the real ha...</td>\n",
              "      <td>twitter_4</td>\n",
              "    </tr>\n",
              "    <tr>\n",
              "      <th>4</th>\n",
              "      <td>[Dear media Remoaners , you excitedly sharing ...</td>\n",
              "      <td>@USER @USER @USER The irony being that he even...</td>\n",
              "      <td>twitter_5</td>\n",
              "    </tr>\n",
              "  </tbody>\n",
              "</table>\n",
              "</div>"
            ],
            "text/plain": [
              "                                             context  ...         id\n",
              "0  [Well now that ’ s problematic AF <URL>, @USER...  ...  twitter_1\n",
              "1  [Last week the Fake News said that a section o...  ...  twitter_2\n",
              "2  [@USER Let ’ s Aplaud Brett When he deserves i...  ...  twitter_3\n",
              "3  [Women generally hate this president . What's ...  ...  twitter_4\n",
              "4  [Dear media Remoaners , you excitedly sharing ...  ...  twitter_5\n",
              "\n",
              "[5 rows x 3 columns]"
            ]
          },
          "metadata": {
            "tags": []
          },
          "execution_count": 27
        }
      ]
    },
    {
      "cell_type": "code",
      "metadata": {
        "id": "UpIDUoqaEsyo"
      },
      "source": [
        "twitter_test['response']=twitter_test['response'].str.replace('@USER', \"\") \n",
        "twitter_test['response']=twitter_test['response'].str.replace('\\d+', '')\n",
        "twitter_test['response']=twitter_test['response'].str.lower()\n",
        "twitter_test['response']=twitter_test['response'].str.replace('[^\\w\\s]','')\n",
        "twitter_test['context']=twitter_test['context'].apply(lambda x: ','.join(map(str, x)))\n",
        "twitter_test['context']=twitter_test['context'].str.replace('@USER', \"\") \n",
        "twitter_test['context']=twitter_test['context'].str.lower()\n",
        "twitter_test['context']=twitter_test['context'].str.replace('[^\\w\\s]','')\n",
        "twitter_test['context']=twitter_test['context'].str.replace('\\d+', '')"
      ],
      "execution_count": 28,
      "outputs": []
    },
    {
      "cell_type": "code",
      "metadata": {
        "colab": {
          "base_uri": "https://localhost:8080/",
          "height": 195
        },
        "id": "GvGXek3KEw9f",
        "outputId": "c6c787b3-5d54-4b3e-c134-76f9f752cf1f"
      },
      "source": [
        "twitter_test.head()"
      ],
      "execution_count": 29,
      "outputs": [
        {
          "output_type": "execute_result",
          "data": {
            "text/html": [
              "<div>\n",
              "<style scoped>\n",
              "    .dataframe tbody tr th:only-of-type {\n",
              "        vertical-align: middle;\n",
              "    }\n",
              "\n",
              "    .dataframe tbody tr th {\n",
              "        vertical-align: top;\n",
              "    }\n",
              "\n",
              "    .dataframe thead th {\n",
              "        text-align: right;\n",
              "    }\n",
              "</style>\n",
              "<table border=\"1\" class=\"dataframe\">\n",
              "  <thead>\n",
              "    <tr style=\"text-align: right;\">\n",
              "      <th></th>\n",
              "      <th>context</th>\n",
              "      <th>response</th>\n",
              "      <th>id</th>\n",
              "    </tr>\n",
              "  </thead>\n",
              "  <tbody>\n",
              "    <tr>\n",
              "      <th>0</th>\n",
              "      <td>well now that  s problematic af url  my  year ...</td>\n",
              "      <td>my  year old  that just finished reading ni...</td>\n",
              "      <td>twitter_1</td>\n",
              "    </tr>\n",
              "    <tr>\n",
              "      <th>1</th>\n",
              "      <td>last week the fake news said that a section of...</td>\n",
              "      <td>how many verifiable lies has he told now   d...</td>\n",
              "      <td>twitter_2</td>\n",
              "    </tr>\n",
              "    <tr>\n",
              "      <th>2</th>\n",
              "      <td>let  s aplaud brett when he deserves it he co...</td>\n",
              "      <td>maybe docs just a scrub of a coach  i mean ...</td>\n",
              "      <td>twitter_3</td>\n",
              "    </tr>\n",
              "    <tr>\n",
              "      <th>3</th>\n",
              "      <td>women generally hate this president  whats up ...</td>\n",
              "      <td>is just a cover up for the real hate inside ...</td>\n",
              "      <td>twitter_4</td>\n",
              "    </tr>\n",
              "    <tr>\n",
              "      <th>4</th>\n",
              "      <td>dear media remoaners  you excitedly sharing cl...</td>\n",
              "      <td>the irony being that he even has to ask why</td>\n",
              "      <td>twitter_5</td>\n",
              "    </tr>\n",
              "  </tbody>\n",
              "</table>\n",
              "</div>"
            ],
            "text/plain": [
              "                                             context  ...         id\n",
              "0  well now that  s problematic af url  my  year ...  ...  twitter_1\n",
              "1  last week the fake news said that a section of...  ...  twitter_2\n",
              "2   let  s aplaud brett when he deserves it he co...  ...  twitter_3\n",
              "3  women generally hate this president  whats up ...  ...  twitter_4\n",
              "4  dear media remoaners  you excitedly sharing cl...  ...  twitter_5\n",
              "\n",
              "[5 rows x 3 columns]"
            ]
          },
          "metadata": {
            "tags": []
          },
          "execution_count": 29
        }
      ]
    },
    {
      "cell_type": "code",
      "metadata": {
        "colab": {
          "base_uri": "https://localhost:8080/",
          "height": 195
        },
        "id": "nz87dv_LE0vW",
        "outputId": "080ceab4-3c54-4876-cfd6-fffb560230c2"
      },
      "source": [
        "twitter_test.tail()"
      ],
      "execution_count": 30,
      "outputs": [
        {
          "output_type": "execute_result",
          "data": {
            "text/html": [
              "<div>\n",
              "<style scoped>\n",
              "    .dataframe tbody tr th:only-of-type {\n",
              "        vertical-align: middle;\n",
              "    }\n",
              "\n",
              "    .dataframe tbody tr th {\n",
              "        vertical-align: top;\n",
              "    }\n",
              "\n",
              "    .dataframe thead th {\n",
              "        text-align: right;\n",
              "    }\n",
              "</style>\n",
              "<table border=\"1\" class=\"dataframe\">\n",
              "  <thead>\n",
              "    <tr style=\"text-align: right;\">\n",
              "      <th></th>\n",
              "      <th>context</th>\n",
              "      <th>response</th>\n",
              "      <th>id</th>\n",
              "    </tr>\n",
              "  </thead>\n",
              "  <tbody>\n",
              "    <tr>\n",
              "      <th>1795</th>\n",
              "      <td>i have been a business customer of mweb  for  ...</td>\n",
              "      <td>is definitely the best out there  no questi...</td>\n",
              "      <td>twitter_1796</td>\n",
              "    </tr>\n",
              "    <tr>\n",
              "      <th>1796</th>\n",
              "      <td>a woman refuses to have her temperature taken ...</td>\n",
              "      <td>ye let her out run wild and infect  more chi...</td>\n",
              "      <td>twitter_1797</td>\n",
              "    </tr>\n",
              "    <tr>\n",
              "      <th>1797</th>\n",
              "      <td>the reason big government wants  out is becaus...</td>\n",
              "      <td>thanks for that  i would have never known</td>\n",
              "      <td>twitter_1798</td>\n",
              "    </tr>\n",
              "    <tr>\n",
              "      <th>1798</th>\n",
              "      <td>happy musicmonday and thanks for all your     ...</td>\n",
              "      <td>yes also found this on new with loads of url a</td>\n",
              "      <td>twitter_1799</td>\n",
              "    </tr>\n",
              "    <tr>\n",
              "      <th>1799</th>\n",
              "      <td>not long wrapped on the amazing januarynd writ...</td>\n",
              "      <td>you still need to send the link to the fan ...</td>\n",
              "      <td>twitter_1800</td>\n",
              "    </tr>\n",
              "  </tbody>\n",
              "</table>\n",
              "</div>"
            ],
            "text/plain": [
              "                                                context  ...            id\n",
              "1795  i have been a business customer of mweb  for  ...  ...  twitter_1796\n",
              "1796  a woman refuses to have her temperature taken ...  ...  twitter_1797\n",
              "1797  the reason big government wants  out is becaus...  ...  twitter_1798\n",
              "1798  happy musicmonday and thanks for all your     ...  ...  twitter_1799\n",
              "1799  not long wrapped on the amazing januarynd writ...  ...  twitter_1800\n",
              "\n",
              "[5 rows x 3 columns]"
            ]
          },
          "metadata": {
            "tags": []
          },
          "execution_count": 30
        }
      ]
    },
    {
      "cell_type": "code",
      "metadata": {
        "id": "Z3pP0wy6E314"
      },
      "source": [
        ""
      ],
      "execution_count": null,
      "outputs": []
    }
  ]
}